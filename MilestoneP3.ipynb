{
 "cells": [
  {
   "cell_type": "code",
   "execution_count": 1,
   "metadata": {},
   "outputs": [],
   "source": [
    "%load_ext autoreload\n",
    "%autoreload 2"
   ]
  },
  {
   "cell_type": "code",
   "execution_count": 2,
   "metadata": {},
   "outputs": [],
   "source": [
    "import pandas as pd\n",
    "import numpy as np\n",
    "import matplotlib.pyplot as plt\n",
    "import seaborn as sns\n",
    "import statsmodels.formula.api as smf\n",
    "sns.set(style='whitegrid')"
   ]
  },
  {
   "cell_type": "markdown",
   "metadata": {},
   "source": [
    "---\n",
    "# I. Exploratory Data Analysis"
   ]
  },
  {
   "cell_type": "code",
   "execution_count": 3,
   "metadata": {},
   "outputs": [
    {
     "name": "stdout",
     "output_type": "stream",
     "text": [
      "Tokenization took: 7.98 ms\n",
      "Type conversion took: 3.99 ms\n",
      "Parser memory cleanup took: 0.00 ms\n",
      "Tokenization took: 6.98 ms\n",
      "Type conversion took: 4.99 ms\n",
      "Parser memory cleanup took: 0.00 ms\n",
      "\n",
      "Below the parsed data types :\n",
      " Language             object\n",
      "Article              object\n",
      "Date         datetime64[ns]\n",
      "Pageviews             int64\n",
      "dtype: object\n",
      "\n",
      "Data frame of dimensions (29220, 4)\n",
      "The dataset includes 30 different articles.\n",
      "\n",
      " ['abu_sayyaf' 'al-qaeda' 'al-qaeda_in_the_arabian_peninsula'\n",
      " 'al-qaeda_in_the_islamic_maghreb' 'al-shabaab' 'biological_weapon'\n",
      " 'car_bomb' 'chemical_weapon' 'conventional_weapon' 'dirty_bomb'\n",
      " 'eco-terrorism' 'environmental_terrorism' 'euskadi_ta_askatasuna' 'farc'\n",
      " 'hezbollah' 'improvised_explosive_device' 'islamist' 'jihad' 'nuclear'\n",
      " 'nuclear_enrichment' 'palestine_liberation_front' 'political_radicalism'\n",
      " 'recruitment' 'suicide_attack' 'suicide_bomber' 'taliban'\n",
      " 'tehrik-i-taliban_pakistan' 'terror' 'terrorism' 'weapons-grade'] \n",
      "\n",
      "The studied period starts the 2012-01-01 to the 2014-08-31 (32 months).\n",
      "\n"
     ]
    },
    {
     "data": {
      "text/html": [
       "<div>\n",
       "<style scoped>\n",
       "    .dataframe tbody tr th:only-of-type {\n",
       "        vertical-align: middle;\n",
       "    }\n",
       "\n",
       "    .dataframe tbody tr th {\n",
       "        vertical-align: top;\n",
       "    }\n",
       "\n",
       "    .dataframe thead th {\n",
       "        text-align: right;\n",
       "    }\n",
       "</style>\n",
       "<table border=\"1\" class=\"dataframe\">\n",
       "  <thead>\n",
       "    <tr style=\"text-align: right;\">\n",
       "      <th></th>\n",
       "      <th>Language</th>\n",
       "      <th>Article</th>\n",
       "      <th>Date</th>\n",
       "      <th>Pageviews</th>\n",
       "    </tr>\n",
       "  </thead>\n",
       "  <tbody>\n",
       "    <tr>\n",
       "      <th>1480</th>\n",
       "      <td>en</td>\n",
       "      <td>abu_sayyaf</td>\n",
       "      <td>2012-01-01</td>\n",
       "      <td>254</td>\n",
       "    </tr>\n",
       "    <tr>\n",
       "      <th>1</th>\n",
       "      <td>en</td>\n",
       "      <td>al-qaeda</td>\n",
       "      <td>2012-01-01</td>\n",
       "      <td>2688</td>\n",
       "    </tr>\n",
       "    <tr>\n",
       "      <th>13000</th>\n",
       "      <td>en</td>\n",
       "      <td>al-qaeda_in_the_arabian_peninsula</td>\n",
       "      <td>2012-01-01</td>\n",
       "      <td>104</td>\n",
       "    </tr>\n",
       "    <tr>\n",
       "      <th>13407</th>\n",
       "      <td>en</td>\n",
       "      <td>al-qaeda_in_the_islamic_maghreb</td>\n",
       "      <td>2012-01-01</td>\n",
       "      <td>8</td>\n",
       "    </tr>\n",
       "    <tr>\n",
       "      <th>13436</th>\n",
       "      <td>en</td>\n",
       "      <td>al-shabaab</td>\n",
       "      <td>2012-01-01</td>\n",
       "      <td>951</td>\n",
       "    </tr>\n",
       "  </tbody>\n",
       "</table>\n",
       "</div>"
      ],
      "text/plain": [
       "      Language                            Article       Date  Pageviews\n",
       "1480        en                         abu_sayyaf 2012-01-01        254\n",
       "1           en                           al-qaeda 2012-01-01       2688\n",
       "13000       en  al-qaeda_in_the_arabian_peninsula 2012-01-01        104\n",
       "13407       en    al-qaeda_in_the_islamic_maghreb 2012-01-01          8\n",
       "13436       en                         al-shabaab 2012-01-01        951"
      ]
     },
     "execution_count": 3,
     "metadata": {},
     "output_type": "execute_result"
    }
   ],
   "source": [
    "## Loading the data\n",
    "\n",
    "data_path = \"data/\"\n",
    "\n",
    "# Load the data\n",
    "data = pd.read_csv(data_path+'terrorism_data_30.csv', \n",
    "                   header=0, names=['Language', 'Article', 'Date', 'Pageviews'],\n",
    "                  index_col=0,\n",
    "                  verbose = True, # Verify if there are any NaNs\n",
    "                  parse_dates = [2], infer_datetime_format=True)\n",
    "data_security = pd.read_csv(data_path+'domestic_data.csv', \n",
    "                   header=0, names=['Language', 'Article', 'Date', 'Pageviews'],\n",
    "                  index_col=0,\n",
    "                  verbose = True, # Verify if there are any NaNs\n",
    "                  parse_dates = [2], infer_datetime_format=True)\n",
    "\n",
    "\n",
    "print(\"\\nBelow the parsed data types :\\n\", data.dtypes)\n",
    "print(\"\\nData frame of dimensions\", data.shape)\n",
    "print(f\"The dataset includes {data.Article.unique().size} different articles.\")\n",
    "print('\\n', data.Article.unique(), '\\n')\n",
    "startdate, enddate = data.Date.min().date(), data.Date.max().date()\n",
    "period = 12 * (enddate.year - startdate.year) + (enddate.month - startdate.month) +1\n",
    "print(f\"The studied period starts the {startdate} to the {enddate} ({period} months).\\n\")\n",
    "\n",
    "data.head()"
   ]
  },
  {
   "cell_type": "code",
   "execution_count": 4,
   "metadata": {},
   "outputs": [
    {
     "name": "stdout",
     "output_type": "stream",
     "text": [
      "Are the values in the first column unique ?  True\n",
      "If unique, indicates the first column can be used as an index.\n",
      "\n"
     ]
    },
    {
     "data": {
      "text/html": [
       "<div>\n",
       "<style scoped>\n",
       "    .dataframe tbody tr th:only-of-type {\n",
       "        vertical-align: middle;\n",
       "    }\n",
       "\n",
       "    .dataframe tbody tr th {\n",
       "        vertical-align: top;\n",
       "    }\n",
       "\n",
       "    .dataframe thead th {\n",
       "        text-align: right;\n",
       "    }\n",
       "</style>\n",
       "<table border=\"1\" class=\"dataframe\">\n",
       "  <thead>\n",
       "    <tr style=\"text-align: right;\">\n",
       "      <th></th>\n",
       "      <th>Language</th>\n",
       "      <th>Article</th>\n",
       "      <th>Date</th>\n",
       "      <th>Pageviews</th>\n",
       "    </tr>\n",
       "  </thead>\n",
       "  <tbody>\n",
       "    <tr>\n",
       "      <th>1</th>\n",
       "      <td>en</td>\n",
       "      <td>al-qaeda</td>\n",
       "      <td>2012-01-01</td>\n",
       "      <td>2688</td>\n",
       "    </tr>\n",
       "    <tr>\n",
       "      <th>2</th>\n",
       "      <td>en</td>\n",
       "      <td>al-qaeda</td>\n",
       "      <td>2012-01-02</td>\n",
       "      <td>3409</td>\n",
       "    </tr>\n",
       "    <tr>\n",
       "      <th>3</th>\n",
       "      <td>en</td>\n",
       "      <td>al-qaeda</td>\n",
       "      <td>2012-01-03</td>\n",
       "      <td>3944</td>\n",
       "    </tr>\n",
       "    <tr>\n",
       "      <th>4</th>\n",
       "      <td>en</td>\n",
       "      <td>al-qaeda</td>\n",
       "      <td>2012-01-04</td>\n",
       "      <td>3905</td>\n",
       "    </tr>\n",
       "    <tr>\n",
       "      <th>5</th>\n",
       "      <td>en</td>\n",
       "      <td>al-qaeda</td>\n",
       "      <td>2012-01-05</td>\n",
       "      <td>4134</td>\n",
       "    </tr>\n",
       "  </tbody>\n",
       "</table>\n",
       "</div>"
      ],
      "text/plain": [
       "  Language   Article       Date  Pageviews\n",
       "1       en  al-qaeda 2012-01-01       2688\n",
       "2       en  al-qaeda 2012-01-02       3409\n",
       "3       en  al-qaeda 2012-01-03       3944\n",
       "4       en  al-qaeda 2012-01-04       3905\n",
       "5       en  al-qaeda 2012-01-05       4134"
      ]
     },
     "execution_count": 4,
     "metadata": {},
     "output_type": "execute_result"
    }
   ],
   "source": [
    "#Understanding the index\n",
    "print(\"Are the values in the first column unique ? \", data.index.is_unique)\n",
    "print(\"If unique, indicates the first column can be used as an index.\\n\")\n",
    "\n",
    "# Sort by index to get articles per date per period\n",
    "data.sort_index(axis = 0, na_position='first', inplace=True)\n",
    "data_security.sort_index(axis = 0, na_position='first', inplace=True)\n",
    "\n",
    "data.head()"
   ]
  },
  {
   "cell_type": "code",
   "execution_count": 5,
   "metadata": {},
   "outputs": [
    {
     "name": "stdout",
     "output_type": "stream",
     "text": [
      "Language column contains 1 value(s) : ['en']\n",
      "It can thus be removed.\n",
      "\n"
     ]
    },
    {
     "data": {
      "text/html": [
       "<div>\n",
       "<style scoped>\n",
       "    .dataframe tbody tr th:only-of-type {\n",
       "        vertical-align: middle;\n",
       "    }\n",
       "\n",
       "    .dataframe tbody tr th {\n",
       "        vertical-align: top;\n",
       "    }\n",
       "\n",
       "    .dataframe thead th {\n",
       "        text-align: right;\n",
       "    }\n",
       "</style>\n",
       "<table border=\"1\" class=\"dataframe\">\n",
       "  <thead>\n",
       "    <tr style=\"text-align: right;\">\n",
       "      <th></th>\n",
       "      <th>Article</th>\n",
       "      <th>Date</th>\n",
       "      <th>Pageviews</th>\n",
       "    </tr>\n",
       "  </thead>\n",
       "  <tbody>\n",
       "    <tr>\n",
       "      <th>1</th>\n",
       "      <td>al-qaeda</td>\n",
       "      <td>2012-01-01</td>\n",
       "      <td>2688</td>\n",
       "    </tr>\n",
       "    <tr>\n",
       "      <th>2</th>\n",
       "      <td>al-qaeda</td>\n",
       "      <td>2012-01-02</td>\n",
       "      <td>3409</td>\n",
       "    </tr>\n",
       "    <tr>\n",
       "      <th>3</th>\n",
       "      <td>al-qaeda</td>\n",
       "      <td>2012-01-03</td>\n",
       "      <td>3944</td>\n",
       "    </tr>\n",
       "    <tr>\n",
       "      <th>4</th>\n",
       "      <td>al-qaeda</td>\n",
       "      <td>2012-01-04</td>\n",
       "      <td>3905</td>\n",
       "    </tr>\n",
       "    <tr>\n",
       "      <th>5</th>\n",
       "      <td>al-qaeda</td>\n",
       "      <td>2012-01-05</td>\n",
       "      <td>4134</td>\n",
       "    </tr>\n",
       "  </tbody>\n",
       "</table>\n",
       "</div>"
      ],
      "text/plain": [
       "    Article       Date  Pageviews\n",
       "1  al-qaeda 2012-01-01       2688\n",
       "2  al-qaeda 2012-01-02       3409\n",
       "3  al-qaeda 2012-01-03       3944\n",
       "4  al-qaeda 2012-01-04       3905\n",
       "5  al-qaeda 2012-01-05       4134"
      ]
     },
     "execution_count": 5,
     "metadata": {},
     "output_type": "execute_result"
    }
   ],
   "source": [
    "# Language column contains only one value and can be dropped.\n",
    "print(f\"Language column contains {data.Language.unique().size} value(s) : {data.Language.unique()}\")\n",
    "print(\"It can thus be removed.\\n\")\n",
    "\n",
    "data.drop(labels='Language', axis=1, inplace=True)\n",
    "data_security.drop(labels='Language', axis=1, inplace=True)\n",
    "data.head()"
   ]
  },
  {
   "cell_type": "markdown",
   "metadata": {},
   "source": [
    "## A. Cleaning and handling missing/undefined values\n",
    "Undefined values are any non-positive numerical or non-numerical values. In case of missing values, we will discuss the possible fixes and consequently decide on our way to handle them."
   ]
  },
  {
   "cell_type": "code",
   "execution_count": 6,
   "metadata": {},
   "outputs": [],
   "source": [
    "## probably nothing TODO"
   ]
  },
  {
   "cell_type": "markdown",
   "metadata": {},
   "source": [
    "## B. Consistency in Datasets\n",
    "Here we will verify that all days were correctly retrieved."
   ]
  },
  {
   "cell_type": "code",
   "execution_count": 7,
   "metadata": {},
   "outputs": [
    {
     "name": "stdout",
     "output_type": "stream",
     "text": [
      "Startdate: 2012-01-01\n",
      "Enddate: 2014-08-31\n",
      "Time interval in days: 974\n",
      "All articles have pageviews for 974 days: True\n"
     ]
    }
   ],
   "source": [
    "## check that no day is missing on the period\n",
    "\n",
    "print(f\"Startdate: {startdate}\")\n",
    "print(f\"Enddate: {enddate}\")\n",
    "\n",
    "# Compute interval +1 to include limit dates on both ends.\n",
    "interval = (enddate - startdate).days +1\n",
    "print(f\"Time interval in days: {interval}\")\n",
    "\n",
    "# Check there are `interval` number of days for all articles.\n",
    "art_intervals = all(data.groupby('Article')['Date'].nunique()==974)\n",
    "print(f'All articles have pageviews for {interval} days: {art_intervals}')"
   ]
  },
  {
   "cell_type": "markdown",
   "metadata": {},
   "source": [
    "---\n",
    "# II. Generic Methods"
   ]
  },
  {
   "cell_type": "markdown",
   "metadata": {},
   "source": [
    "## A. Monthly Aggregation\n",
    "The data in our reference paper $\\text{Chilling Effects: Online Surveillance and Wikipedia Use}$ (*Jonathan W. Penney*), data is aggregated on a monthly basis and further computations are done on this transformation."
   ]
  },
  {
   "cell_type": "code",
   "execution_count": 8,
   "metadata": {},
   "outputs": [],
   "source": [
    "def agg_monthly(df) :\n",
    "    \"\"\"\n",
    "    Aggregates the pageviews in a monthly fashion. Returns a DataFrame with only the numerical columns summed.\n",
    "    Note : Sets the index to date.\n",
    "    \n",
    "    Parameters \n",
    "    ----------\n",
    "    df : pd DataFrame\n",
    "        df should have at least 3 columns containing `Article`, `Date` and `Pageviews`. Column with `Date` should be named 'Date'.\n",
    "    \"\"\"\n",
    "    # Aggregate monthly\n",
    "    dataMonthly = df.set_index('Date')\n",
    "    dataMonthly = dataMonthly.resample('M').sum()\n",
    "    # Verify period\n",
    "    print(f\"The formatted dataset correctly spans from {dataMonthly.index.min().date()} to {dataMonthly.index.max().date()}.\\n\")\n",
    "    \n",
    "    return dataMonthly"
   ]
  },
  {
   "cell_type": "markdown",
   "metadata": {},
   "source": [
    "## B. Mean Computation\n",
    "The first analysis technique done in the paper is a comparison of means before and after the interruption event. Let us write the methods for this purpose given a monthly pageviews dataset."
   ]
  },
  {
   "cell_type": "code",
   "execution_count": 9,
   "metadata": {},
   "outputs": [],
   "source": [
    "def divide_around_interruption(df, interruption, verbose=False) :\n",
    "    \"\"\"\n",
    "    Divides the dataset into a pre-interruption dataset and a post-interruption dataset. Returns 2 dataframes in (pre, post) order.\n",
    "    Note : The month of the interruption is included in the post-interruption dataset.\n",
    "    \n",
    "    Parameters \n",
    "    ----------\n",
    "    df : pd DataFrame\n",
    "        Pandas DataFrame containing the monthly pageviews around the interruption date.\n",
    "    interruption : string\n",
    "        Interruption date in the form of a string. Please use following fashion :\n",
    "        1st of May 1997 --> 1995-05-01\n",
    "    verbose : bool (default: False)\n",
    "        Display temp dataframes created in the process and other insightful information from the process.\n",
    "    \"\"\"\n",
    "    # Get pd.Timestamp object\n",
    "    revelations = pd.to_datetime(interruption)\n",
    "\n",
    "    # Creating both datasets\n",
    "    pre = df.loc[df.index < revelations]\n",
    "    post = df.loc[df.index > revelations]\n",
    "    if verbose :\n",
    "        print(\"Pre-interruption pageviews:\\n\", pre)\n",
    "        print(\"\\nPost-interruption pageviews:\\n\", post)\n",
    "\n",
    "    # Verifying operation\n",
    "    if verbose : \n",
    "        print(\"Verifying coherence for split around interruption date...\")\n",
    "    assert(df.size == (pre.size + post.size))\n",
    "    if verbose :\n",
    "        print(df.size == (pre.size + post.size))\n",
    "        \n",
    "    return pre, post"
   ]
  },
  {
   "cell_type": "code",
   "execution_count": 10,
   "metadata": {},
   "outputs": [],
   "source": [
    "def compute_mean_around_interruption(df, interruption, verbose=False) :\n",
    "    \"\"\"\n",
    "    Computes the mean number of pageviews before and after the interruption date. \n",
    "    Returns 2 means (2-tuple of numpy.float64) in (pre, post) order.\n",
    "    Note : The month of the interruption is included in the post-interruption dataset.\n",
    "    \n",
    "    Parameters \n",
    "    ----------\n",
    "    df : pd DataFrame\n",
    "        Pandas DataFrame containing the monthly pageviews around the interruption date.\n",
    "    interruption : string\n",
    "        Interruption date in the form of a string. Please use following fashion :\n",
    "        1st of May 1997 --> 1995-05-01\n",
    "    verbose : bool (default: False)\n",
    "        Display temp dataframes created in the process and other insightful information from the process.\n",
    "    \"\"\"\n",
    "    pre, post = divide_around_interruption(df, interruption, verbose=verbose)\n",
    "    return pre.mean()[0], post.mean()[0]"
   ]
  },
  {
   "cell_type": "markdown",
   "metadata": {},
   "source": [
    "## C. ITS Regression \n",
    "Following the formula of segmented regression of an interrupted time series (ITS) : \n",
    "$$\n",
    "Y_{t} = \\beta_{0}*\\text{time}+\\beta_{2}*\\text{intervention}+\\beta_{3}*\\text{postslope}+\\epsilon_{1}\n",
    "$$\n",
    "We define in the following the methods to perform such a regression."
   ]
  },
  {
   "cell_type": "code",
   "execution_count": 11,
   "metadata": {},
   "outputs": [],
   "source": [
    "def fit_model(formula, data, predictor, seed):\n",
    "    '''\n",
    "    Output a linear prediciton using an ordinary least squares linear regression.\n",
    "    :param string formula: the equation describing the model using patsy formula syntax\n",
    "    :param pd.DataFrame data: the dataframe containing the monthly grouped time series elements for fitting\n",
    "    :param pd.DataFrame predictors: the dataframe containing the monthly grouped time series elements for predicting\n",
    "    :param int seed: a seed for consistency\n",
    "    '''\n",
    "    # Declares model\n",
    "    mod = smf.ols(formula=formula, data=data)\n",
    "\n",
    "    # Fits the model (finds the optimal coefficients, adding a random seed for consistency)\n",
    "    np.random.seed(seed)\n",
    "    res = mod.fit()\n",
    "\n",
    "    # Optimal Coefficients\n",
    "    coefficients = res.params.values\n",
    "\n",
    "    # Compute predictions\n",
    "    ypred = res.predict(predictor)\n",
    "    return ypred"
   ]
  },
  {
   "cell_type": "code",
   "execution_count": 12,
   "metadata": {},
   "outputs": [],
   "source": [
    "def monthly_views_formatting(df, reference_point):\n",
    "    '''\n",
    "    Computes the dataframe containing the monthly grouped time series elements\n",
    "    :param pd.DataFrame df: the dataframe containing the daily time series elements\n",
    "    :param int reference_point: the time series interruption event\n",
    "    '''\n",
    "    # Create indexing for visualizing correctly on x-axis of the plot\n",
    "    g = df.copy()\n",
    "    g = g.reset_index()\n",
    "    g['index'] = g['index']+1\n",
    "    g['XT'] = np.where(g['index'] < reference_point, 0, g['index']-reference_point)\n",
    "    g['X'] = [0 if x < reference_point else 1 for x in g.index] \n",
    "    return g"
   ]
  },
  {
   "cell_type": "markdown",
   "metadata": {},
   "source": [
    "## D. Plotting\n",
    "The reference paper uses 3 types of plots to describe the results :\n",
    "* **Histogram** of means before and after the interruption event (*cf. figure 1 in reference paper*).\n",
    "* **Segmented regression** around the interrupted event for **1 set** of articles (*cf. figure 2 in reference paper*).\n",
    "* **Segmented regression** around the interrupted event for **2 sets** of articles (*cf. figure 4A in reference paper*).\n",
    "\n",
    "Additionally, the regression plots can feature confidence intervals if prompted by the user (cf. figure 4 in reference paper)."
   ]
  },
  {
   "cell_type": "code",
   "execution_count": 13,
   "metadata": {},
   "outputs": [],
   "source": [
    "def hist_mean(df, interruption, verbose=False, ytick_step=5e5) :\n",
    "    \"\"\"\n",
    "    \n",
    "    Parameters \n",
    "    ----------\n",
    "    df : pd DataFrame\n",
    "        Pandas DataFrame containing the monthly pageviews around the interruption date.\n",
    "    interruption : string\n",
    "        Interruption date in the form of a string. Please use following fashion :\n",
    "        1st of May 1997 --> 1995-05-01\n",
    "    verbose : bool (default: False)\n",
    "        Display temp dataframes created in the process and other insightful information from the process.\n",
    "    ytick_step : int (default: 5e5)\n",
    "        Step in pageviews between 2 ticks on the y axis\n",
    "    \"\"\"\n",
    "    # Get means around interruption\n",
    "    pre, post = compute_mean_around_interruption(df, interruption)\n",
    "    pre_int, post_int = int(pre), int(post)\n",
    "    \n",
    "    # Preparing labels and data\n",
    "    d = np.array([pre,post])\n",
    "    rev_date= pd.to_datetime(interruption).month_name()+', '+str(pd.to_datetime(interruption).year)\n",
    "    l = ['Pre-'+rev_date, 'Post-'+rev_date]\n",
    "    \n",
    "    # Plotting\n",
    "    fig, ax = plt.subplots(figsize=(5,6))\n",
    "    plt.bar(x=l, height=d, width=0.5)\n",
    "    \n",
    "    # Configuring the axes to fit the data\n",
    "    ymax = np.floor(d.max()/ytick_step +3)*ytick_step\n",
    "    plt.yticks(np.arange(0, ymax, ytick_step), [f'{v:,}' for v in np.arange(0, ymax, ytick_step, dtype=int)])\n",
    "    plt.ylabel('Total Views', labelpad=30)\n",
    "    \n",
    "    plt.grid(False)\n",
    "    plt.show()\n",
    "    \n",
    "    return None"
   ]
  },
  {
   "cell_type": "code",
   "execution_count": 26,
   "metadata": {
    "scrolled": true
   },
   "outputs": [],
   "source": [
    "def segmented_reg_1_set(df, interruption, verbose=False, ytick_step=5e5, narts=None) :\n",
    "    \"\"\"\n",
    "    Plots the ITS of a dataset of monthly Pageviews around an interruption date.\n",
    "    \n",
    "    Parameters \n",
    "    ----------\n",
    "    df : pd DataFrame\n",
    "        Pandas DataFrame containing the monthly pageviews around the interruption date.\n",
    "    interruption : string\n",
    "        Interruption date in the form of a string. Please use following fashion :\n",
    "        1st of May 1997 --> 1995-05-01\n",
    "    verbose : bool (default: False)\n",
    "        Display temp dataframes created in the process and other insightful information from the process.\n",
    "    ytick_step : int (default: 5e5)\n",
    "        Step in pageviews between 2 ticks on the y axis\n",
    "    narts : int (default: None)\n",
    "        Number of articles summed in the monthly Pageviews. Used for the legend.\n",
    "    \"\"\"\n",
    "    # Divide around interruption\n",
    "    pre, post = divide_around_interruption(df, interruption, verbose=verbose)\n",
    "        \n",
    "    ## Plotting\n",
    "    \n",
    "    # Create dataframe with both periods identified\n",
    "    concatenated = pd.concat([\n",
    "        pre.reset_index(drop=True).assign(period='pre'), \n",
    "        post.reset_index(drop=True).assign(period='post')], ignore_index=True)\n",
    "\n",
    "    # Creating a month-identifier column\n",
    "    concatenated = concatenated.reset_index()\n",
    "    concatenated.columns.values[0]='Months'\n",
    "    concatenated['Months'] = concatenated['Months']+1\n",
    "    # The paper shifts monthly count to start from 1.\n",
    "\n",
    "    # Identifying both periods visually\n",
    "    pal = dict(pre=\"black\", post=\"grey\")\n",
    "    g = sns.FacetGrid(concatenated, hue='period', palette=pal, height=5, aspect=1.5, xlim=(-1, 33))\n",
    "\n",
    "    #### TODO use computed regression !\n",
    "    # Creating the regressions for both periods\n",
    "    g.map(sns.regplot, \"Months\", \"Pageviews\", ci=None, robust=1, scatter=False)\n",
    "\n",
    "    # Adding the scatter data separately\n",
    "    g.map(sns.scatterplot,  \"Months\", \"Pageviews\", color=\"black\")\n",
    "\n",
    "    # Configuring the axes to fit the data\n",
    "    plt.xticks(np.arange(0, concatenated.shape[0]+2, 2), np.arange(0, concatenated.shape[0]+2, 2, dtype=int))\n",
    "    ymin, ymax = np.floor(concatenated['Pageviews'].min()/ytick_step)*ytick_step, np.floor(concatenated['Pageviews'].max()/ytick_step +1)*ytick_step\n",
    "    plt.yticks(np.arange(ymin, ymax, ytick_step), np.arange(ymin, ymax, ytick_step, dtype=int))\n",
    "\n",
    "    # Configuring the labels to be as on paper\n",
    "    plt.ylabel(\"Total Views\"+ ( '('+narts+' Wikipedia Articles)' if narts else ''))\n",
    "    plt.xlabel(\"Time (Months)\")\n",
    "\n",
    "    # Adding grid to be as on paper\n",
    "    plt.grid(True, which='major', axis='y', alpha=0.3)\n",
    "\n",
    "    # Creating legend\n",
    "    rev_date= pd.to_datetime(interruption).month_name()+', '+str(pd.to_datetime(interruption).year)\n",
    "    legend = plt.legend(labels=[\"Trend Pre-\"+rev_date, \"Trend Post-\"+rev_date, \"Total Article Views (per month)\"], \n",
    "                        bbox_to_anchor=[1,-0.1], fontsize='medium', \n",
    "                        ncol=2, borderpad=0.75, handlelength=5)\n",
    "\n",
    "    # Adding June 2013 line identifier\n",
    "    plt.text(17.5,4.2e6,'Mid '+rev_date,horizontalalignment='center')\n",
    "    plt.axvline(17.5, linewidth=2.5, color='black')\n",
    "\n",
    "    plt.show()"
   ]
  },
  {
   "cell_type": "code",
   "execution_count": 15,
   "metadata": {},
   "outputs": [],
   "source": [
    "def bootstrap_CI(df, nbr_draws):\n",
    "    '''\n",
    "    A bootstrapping function for obtaining a 95% confidence intervals [lower error, upper error] \n",
    "    around the monthly estimated average.\n",
    "    :param pd.DataFrame df: the dataframe containing the time series elements\n",
    "    :param int nbr_draws: the number of random samples\n",
    "    '''\n",
    "    means = np.empty((0,len(df)))\n",
    "    group_means= np.empty((0, 2))\n",
    "    for n in range(nbr_draws):\n",
    "        indices = np.random.randint(0, len(df), len(df))\n",
    "        data_tmp = df.iloc[indices].sort_values(by='index')\n",
    "        ypredi = fit_model('Pageviews ~ index + C(X) + XT', data=data_tmp, predictor=df, seed=n)\n",
    "        means = np.concatenate((means, np.array([ypredi])), axis = 0)\n",
    "    for i in range(len(df)):\n",
    "        group_means = np.append(group_means, np.array([[np.nanpercentile(means[:,i], 2.5), np.nanpercentile(means[:,i], 97.5)]]), axis=0)\n",
    "    return group_means"
   ]
  },
  {
   "cell_type": "code",
   "execution_count": 16,
   "metadata": {},
   "outputs": [],
   "source": [
    "def plot_trends_confidence_intervals(df, reference_point, ypred, y_error, color):\n",
    "    '''\n",
    "    Plot the monthly time series and regressions with the confidence interval for the \n",
    "    given dataset and its interruption moment.\n",
    "    :param pd.DataFrame df: the dataframe containing the time series elements\n",
    "    :param int reference_point: the interruption month's index\n",
    "    :param pandas.Series ypred: the trend values following the ITS regression model\n",
    "    :param numpy.ndarray y_error: the lower and upper 95% confidence interval\n",
    "    :param string color: the color for plotting\n",
    "    '''\n",
    "    plt.plot(df['index'][:reference_point], ypred[:reference_point], color=color, linestyle='-')\n",
    "    plt.plot(df['index'][reference_point:], ypred[reference_point:], color=color, linestyle='--')\n",
    "    plt.fill_between(df['index'][reference_point:], y_error[:,0][reference_point:], y_error[:,1][reference_point:], color=color, alpha=0.1)\n",
    "    plt.fill_between(df['index'][:reference_point], y_error[:,0][:reference_point], y_error[:,1][:reference_point], color=color, alpha=0.1)"
   ]
  },
  {
   "cell_type": "code",
   "execution_count": 31,
   "metadata": {},
   "outputs": [],
   "source": [
    "def plotting(intervention, treatment, control, reference_point, treatment_df, treatment_pred, treatment_error, control_df, control_pred, control_error):\n",
    "    '''\n",
    "    Plot the monthly time series and regressions with the confidence interval for the \n",
    "    given dataset and its interruption moment with labels\n",
    "    :param string intervention: name of intervention event\n",
    "    :param string treatment: name of treatment group\n",
    "    :param string control: name of control group\n",
    "    :param int reference_point: the intervention month's index\n",
    "    :param pd.DataFrame treatment_df: the treatment dataframe containing the time series elements\n",
    "    :param pandas.Series treatment_pred: the predicted trend values following the ITS regression model of the treatment group\n",
    "    :param numpy.ndarray treatment_error: the lower and upper 95% confidence interval of the treatment group\n",
    "    :param pd.DataFrame control_df: the control dataframe containing the time series elements\n",
    "    :param pandas.Series control_pred: the predicted trend values following the ITS regression model of the control group\n",
    "    :param numpy.ndarray control_error: the lower and upper 95% confidence interval of the control group\n",
    "    '''\n",
    "    \n",
    "    # Initialize plot style\n",
    "    sns.set_style(\"darkgrid\")\n",
    "\n",
    "    # Plot trends\n",
    "    plot_trends_confidence_intervals(treatment_df, reference_point, treatment_pred, treatment_error, 'tab:orange')\n",
    "    plot_trends_confidence_intervals(control_df, reference_point, control_pred, control_error, 'tab:blue')\n",
    "\n",
    "    # Add Labels\n",
    "    plt.xlabel(f\"Time [Months]\")\n",
    "    plt.ylabel(f\"Total Views (All Articles)\")\n",
    "    plt.title(intervention);\n",
    "\n",
    "    # Plot scatter points \n",
    "    sns.scatterplot(data=treatment_df, x=\"index\", y=\"Pageviews\", color='tab:orange')\n",
    "    sns.scatterplot(data=control_df, x=\"index\", y=\"Pageviews\", color='tab:blue')\n",
    "\n",
    "    # Add Legend\n",
    "    plt.legend(bbox_to_anchor=(-0.1, -0.55, 1.2, .102), loc='lower center',\n",
    "               ncol=2, mode=\"expand\", borderaxespad=0., \n",
    "               labels = [treatment + ' Article Trend Pre-' + intervention, treatment + ' Article Trend Post-' + intervention,\n",
    "                         control + ' Article Trend Pre-' + intervention, control + ' Article Trend Post-' + intervention,\n",
    "                         'Confidence Interval Pre-' + intervention, 'Confidence Interval Post-' + intervention, \n",
    "                         'Confidence Interval Pre-' + intervention, 'Confidence Interval Post-' + intervention,\n",
    "                         treatment + ' Articles Views (By Month)', control + ' Articles Views (By Month)'])\n",
    "\n",
    "    # Mark mid-June 2013\n",
    "    plt.axvline(reference_point+0.5, 0, color='black', lw=2)"
   ]
  },
  {
   "cell_type": "markdown",
   "metadata": {},
   "source": [
    "---\n",
    "# III. GDPR Adoption\n",
    "The European Parliament adopted the GDPR Regulation text on the $27^{th}$ of April $2016$. Our first case of interest are the following research questions at this date : \n",
    "* Is there an inverse chilling effect (e.g. immediate spike) following the announcement of the regulation adoption?\n",
    "* Has there been a change in trends in the viewing of critical terms related to the regulation after the event?\n",
    "\n",
    "We will thus answer these questions using the analysis methods from the reference paper and draw conclusions."
   ]
  },
  {
   "cell_type": "markdown",
   "metadata": {},
   "source": [
    "## A. Monthly Aggregation"
   ]
  },
  {
   "cell_type": "code",
   "execution_count": 18,
   "metadata": {},
   "outputs": [
    {
     "name": "stdout",
     "output_type": "stream",
     "text": [
      "The formatted dataset correctly spans from 2012-01-31 to 2014-08-31.\n",
      "\n",
      "The formatted dataset correctly spans from 2012-01-31 to 2014-08-31.\n",
      "\n"
     ]
    }
   ],
   "source": [
    "# Reference point is the month of June 2013\n",
    "reference_point = 17\n",
    "\n",
    "# Count the total number of views of 47 wikipedia article per month.\n",
    "g = agg_monthly(data).reset_index()\n",
    "g_security = agg_monthly(data_security).reset_index()"
   ]
  },
  {
   "cell_type": "code",
   "execution_count": 21,
   "metadata": {},
   "outputs": [
    {
     "data": {
      "text/plain": [
       "0    584675.509804\n",
       "1    625246.850490\n",
       "2    665818.191176\n",
       "3    706389.531863\n",
       "4    746960.872549\n",
       "dtype: float64"
      ]
     },
     "execution_count": 21,
     "metadata": {},
     "output_type": "execute_result"
    }
   ],
   "source": [
    "# Compute trends predictions for terrorism datasets\n",
    "temp = monthly_views_formatting(g, 17)\n",
    "ypred = fit_model(formula='Pageviews ~ index + C(X) + XT', data=temp, predictor=temp, seed=2)\n",
    "\n",
    "# Compute trends predictions for domestic security-related datasets\n",
    "temp_security = monthly_views_formatting(g_security, 17)\n",
    "ypred_security = fit_model(formula='Pageviews ~ index + C(X) + XT', data=temp_security, predictor=temp_security, seed=2)\n",
    "\n",
    "ypred.head()"
   ]
  },
  {
   "cell_type": "markdown",
   "metadata": {},
   "source": [
    "## B. Mean Computation"
   ]
  },
  {
   "cell_type": "code",
   "execution_count": 35,
   "metadata": {},
   "outputs": [
    {
     "name": "stdout",
     "output_type": "stream",
     "text": [
      "The formatted dataset correctly spans from 2012-01-31 to 2014-08-31.\n",
      "\n"
     ]
    },
    {
     "data": {
      "image/png": "[encoded data removed]",
      "text/plain": [
       "<Figure size 360x432 with 1 Axes>"
      ]
     },
     "metadata": {},
     "output_type": "display_data"
    }
   ],
   "source": [
    "hist_mean(agg_monthly(data),'2013-06-06')"
   ]
  },
  {
   "cell_type": "markdown",
   "metadata": {},
   "source": [
    "## C. ITS Regression"
   ]
  },
  {
   "cell_type": "code",
   "execution_count": 34,
   "metadata": {
    "scrolled": true
   },
   "outputs": [
    {
     "name": "stdout",
     "output_type": "stream",
     "text": [
      "The formatted dataset correctly spans from 2012-01-31 to 2014-08-31.\n",
      "\n"
     ]
    },
    {
     "data": {
      "image/png": "[encoded data removed]",
      "text/plain": [
       "<Figure size 540x360 with 1 Axes>"
      ]
     },
     "metadata": {},
     "output_type": "display_data"
    }
   ],
   "source": [
    "segmented_reg_1_set(agg_monthly(data),'2013-06-06')"
   ]
  },
  {
   "cell_type": "code",
   "execution_count": 28,
   "metadata": {},
   "outputs": [],
   "source": [
    "# Compute 95% confidence intervals for each monthly estimated average\n",
    "y_error_terrorism = bootstrap_CI(temp, 200)\n",
    "y_error_security = bootstrap_CI(temp_security, 200)"
   ]
  },
  {
   "cell_type": "code",
   "execution_count": 32,
   "metadata": {},
   "outputs": [
    {
     "data": {
      "image/png": "[encoded data removed]",
      "text/plain": [
       "<Figure size 432x288 with 1 Axes>"
      ]
     },
     "metadata": {},
     "output_type": "display_data"
    }
   ],
   "source": [
    "plotting('June', 'Terrorism', 'Security', reference_point, temp, ypred, y_error_terrorism, temp_security, ypred_security, y_error_security)"
   ]
  },
  {
   "cell_type": "markdown",
   "metadata": {},
   "source": [
    "---\n",
    "# GPDR Begginig of enforcement\n",
    "The GDPR regulation was applied starting from the $25^{th}$ of May $2018$ for every country of the European Union (EU) and European Economic Area (EEA). We aim to answer the following questions regarding the event : \n",
    "* Is there an inverse chilling effect (e.g. immediate spike) following the day when the regulation became effective?\n",
    "* Has there been a change in trends in the viewing of critical terms related to the regulation after the event?\n",
    "\n",
    "We will thus answer these questions using the analysis methods from the reference paper and draw conclusions."
   ]
  },
  {
   "cell_type": "markdown",
   "metadata": {},
   "source": [
    "## A. Monthly Aggregation"
   ]
  },
  {
   "cell_type": "code",
   "execution_count": null,
   "metadata": {},
   "outputs": [],
   "source": []
  },
  {
   "cell_type": "markdown",
   "metadata": {},
   "source": [
    "## B. Mean Computation"
   ]
  },
  {
   "cell_type": "code",
   "execution_count": null,
   "metadata": {},
   "outputs": [],
   "source": []
  },
  {
   "cell_type": "markdown",
   "metadata": {},
   "source": [
    "## C. ITS Regression"
   ]
  },
  {
   "cell_type": "code",
   "execution_count": null,
   "metadata": {},
   "outputs": [],
   "source": []
  },
  {
   "cell_type": "markdown",
   "metadata": {},
   "source": [
    "# Conclusion"
   ]
  },
  {
   "cell_type": "code",
   "execution_count": null,
   "metadata": {},
   "outputs": [],
   "source": []
  },
  {
   "cell_type": "code",
   "execution_count": null,
   "metadata": {},
   "outputs": [],
   "source": []
  },
  {
   "cell_type": "code",
   "execution_count": null,
   "metadata": {},
   "outputs": [],
   "source": []
  },
  {
   "cell_type": "code",
   "execution_count": null,
   "metadata": {},
   "outputs": [],
   "source": []
  }
 ],
 "metadata": {
  "kernelspec": {
   "display_name": "Python 3",
   "language": "python",
   "name": "python3"
  },
  "language_info": {
   "codemirror_mode": {
    "name": "ipython",
    "version": 3
   },
   "file_extension": ".py",
   "mimetype": "text/x-python",
   "name": "python",
   "nbconvert_exporter": "python",
   "pygments_lexer": "ipython3",
   "version": "3.8.3"
  },
  "toc": {
   "base_numbering": 1,
   "nav_menu": {},
   "number_sections": true,
   "sideBar": true,
   "skip_h1_title": false,
   "title_cell": "Table of Contents",
   "title_sidebar": "Contents",
   "toc_cell": false,
   "toc_position": {},
   "toc_section_display": true,
   "toc_window_display": false
  }
 },
 "nbformat": 4,
 "nbformat_minor": 4
}
