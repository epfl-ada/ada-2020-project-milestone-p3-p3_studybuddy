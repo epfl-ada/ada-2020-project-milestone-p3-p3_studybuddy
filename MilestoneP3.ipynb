{
 "cells": [
  {
   "cell_type": "markdown",
   "metadata": {
    "toc": true
   },
   "source": [
    "<h1>Table of Contents<span class=\"tocSkip\"></span></h1>\n",
    "<div class=\"toc\"><ul class=\"toc-item\"><li><span><a href=\"#Setup\" data-toc-modified-id=\"Setup-1\"><span class=\"toc-item-num\">1&nbsp;&nbsp;</span>Setup</a></span></li><li><span><a href=\"#Goal\" data-toc-modified-id=\"Goal-2\"><span class=\"toc-item-num\">2&nbsp;&nbsp;</span>Goal</a></span></li><li><span><a href=\"#Keywords-selection\" data-toc-modified-id=\"Keywords-selection-3\"><span class=\"toc-item-num\">3&nbsp;&nbsp;</span>Keywords selection</a></span><ul class=\"toc-item\"><li><span><a href=\"#GDPR-related-keywords\" data-toc-modified-id=\"GDPR-related-keywords-3.1\"><span class=\"toc-item-num\">3.1&nbsp;&nbsp;</span>GDPR-related keywords</a></span></li><li><span><a href=\"#Popular-articles\" data-toc-modified-id=\"Popular-articles-3.2\"><span class=\"toc-item-num\">3.2&nbsp;&nbsp;</span>Popular articles</a></span></li></ul></li><li><span><a href=\"#Web-Scraping\" data-toc-modified-id=\"Web-Scraping-4\"><span class=\"toc-item-num\">4&nbsp;&nbsp;</span>Web Scraping</a></span><ul class=\"toc-item\"><li><span><a href=\"#Setup\" data-toc-modified-id=\"Setup-4.1\"><span class=\"toc-item-num\">4.1&nbsp;&nbsp;</span>Setup</a></span></li><li><span><a href=\"#Popular-articles-selection\" data-toc-modified-id=\"Popular-articles-selection-4.2\"><span class=\"toc-item-num\">4.2&nbsp;&nbsp;</span>Popular articles selection</a></span></li><li><span><a href=\"#Article-Pageviews\" data-toc-modified-id=\"Article-Pageviews-4.3\"><span class=\"toc-item-num\">4.3&nbsp;&nbsp;</span>Article Pageviews</a></span><ul class=\"toc-item\"><li><span><a href=\"#Remarks\" data-toc-modified-id=\"Remarks-4.3.1\"><span class=\"toc-item-num\">4.3.1&nbsp;&nbsp;</span>Remarks</a></span></li></ul></li></ul></li><li><span><a href=\"#Exploratory-Data-Analysis\" data-toc-modified-id=\"Exploratory-Data-Analysis-5\"><span class=\"toc-item-num\">5&nbsp;&nbsp;</span>Exploratory Data Analysis</a></span><ul class=\"toc-item\"><li><span><a href=\"#Cleaning-and-handling-missing/undefined-values\" data-toc-modified-id=\"Cleaning-and-handling-missing/undefined-values-5.1\"><span class=\"toc-item-num\">5.1&nbsp;&nbsp;</span>Cleaning and handling missing/undefined values</a></span></li><li><span><a href=\"#Consistency-in-Datasets\" data-toc-modified-id=\"Consistency-in-Datasets-5.2\"><span class=\"toc-item-num\">5.2&nbsp;&nbsp;</span>Consistency in Datasets</a></span></li><li><span><a href=\"#Visualization\" data-toc-modified-id=\"Visualization-5.3\"><span class=\"toc-item-num\">5.3&nbsp;&nbsp;</span>Visualization</a></span></li><li><span><a href=\"#Outliers-articles-removal\" data-toc-modified-id=\"Outliers-articles-removal-5.4\"><span class=\"toc-item-num\">5.4&nbsp;&nbsp;</span>Outliers articles removal</a></span></li><li><span><a href=\"#Monthly-Aggregation\" data-toc-modified-id=\"Monthly-Aggregation-5.5\"><span class=\"toc-item-num\">5.5&nbsp;&nbsp;</span>Monthly Aggregation</a></span></li><li><span><a href=\"#Outliers-monthly-removal\" data-toc-modified-id=\"Outliers-monthly-removal-5.6\"><span class=\"toc-item-num\">5.6&nbsp;&nbsp;</span>Outliers monthly removal</a></span></li></ul></li><li><span><a href=\"#Generic-Methods\" data-toc-modified-id=\"Generic-Methods-6\"><span class=\"toc-item-num\">6&nbsp;&nbsp;</span>Generic Methods</a></span><ul class=\"toc-item\"><li><span><a href=\"#Mean-Computation\" data-toc-modified-id=\"Mean-Computation-6.1\"><span class=\"toc-item-num\">6.1&nbsp;&nbsp;</span>Mean Computation</a></span></li><li><span><a href=\"#ITS-Regression\" data-toc-modified-id=\"ITS-Regression-6.2\"><span class=\"toc-item-num\">6.2&nbsp;&nbsp;</span>ITS Regression</a></span></li><li><span><a href=\"#Plotting\" data-toc-modified-id=\"Plotting-6.3\"><span class=\"toc-item-num\">6.3&nbsp;&nbsp;</span>Plotting</a></span></li><li><span><a href=\"#Analysis-of-plots\" data-toc-modified-id=\"Analysis-of-plots-6.4\"><span class=\"toc-item-num\">6.4&nbsp;&nbsp;</span>Analysis of plots</a></span></li></ul></li><li><span><a href=\"#GDPR-Adoption\" data-toc-modified-id=\"GDPR-Adoption-7\"><span class=\"toc-item-num\">7&nbsp;&nbsp;</span>GDPR Adoption</a></span><ul class=\"toc-item\"><li><span><a href=\"#Data-formatting\" data-toc-modified-id=\"Data-formatting-7.1\"><span class=\"toc-item-num\">7.1&nbsp;&nbsp;</span>Data formatting</a></span></li><li><span><a href=\"#Mean-Computation\" data-toc-modified-id=\"Mean-Computation-7.2\"><span class=\"toc-item-num\">7.2&nbsp;&nbsp;</span>Mean Computation</a></span></li><li><span><a href=\"#Immediate-change\" data-toc-modified-id=\"Immediate-change-7.3\"><span class=\"toc-item-num\">7.3&nbsp;&nbsp;</span>Immediate change</a></span></li><li><span><a href=\"#ITS-Regression\" data-toc-modified-id=\"ITS-Regression-7.4\"><span class=\"toc-item-num\">7.4&nbsp;&nbsp;</span>ITS Regression</a></span></li></ul></li><li><span><a href=\"#GPDR-Beggining-of-enforcement\" data-toc-modified-id=\"GPDR-Beggining-of-enforcement-8\"><span class=\"toc-item-num\">8&nbsp;&nbsp;</span>GPDR Beggining of enforcement</a></span><ul class=\"toc-item\"><li><span><a href=\"#Monthly-Aggregation\" data-toc-modified-id=\"Monthly-Aggregation-8.1\"><span class=\"toc-item-num\">8.1&nbsp;&nbsp;</span>Monthly Aggregation</a></span></li><li><span><a href=\"#Mean-Computation\" data-toc-modified-id=\"Mean-Computation-8.2\"><span class=\"toc-item-num\">8.2&nbsp;&nbsp;</span>Mean Computation</a></span></li><li><span><a href=\"#Immediate-change\" data-toc-modified-id=\"Immediate-change-8.3\"><span class=\"toc-item-num\">8.3&nbsp;&nbsp;</span>Immediate change</a></span></li><li><span><a href=\"#ITS-Regression\" data-toc-modified-id=\"ITS-Regression-8.4\"><span class=\"toc-item-num\">8.4&nbsp;&nbsp;</span>ITS Regression</a></span></li></ul></li><li><span><a href=\"#Generate-appendix-tables\" data-toc-modified-id=\"Generate-appendix-tables-9\"><span class=\"toc-item-num\">9&nbsp;&nbsp;</span>Generate appendix tables</a></span></li><li><span><a href=\"#Conclusion\" data-toc-modified-id=\"Conclusion-10\"><span class=\"toc-item-num\">10&nbsp;&nbsp;</span>Conclusion</a></span></li></ul></div>"
   ]
  },
  {
   "cell_type": "markdown",
   "metadata": {},
   "source": [
    "# Setup"
   ]
  },
  {
   "cell_type": "code",
   "execution_count": 1,
   "metadata": {},
   "outputs": [],
   "source": [
    "%load_ext autoreload\n",
    "%autoreload 2"
   ]
  },
  {
   "cell_type": "code",
   "execution_count": 2,
   "metadata": {},
   "outputs": [],
   "source": [
    "# Allow import of custom modules from the \"src\" folder\n",
    "import sys\n",
    "sys.path.insert(0, 'src/')\n",
    "\n",
    "# Standard packages for data analysis \n",
    "import pandas as pd\n",
    "import numpy as np\n",
    "import matplotlib.pyplot as plt\n",
    "import seaborn as sns\n",
    "import statsmodels.formula.api as smf\n",
    "sns.set(style='whitegrid')\n",
    "\n",
    "# Web scraping\n",
    "from scrape_wiki import PageviewsClient\n",
    "from update_keywords import read_keywords\n",
    "\n",
    "# Other\n",
    "from functools import reduce\n",
    "import math"
   ]
  },
  {
   "cell_type": "code",
   "execution_count": 3,
   "metadata": {},
   "outputs": [],
   "source": [
    "# Path management\n",
    "data_path = \"data/\"\n",
    "\n",
    "import os\n",
    "if not os.path.exists('report'):\n",
    "    os.mkdir('report')\n",
    "if not os.path.exists('figs'):\n",
    "    os.mkdir('figs')"
   ]
  },
  {
   "cell_type": "code",
   "execution_count": 4,
   "metadata": {},
   "outputs": [],
   "source": [
    "# Make incredibly good looking plot with ipypublish, which basically\n",
    "# overrides matplotlib default parameters and make plots more latex-looking\n",
    "\n",
    "# Enable fancy plots if you want to generate plots for the article\n",
    "# otherwise keep False, since it lengthens rendering time\n",
    "fancy_plots = False\n",
    "\n",
    "if fancy_plots:\n",
    "    from ipypublish import nb_setup\n",
    "    rcparams = {\n",
    "        'axes.titlesize':13,\n",
    "        'axes.labelsize':7,\n",
    "        'xtick.labelsize':6,\n",
    "        'ytick.labelsize':6\n",
    "    }\n",
    "    plt = nb_setup.setup_matplotlib(rcparams=rcparams)\n",
    "    # Override a few parameters again with seaborn\n",
    "    sns.set(style='whitegrid')"
   ]
  },
  {
   "cell_type": "markdown",
   "metadata": {},
   "source": [
    "---\n",
    "\n",
    "# Goal\n",
    "\n",
    "This  paper  is  an  extension  research  to the article *Chilling effects: online surveillance  and  Wikipedia  use* from  Jonathan W. Penney. This study analyses the Wikipedia traffic of german articles related to **the General Data Protection Regulation (GDPR)** topic and their changing trends following the announcement of the regulation adoption in April 2016 and the day the regulation became effective in May 2018. The paper tests the hypothesis that traffic to GDPR-related Wikipedia articles increased after the regulation was first put into effect, implying a reverse chilling effect on the European population. The study will provide answers to this research question through the Wikipedia pageviews exploration trends before and after the aforementioned dates, using two Interrupted Time Series (ITS) design.\n",
    "\n",
    "The setup procedure is the following:\n",
    "* Create a new treatment dataset with german Wikipedia articles\n",
    "* Scrape the articles pageviews of the treatment group\n",
    "* Create a new control dataset with popular german Wikipedia articles for the period of analysis through pageviews scraping\n",
    "* Clean the extracted information by checking first for consistency, then treat missing values and remove outliers.\n",
    "* Aggregate the articles' pageviews in a monthly dataframe structure.\n",
    "\n",
    "The analysis procedure is the following:\n",
    "* Plot the aggregated pageviews means of the treatment and control groups, for the pre- and post-intervention event.\n",
    "* Plot the linear regression trends of the treatment and control groups, for the pre- and post-intervention event.\n",
    "* Analyse and compare the obtained trends and results (analysis will mostly figure on the report)\n",
    "\n",
    "One will observe that the results obtained are unsatisfactory evidence to the plausible reverse chilling effect following the adoption of the GDPR regulation."
   ]
  },
  {
   "cell_type": "markdown",
   "metadata": {},
   "source": [
    "---\n",
    "\n",
    "# Keywords selection"
   ]
  },
  {
   "cell_type": "markdown",
   "metadata": {},
   "source": [
    "## GDPR-related keywords\n",
    "\n",
    "Selected GDPR-related keywords was done in a 2-pass review :\n",
    "* Individual manual selection of relevant keywords among GDPR related resources\n",
    "* Cross-validation review of all candidates \n",
    "\n",
    "We wrote the results in a text file and we load the keywords in the cells below. These articles form the treatment group."
   ]
  },
  {
   "cell_type": "code",
   "execution_count": 5,
   "metadata": {},
   "outputs": [],
   "source": [
    "# Setup path and settings\n",
    "keywords_GDPR = data_path + 'GDPR_{}.txt'\n",
    "language = 'de'"
   ]
  },
  {
   "cell_type": "code",
   "execution_count": 6,
   "metadata": {},
   "outputs": [
    {
     "data": {
      "text/plain": [
       "['Anonymisierung und Pseudonymisierung',\n",
       " 'Anonymität',\n",
       " 'Automatische Identifikation und Datenerfassung',\n",
       " 'Big Data',\n",
       " 'Business Intelligence']"
      ]
     },
     "execution_count": 6,
     "metadata": {},
     "output_type": "execute_result"
    }
   ],
   "source": [
    "# Load list of keywords with our custom function\n",
    "keywords = read_keywords(keywords_GDPR.format(language))\n",
    "sorted(keywords)[:5]"
   ]
  },
  {
   "cell_type": "markdown",
   "metadata": {},
   "source": [
    "## Popular articles\n",
    "\n",
    "One can find the selection of popular Wikipedia articles under the Web Scraping section. These articles form the control group. Their selection process is detailed in the next section."
   ]
  },
  {
   "cell_type": "markdown",
   "metadata": {},
   "source": [
    "---\n",
    "\n",
    "# Web Scraping\n",
    "\n",
    "In this section, we reproduce the steps performed to obtain the dataset we will work on. This is mainly a summary of what is shown in the [Scraping](Scraping.ipynb) notebook. "
   ]
  },
  {
   "cell_type": "markdown",
   "metadata": {},
   "source": [
    "## Setup \n",
    "\n",
    "According to the [Wikipedia REST API rules](https://wikimedia.org/api/rest_v1/), we must specify a contact address as the `User-Agent` for queries to the database."
   ]
  },
  {
   "cell_type": "code",
   "execution_count": 7,
   "metadata": {},
   "outputs": [],
   "source": [
    "# Set contact address\n",
    "contact = 'matthias.zeller@epfl.ch'\n",
    "\n",
    "# Instanciate query function\n",
    "p = PageviewsClient(contact)"
   ]
  },
  {
   "cell_type": "code",
   "execution_count": 8,
   "metadata": {},
   "outputs": [],
   "source": [
    "# Parameters to request article views\n",
    "params = {\n",
    "    'agent': 'user',\n",
    "    'start': '20150401', # 1st April 2015\n",
    "    'end':   '20190531'  # 31th May 2019\n",
    "}"
   ]
  },
  {
   "cell_type": "code",
   "execution_count": 9,
   "metadata": {},
   "outputs": [],
   "source": [
    "from concurrent.futures import ThreadPoolExecutor\n",
    "\n",
    "# Helper functions\n",
    "def request_top(dates, domain=language, limit=500):\n",
    "    \"\"\"\n",
    "    Wraps the function PageviewsClient.top_articles.\n",
    "    \n",
    "    Parameters \n",
    "    ----------\n",
    "    dates: list \n",
    "           List of dictionnaries with keys 'year', 'month', 'day'\n",
    "    domain: str\n",
    "            Specifies the Wikipedia project (en, de, fr, ...)\n",
    "    limit: int\n",
    "           Number of top articles to fetch for a given date\n",
    "    \n",
    "    Returns\n",
    "    -------\n",
    "    df : pandas.DataFrame\n",
    "        Dataframe with columns year, month, day, views, article, rank\n",
    "    \"\"\"\n",
    "    def fetch_date(d):\n",
    "        try:\n",
    "            df = p.top_articles(domain, **d, limit=limit)\n",
    "        except Exception:\n",
    "            # Happens if data not available\n",
    "            return pd.DataFrame()\n",
    "        \n",
    "        df = pd.DataFrame(df)\n",
    "        df['year'] = d['year']\n",
    "        df['month'] = d['month']\n",
    "        df['day'] = d['day']\n",
    "        return df\n",
    "    \n",
    "    domain = domain + '.wikipedia'\n",
    "    \n",
    "    # Fetch with parallel requests\n",
    "    with ThreadPoolExecutor(10) as executor:\n",
    "        res = list(executor.map(fetch_date, dates))\n",
    "    \n",
    "    # Format results in a DataFrame\n",
    "    res = pd.concat(res, ignore_index=True)\n",
    "    # Replace None -> np.nan\n",
    "    res = res.applymap(lambda elem: np.nan if elem is None else elem)\n",
    "    \n",
    "    res['language'] = domain.split('.')[0]\n",
    "    \n",
    "    return res\n",
    "\n",
    "\n",
    "def request(articles, domain=language, **kwargs):\n",
    "    \"\"\"\n",
    "    Wraps the function PageviewsClient.article_views\n",
    "    \n",
    "    Parameters\n",
    "    ----------\n",
    "    articles : list\n",
    "              List of Wikipedia article names\n",
    "    domain : str\n",
    "            Wikipedia project (de, en, es, fr...)\n",
    "    kwargs\n",
    "            Additionnal arguments that override `params` and passed to article_views()\n",
    "            \n",
    "    Returns\n",
    "    -------\n",
    "    df : pandas.DataFrame\n",
    "         Dataset with columns being articles and index are dates\n",
    "    \"\"\"\n",
    "    wrapped_kwargs = params.copy()\n",
    "    wrapped_kwargs.update(kwargs)\n",
    "    domain = domain + '.wikipedia'\n",
    "    \n",
    "    # Fetch\n",
    "    res = p.article_views(articles=articles, project=domain, **wrapped_kwargs)\n",
    "    \n",
    "    # Format results in a DataFrame\n",
    "    res = pd.DataFrame(res).T\n",
    "    # Replace None -> np.nan\n",
    "    res = res.applymap(lambda elem: np.nan if elem is None else elem)\n",
    "    # Sort by dates\n",
    "    res.sort_index(inplace=True)\n",
    "    \n",
    "    return res"
   ]
  },
  {
   "cell_type": "markdown",
   "metadata": {},
   "source": [
    "## Popular articles selection"
   ]
  },
  {
   "cell_type": "markdown",
   "metadata": {},
   "source": [
    "We will use (a modified version of) the `top_articles` function from the [python-mwviews](https://github.com/mediawiki-utilities/python-mwviews/blob/master/mwviews/api/pageviews.py) package to fetch the most popular Wikipedia articles for our given time period. We fetch articles that are popular during a whole month with `day='all-days'` argument."
   ]
  },
  {
   "cell_type": "markdown",
   "metadata": {},
   "source": [
    "We use the following strategy:\n",
    "\n",
    "1. Fetch the monthly top 400 articles for every date specified\n",
    "1. Compute and keep only the articles that appear as a top article for all months\n",
    "1. Filter out special articles (e.g. home page)"
   ]
  },
  {
   "cell_type": "code",
   "execution_count": 10,
   "metadata": {},
   "outputs": [],
   "source": [
    "# Define the time range of interest\n",
    "dates = [\n",
    "    {'year': year, 'month': month, 'day': 'all-days'}\n",
    "    for year in [2015, 2016, 2017, 2018]\n",
    "    for month in range(1, 13)\n",
    "] + [\n",
    "    {'year': 2019, 'month': month, 'day': 'all-days'}\n",
    "    for month in range(1, 6)\n",
    "]\n",
    "\n",
    "top = request_top(dates, limit=400)"
   ]
  },
  {
   "cell_type": "code",
   "execution_count": 11,
   "metadata": {},
   "outputs": [
    {
     "data": {
      "text/html": [
       "<div>\n",
       "<style scoped>\n",
       "    .dataframe tbody tr th:only-of-type {\n",
       "        vertical-align: middle;\n",
       "    }\n",
       "\n",
       "    .dataframe tbody tr th {\n",
       "        vertical-align: top;\n",
       "    }\n",
       "\n",
       "    .dataframe thead th {\n",
       "        text-align: right;\n",
       "    }\n",
       "</style>\n",
       "<table border=\"1\" class=\"dataframe\">\n",
       "  <thead>\n",
       "    <tr style=\"text-align: right;\">\n",
       "      <th></th>\n",
       "      <th>article</th>\n",
       "      <th>views</th>\n",
       "      <th>rank</th>\n",
       "      <th>year</th>\n",
       "      <th>month</th>\n",
       "      <th>day</th>\n",
       "      <th>language</th>\n",
       "    </tr>\n",
       "  </thead>\n",
       "  <tbody>\n",
       "    <tr>\n",
       "      <th>0</th>\n",
       "      <td>Wikipedia:Hauptseite</td>\n",
       "      <td>89923322</td>\n",
       "      <td>1</td>\n",
       "      <td>2015</td>\n",
       "      <td>7</td>\n",
       "      <td>all-days</td>\n",
       "      <td>de</td>\n",
       "    </tr>\n",
       "    <tr>\n",
       "      <th>1</th>\n",
       "      <td>Spezial:Suche</td>\n",
       "      <td>12288633</td>\n",
       "      <td>2</td>\n",
       "      <td>2015</td>\n",
       "      <td>7</td>\n",
       "      <td>all-days</td>\n",
       "      <td>de</td>\n",
       "    </tr>\n",
       "    <tr>\n",
       "      <th>2</th>\n",
       "      <td>Spezial:Anmelden</td>\n",
       "      <td>3932424</td>\n",
       "      <td>3</td>\n",
       "      <td>2015</td>\n",
       "      <td>7</td>\n",
       "      <td>all-days</td>\n",
       "      <td>de</td>\n",
       "    </tr>\n",
       "    <tr>\n",
       "      <th>3</th>\n",
       "      <td>Special:Search</td>\n",
       "      <td>2551705</td>\n",
       "      <td>4</td>\n",
       "      <td>2015</td>\n",
       "      <td>7</td>\n",
       "      <td>all-days</td>\n",
       "      <td>de</td>\n",
       "    </tr>\n",
       "    <tr>\n",
       "      <th>4</th>\n",
       "      <td>Hauptseite</td>\n",
       "      <td>1769900</td>\n",
       "      <td>5</td>\n",
       "      <td>2015</td>\n",
       "      <td>7</td>\n",
       "      <td>all-days</td>\n",
       "      <td>de</td>\n",
       "    </tr>\n",
       "  </tbody>\n",
       "</table>\n",
       "</div>"
      ],
      "text/plain": [
       "                article     views  rank  year  month       day language\n",
       "0  Wikipedia:Hauptseite  89923322     1  2015      7  all-days       de\n",
       "1         Spezial:Suche  12288633     2  2015      7  all-days       de\n",
       "2      Spezial:Anmelden   3932424     3  2015      7  all-days       de\n",
       "3        Special:Search   2551705     4  2015      7  all-days       de\n",
       "4            Hauptseite   1769900     5  2015      7  all-days       de"
      ]
     },
     "execution_count": 11,
     "metadata": {},
     "output_type": "execute_result"
    }
   ],
   "source": [
    "top.head()"
   ]
  },
  {
   "cell_type": "code",
   "execution_count": 12,
   "metadata": {},
   "outputs": [
    {
     "data": {
      "text/plain": [
       "array([400])"
      ]
     },
     "execution_count": 12,
     "metadata": {},
     "output_type": "execute_result"
    }
   ],
   "source": [
    "# Quick sanity check\n",
    "top.groupby(['year', 'month']).article.nunique().unique()"
   ]
  },
  {
   "cell_type": "markdown",
   "metadata": {},
   "source": [
    "We indeed have 400 articles per entry (i.e. per month). We now keep the articles that appear in every month:"
   ]
  },
  {
   "cell_type": "code",
   "execution_count": 13,
   "metadata": {},
   "outputs": [],
   "source": [
    "# Initialize iterator for sets of articles per month\n",
    "it = (set(article_lst) for _, article_lst in top.groupby(['year', 'month']).article)\n",
    "\n",
    "# Compute intersection of lists of articles\n",
    "intersect = list(reduce(\n",
    "    lambda accumulator, article_list: accumulator.intersection(article_list),\n",
    "    it\n",
    "))"
   ]
  },
  {
   "cell_type": "code",
   "execution_count": 14,
   "metadata": {},
   "outputs": [
    {
     "name": "stdout",
     "output_type": "stream",
     "text": [
      "Full list has length 53, filtered list has length 41\n"
     ]
    },
    {
     "data": {
      "text/plain": [
       "['Kanada', 'New_York_City', 'Australien', 'Zweiter_Weltkrieg', 'Niederlande']"
      ]
     },
     "execution_count": 14,
     "metadata": {},
     "output_type": "execute_result"
    }
   ],
   "source": [
    "# Define list of \"special\" articles\n",
    "specials = [\n",
    "    'Spezial:', 'Wikipedia:', 'Datei:', 'Benutzer:', 'Special:', 'Hauptseite'\n",
    "]\n",
    "\n",
    "# Discard special articles from the current list\n",
    "selection = [\n",
    "    art for art in intersect if not any(map(lambda special: special in art, specials))\n",
    "]\n",
    "\n",
    "print(f'Full list has length {len(intersect)}, filtered list has length {len(selection)}')\n",
    "selection[:5]"
   ]
  },
  {
   "cell_type": "markdown",
   "metadata": {},
   "source": [
    "We can now extract those 39 popular articles and format a data set suited for downstream analyses:"
   ]
  },
  {
   "cell_type": "code",
   "execution_count": 15,
   "metadata": {},
   "outputs": [
    {
     "data": {
      "text/html": [
       "<div>\n",
       "<style scoped>\n",
       "    .dataframe tbody tr th:only-of-type {\n",
       "        vertical-align: middle;\n",
       "    }\n",
       "\n",
       "    .dataframe tbody tr th {\n",
       "        vertical-align: top;\n",
       "    }\n",
       "\n",
       "    .dataframe thead th {\n",
       "        text-align: right;\n",
       "    }\n",
       "</style>\n",
       "<table border=\"1\" class=\"dataframe\">\n",
       "  <thead>\n",
       "    <tr style=\"text-align: right;\">\n",
       "      <th></th>\n",
       "      <th>Article</th>\n",
       "      <th>Date</th>\n",
       "      <th>Pageviews</th>\n",
       "      <th>Language</th>\n",
       "    </tr>\n",
       "  </thead>\n",
       "  <tbody>\n",
       "    <tr>\n",
       "      <th>0</th>\n",
       "      <td>Deutschland</td>\n",
       "      <td>2015-07-01</td>\n",
       "      <td>477014</td>\n",
       "      <td>de</td>\n",
       "    </tr>\n",
       "    <tr>\n",
       "      <th>1</th>\n",
       "      <td>Game_of_Thrones</td>\n",
       "      <td>2015-07-01</td>\n",
       "      <td>360283</td>\n",
       "      <td>de</td>\n",
       "    </tr>\n",
       "    <tr>\n",
       "      <th>2</th>\n",
       "      <td>Wikipedia</td>\n",
       "      <td>2015-07-01</td>\n",
       "      <td>194898</td>\n",
       "      <td>de</td>\n",
       "    </tr>\n",
       "    <tr>\n",
       "      <th>3</th>\n",
       "      <td>Vereinigte_Staaten</td>\n",
       "      <td>2015-07-01</td>\n",
       "      <td>192909</td>\n",
       "      <td>de</td>\n",
       "    </tr>\n",
       "    <tr>\n",
       "      <th>4</th>\n",
       "      <td>Schweiz</td>\n",
       "      <td>2015-07-01</td>\n",
       "      <td>169767</td>\n",
       "      <td>de</td>\n",
       "    </tr>\n",
       "  </tbody>\n",
       "</table>\n",
       "</div>"
      ],
      "text/plain": [
       "              Article       Date  Pageviews Language\n",
       "0         Deutschland 2015-07-01     477014       de\n",
       "1     Game_of_Thrones 2015-07-01     360283       de\n",
       "2           Wikipedia 2015-07-01     194898       de\n",
       "3  Vereinigte_Staaten 2015-07-01     192909       de\n",
       "4             Schweiz 2015-07-01     169767       de"
      ]
     },
     "execution_count": 15,
     "metadata": {},
     "output_type": "execute_result"
    }
   ],
   "source": [
    "# Extract selected articles\n",
    "ctrl = top[top.article.isin(selection)].reset_index(drop=True).copy()\n",
    "# Create date column\n",
    "ctrl['date'] = list(map(lambda tpl: f'{tpl[0]}-{tpl[1]}', zip(ctrl.year, ctrl.month)))\n",
    "ctrl.date = pd.to_datetime(ctrl.date)\n",
    "# Keep relevant columns\n",
    "ctrl = ctrl[['article', 'date', 'views', 'language']]\n",
    "ctrl.columns = ['Article', 'Date', 'Pageviews', 'Language']\n",
    "\n",
    "ctrl.head()"
   ]
  },
  {
   "cell_type": "markdown",
   "metadata": {},
   "source": [
    "## Article Pageviews"
   ]
  },
  {
   "cell_type": "code",
   "execution_count": 16,
   "metadata": {},
   "outputs": [],
   "source": [
    "# Helper function\n",
    "def format_dataset(df, language):\n",
    "    out = pd.DataFrame(df.unstack()).reset_index()\n",
    "    out.columns = ['Article', 'Date', 'Pageviews']\n",
    "    out['Language'] = language\n",
    "    return out"
   ]
  },
  {
   "cell_type": "code",
   "execution_count": 17,
   "metadata": {},
   "outputs": [
    {
     "data": {
      "text/html": [
       "<div>\n",
       "<style scoped>\n",
       "    .dataframe tbody tr th:only-of-type {\n",
       "        vertical-align: middle;\n",
       "    }\n",
       "\n",
       "    .dataframe tbody tr th {\n",
       "        vertical-align: top;\n",
       "    }\n",
       "\n",
       "    .dataframe thead th {\n",
       "        text-align: right;\n",
       "    }\n",
       "</style>\n",
       "<table border=\"1\" class=\"dataframe\">\n",
       "  <thead>\n",
       "    <tr style=\"text-align: right;\">\n",
       "      <th></th>\n",
       "      <th>Article</th>\n",
       "      <th>Date</th>\n",
       "      <th>Pageviews</th>\n",
       "      <th>Language</th>\n",
       "    </tr>\n",
       "  </thead>\n",
       "  <tbody>\n",
       "    <tr>\n",
       "      <th>0</th>\n",
       "      <td>Verschwiegenheitspflicht</td>\n",
       "      <td>2015-04-01</td>\n",
       "      <td>NaN</td>\n",
       "      <td>de</td>\n",
       "    </tr>\n",
       "    <tr>\n",
       "      <th>1</th>\n",
       "      <td>Verschwiegenheitspflicht</td>\n",
       "      <td>2015-04-02</td>\n",
       "      <td>NaN</td>\n",
       "      <td>de</td>\n",
       "    </tr>\n",
       "    <tr>\n",
       "      <th>2</th>\n",
       "      <td>Verschwiegenheitspflicht</td>\n",
       "      <td>2015-04-03</td>\n",
       "      <td>NaN</td>\n",
       "      <td>de</td>\n",
       "    </tr>\n",
       "    <tr>\n",
       "      <th>3</th>\n",
       "      <td>Verschwiegenheitspflicht</td>\n",
       "      <td>2015-04-04</td>\n",
       "      <td>NaN</td>\n",
       "      <td>de</td>\n",
       "    </tr>\n",
       "    <tr>\n",
       "      <th>4</th>\n",
       "      <td>Verschwiegenheitspflicht</td>\n",
       "      <td>2015-04-05</td>\n",
       "      <td>NaN</td>\n",
       "      <td>de</td>\n",
       "    </tr>\n",
       "  </tbody>\n",
       "</table>\n",
       "</div>"
      ],
      "text/plain": [
       "                    Article       Date  Pageviews Language\n",
       "0  Verschwiegenheitspflicht 2015-04-01        NaN       de\n",
       "1  Verschwiegenheitspflicht 2015-04-02        NaN       de\n",
       "2  Verschwiegenheitspflicht 2015-04-03        NaN       de\n",
       "3  Verschwiegenheitspflicht 2015-04-04        NaN       de\n",
       "4  Verschwiegenheitspflicht 2015-04-05        NaN       de"
      ]
     },
     "execution_count": 17,
     "metadata": {},
     "output_type": "execute_result"
    }
   ],
   "source": [
    "# We use the helper function \"request\" defined above\n",
    "# and the list of keywords also loaded above\n",
    "df = request(keywords, language)\n",
    "df = format_dataset(df, language)\n",
    "\n",
    "df.head()"
   ]
  },
  {
   "cell_type": "markdown",
   "metadata": {},
   "source": [
    "### Remarks\n",
    "\n",
    "The Wikipedia REST API cannot provide data anterior to July 2015, so we either have missing values (as in `df`) or do not take top articles from April 2015 to June 2015 into account. "
   ]
  },
  {
   "cell_type": "markdown",
   "metadata": {},
   "source": [
    "---\n",
    "# Exploratory Data Analysis"
   ]
  },
  {
   "cell_type": "markdown",
   "metadata": {},
   "source": [
    "## Cleaning and handling missing/undefined values\n",
    "\n",
    "Undefined values are any non-positive numerical or non-numerical values. In case of missing values, we will discuss the possible fixes and consequently decide on our way to handle them.\n",
    "\n",
    "We check missing values in the study group:"
   ]
  },
  {
   "cell_type": "code",
   "execution_count": 18,
   "metadata": {},
   "outputs": [
    {
     "data": {
      "text/html": [
       "<div>\n",
       "<style scoped>\n",
       "    .dataframe tbody tr th:only-of-type {\n",
       "        vertical-align: middle;\n",
       "    }\n",
       "\n",
       "    .dataframe tbody tr th {\n",
       "        vertical-align: top;\n",
       "    }\n",
       "\n",
       "    .dataframe thead th {\n",
       "        text-align: right;\n",
       "    }\n",
       "</style>\n",
       "<table border=\"1\" class=\"dataframe\">\n",
       "  <thead>\n",
       "    <tr style=\"text-align: right;\">\n",
       "      <th></th>\n",
       "      <th>Article</th>\n",
       "      <th>Date</th>\n",
       "      <th>Pageviews</th>\n",
       "      <th>Language</th>\n",
       "    </tr>\n",
       "  </thead>\n",
       "  <tbody>\n",
       "    <tr>\n",
       "      <th>0</th>\n",
       "      <td>Verschwiegenheitspflicht</td>\n",
       "      <td>2015-04-01</td>\n",
       "      <td>NaN</td>\n",
       "      <td>de</td>\n",
       "    </tr>\n",
       "    <tr>\n",
       "      <th>24352</th>\n",
       "      <td>Business_Intelligence</td>\n",
       "      <td>2015-04-01</td>\n",
       "      <td>NaN</td>\n",
       "      <td>de</td>\n",
       "    </tr>\n",
       "    <tr>\n",
       "      <th>22830</th>\n",
       "      <td>Informationsmanagement</td>\n",
       "      <td>2015-04-01</td>\n",
       "      <td>NaN</td>\n",
       "      <td>de</td>\n",
       "    </tr>\n",
       "    <tr>\n",
       "      <th>53270</th>\n",
       "      <td>Verordnung_(EU)</td>\n",
       "      <td>2015-04-01</td>\n",
       "      <td>NaN</td>\n",
       "      <td>de</td>\n",
       "    </tr>\n",
       "    <tr>\n",
       "      <th>54792</th>\n",
       "      <td>Individualrecht</td>\n",
       "      <td>2015-04-01</td>\n",
       "      <td>NaN</td>\n",
       "      <td>de</td>\n",
       "    </tr>\n",
       "    <tr>\n",
       "      <th>...</th>\n",
       "      <td>...</td>\n",
       "      <td>...</td>\n",
       "      <td>...</td>\n",
       "      <td>...</td>\n",
       "    </tr>\n",
       "    <tr>\n",
       "      <th>22787</th>\n",
       "      <td>Internet_Privacy_Act</td>\n",
       "      <td>2019-04-19</td>\n",
       "      <td>NaN</td>\n",
       "      <td>de</td>\n",
       "    </tr>\n",
       "    <tr>\n",
       "      <th>22809</th>\n",
       "      <td>Internet_Privacy_Act</td>\n",
       "      <td>2019-05-11</td>\n",
       "      <td>NaN</td>\n",
       "      <td>de</td>\n",
       "    </tr>\n",
       "    <tr>\n",
       "      <th>22821</th>\n",
       "      <td>Internet_Privacy_Act</td>\n",
       "      <td>2019-05-23</td>\n",
       "      <td>NaN</td>\n",
       "      <td>de</td>\n",
       "    </tr>\n",
       "    <tr>\n",
       "      <th>22828</th>\n",
       "      <td>Internet_Privacy_Act</td>\n",
       "      <td>2019-05-30</td>\n",
       "      <td>NaN</td>\n",
       "      <td>de</td>\n",
       "    </tr>\n",
       "    <tr>\n",
       "      <th>47181</th>\n",
       "      <td>Internet_Governance</td>\n",
       "      <td>2019-05-31</td>\n",
       "      <td>NaN</td>\n",
       "      <td>de</td>\n",
       "    </tr>\n",
       "  </tbody>\n",
       "</table>\n",
       "<p>3843 rows × 4 columns</p>\n",
       "</div>"
      ],
      "text/plain": [
       "                        Article       Date  Pageviews Language\n",
       "0      Verschwiegenheitspflicht 2015-04-01        NaN       de\n",
       "24352     Business_Intelligence 2015-04-01        NaN       de\n",
       "22830    Informationsmanagement 2015-04-01        NaN       de\n",
       "53270           Verordnung_(EU) 2015-04-01        NaN       de\n",
       "54792           Individualrecht 2015-04-01        NaN       de\n",
       "...                         ...        ...        ...      ...\n",
       "22787      Internet_Privacy_Act 2019-04-19        NaN       de\n",
       "22809      Internet_Privacy_Act 2019-05-11        NaN       de\n",
       "22821      Internet_Privacy_Act 2019-05-23        NaN       de\n",
       "22828      Internet_Privacy_Act 2019-05-30        NaN       de\n",
       "47181       Internet_Governance 2019-05-31        NaN       de\n",
       "\n",
       "[3843 rows x 4 columns]"
      ]
     },
     "execution_count": 18,
     "metadata": {},
     "output_type": "execute_result"
    }
   ],
   "source": [
    "mask_missing = df.isna().any(axis=1)\n",
    "df[mask_missing].sort_values('Date')"
   ]
  },
  {
   "cell_type": "markdown",
   "metadata": {},
   "source": [
    "We expect to get missing values before 1st July 2015, as those data are not available via Wikipedia REST API. However, we get some missing values after 1st July 2015, we investigate the affected articles in the second case."
   ]
  },
  {
   "cell_type": "code",
   "execution_count": 19,
   "metadata": {},
   "outputs": [
    {
     "name": "stdout",
     "output_type": "stream",
     "text": [
      "There are 57836 days starting from 1st July 2015.\n"
     ]
    },
    {
     "data": {
      "text/html": [
       "<div>\n",
       "<style scoped>\n",
       "    .dataframe tbody tr th:only-of-type {\n",
       "        vertical-align: middle;\n",
       "    }\n",
       "\n",
       "    .dataframe tbody tr th {\n",
       "        vertical-align: top;\n",
       "    }\n",
       "\n",
       "    .dataframe thead th {\n",
       "        text-align: right;\n",
       "    }\n",
       "</style>\n",
       "<table border=\"1\" class=\"dataframe\">\n",
       "  <thead>\n",
       "    <tr style=\"text-align: right;\">\n",
       "      <th></th>\n",
       "      <th>Date</th>\n",
       "      <th>N_missing</th>\n",
       "    </tr>\n",
       "    <tr>\n",
       "      <th>Article</th>\n",
       "      <th></th>\n",
       "      <th></th>\n",
       "    </tr>\n",
       "  </thead>\n",
       "  <tbody>\n",
       "    <tr>\n",
       "      <th>Digitale_Rechte</th>\n",
       "      <td>[2015-07-01T00:00:00.000000000, 2015-07-02T00:...</td>\n",
       "      <td>261</td>\n",
       "    </tr>\n",
       "    <tr>\n",
       "      <th>Individualrecht</th>\n",
       "      <td>[2017-06-03T00:00:00.000000000]</td>\n",
       "      <td>1</td>\n",
       "    </tr>\n",
       "    <tr>\n",
       "      <th>Internet_Governance</th>\n",
       "      <td>[2016-01-22T00:00:00.000000000, 2017-03-31T00:...</td>\n",
       "      <td>12</td>\n",
       "    </tr>\n",
       "    <tr>\n",
       "      <th>Internet_Privacy_Act</th>\n",
       "      <td>[2015-07-11T00:00:00.000000000, 2015-08-05T00:...</td>\n",
       "      <td>111</td>\n",
       "    </tr>\n",
       "  </tbody>\n",
       "</table>\n",
       "</div>"
      ],
      "text/plain": [
       "                                                                   Date  \\\n",
       "Article                                                                   \n",
       "Digitale_Rechte       [2015-07-01T00:00:00.000000000, 2015-07-02T00:...   \n",
       "Individualrecht                         [2017-06-03T00:00:00.000000000]   \n",
       "Internet_Governance   [2016-01-22T00:00:00.000000000, 2017-03-31T00:...   \n",
       "Internet_Privacy_Act  [2015-07-11T00:00:00.000000000, 2015-08-05T00:...   \n",
       "\n",
       "                      N_missing  \n",
       "Article                          \n",
       "Digitale_Rechte             261  \n",
       "Individualrecht               1  \n",
       "Internet_Governance          12  \n",
       "Internet_Privacy_Act        111  "
      ]
     },
     "execution_count": 19,
     "metadata": {},
     "output_type": "execute_result"
    }
   ],
   "source": [
    "# Define the binary mask whose values are True for dates after 1st July 2015\n",
    "mask_post_july2015 = (df.Date >= '2015-07-01')\n",
    "print(f'There are {len(mask_post_july2015)} days starting from 1st July 2015.')\n",
    "\n",
    "# Find the dates and articles for which we have unexpected missing values\n",
    "df_nan = df[mask_missing & mask_post_july2015].groupby('Article').Date.unique()\n",
    "df_nan = pd.DataFrame(df_nan)\n",
    "\n",
    "# Numer of dates for which there are NaNs\n",
    "df_nan['N_missing'] = df_nan.Date.apply(len)\n",
    "\n",
    "df\n",
    "\n",
    "df_nan"
   ]
  },
  {
   "cell_type": "markdown",
   "metadata": {},
   "source": [
    "To get a feeling of how those missing values are distributed, we plot the individual time series starting from 1st July 2015 and add vertical lines for days with missing information."
   ]
  },
  {
   "cell_type": "code",
   "execution_count": 20,
   "metadata": {},
   "outputs": [
    {
     "data": {
      "image/png": "[encoded data removed]",
      "text/plain": [
       "<Figure size 1224x288 with 4 Axes>"
      ]
     },
     "metadata": {},
     "output_type": "display_data"
    }
   ],
   "source": [
    "articles = df_nan.index\n",
    "fig, axes = plt.subplots(1, len(articles), figsize=(17, 4))\n",
    "\n",
    "for art, ax in zip(articles, axes):\n",
    "    df[df.Article == art].set_index('Date').plot(y='Pageviews', ax=ax, legend=None)\n",
    "    for date_missing in df_nan.loc[art].Date:\n",
    "        ax.axvline(date_missing, color='g', lw=0.5)\n",
    "    \n",
    "    ax.set_ylabel('Page views')\n",
    "    ax.set_title(art)\n",
    "    \n",
    "plt.tight_layout()"
   ]
  },
  {
   "cell_type": "markdown",
   "metadata": {},
   "source": [
    "There is a block of NaNs for digitale Rechte before 2016, which is problematic. Individualrecht is not a problem as there is a single missing value. For the two last articles, NaNs are scattered enough to be considered as still valid. <br>\n",
    "We estimate the monthly contributions of NaNs per article using the following method.\n",
    "- Get all missing day frequency per month per article containing NaNs (e.g. 12% for june) <br>\n",
    "- Get article containing NaNs contribution to total views per month (e.g. 5% of all pageviews in june) <br>\n",
    "- Get NaNs pageviews contribution per article containing NaNs per month <br>"
   ]
  },
  {
   "cell_type": "raw",
   "metadata": {},
   "source": [
    "# Get all missing day frequency per month per article containing NaNs\n",
    "art_nan = df.loc[mask_missing & mask_post_july2015, ['Article', 'Date', 'Pageviews']].set_index('Date').to_period('M').set_index('Article', append=True).groupby(['Article', 'Date']).size()\n",
    "art_nan = art_nan.div(31)\n",
    "\n",
    "# Get monthly views\n",
    "month_tot = df.copy().loc[mask_post_july2015, ['Date', 'Pageviews']].set_index('Date').to_period('M').groupby('Date').sum()\n",
    "\n",
    "# Get monthly views per article containing NaNs\n",
    "month_art =  df.copy().loc[mask_post_july2015, ['Article', 'Date', 'Pageviews']]\n",
    "month_art = month_art[month_art.Article.isin(articles)].set_index('Date').to_period('M').set_index('Article', append=True).groupby(['Article', 'Date']).sum()\n",
    "month_art[month_art.isna()] = 0\n",
    "\n",
    "# Get article containing NaNs contribution to total views per month\n",
    "art_month = month_art.div(month_tot)\n",
    "\n",
    "# Get NaNs pageviews contribution per article containing NaNs per month\n",
    "nan_art_month = art_month.mul(pd.DataFrame(art_nan, columns=['Pageviews'])).mul(100)\n",
    "nan_art_month[nan_art_month.Pageviews>0.05]"
   ]
  },
  {
   "cell_type": "markdown",
   "metadata": {},
   "source": [
    "We see that no articles NaNs impact more than 0.05% of all monthly pageviews. Thus we can simply remove the NaN rows and leave the articles.\n",
    "\n",
    "We remove the missing values:"
   ]
  },
  {
   "cell_type": "code",
   "execution_count": 21,
   "metadata": {},
   "outputs": [],
   "source": [
    "df = df[~mask_missing]"
   ]
  },
  {
   "cell_type": "markdown",
   "metadata": {},
   "source": [
    "We check for control group:"
   ]
  },
  {
   "cell_type": "code",
   "execution_count": 22,
   "metadata": {},
   "outputs": [
    {
     "data": {
      "text/html": [
       "<div>\n",
       "<style scoped>\n",
       "    .dataframe tbody tr th:only-of-type {\n",
       "        vertical-align: middle;\n",
       "    }\n",
       "\n",
       "    .dataframe tbody tr th {\n",
       "        vertical-align: top;\n",
       "    }\n",
       "\n",
       "    .dataframe thead th {\n",
       "        text-align: right;\n",
       "    }\n",
       "</style>\n",
       "<table border=\"1\" class=\"dataframe\">\n",
       "  <thead>\n",
       "    <tr style=\"text-align: right;\">\n",
       "      <th></th>\n",
       "      <th>Article</th>\n",
       "      <th>Date</th>\n",
       "      <th>Pageviews</th>\n",
       "      <th>Language</th>\n",
       "    </tr>\n",
       "  </thead>\n",
       "  <tbody>\n",
       "  </tbody>\n",
       "</table>\n",
       "</div>"
      ],
      "text/plain": [
       "Empty DataFrame\n",
       "Columns: [Article, Date, Pageviews, Language]\n",
       "Index: []"
      ]
     },
     "execution_count": 22,
     "metadata": {},
     "output_type": "execute_result"
    }
   ],
   "source": [
    "ctrl[ctrl.isna().any(axis=1)]"
   ]
  },
  {
   "cell_type": "markdown",
   "metadata": {},
   "source": [
    "Nothing has to be done in the control group."
   ]
  },
  {
   "cell_type": "markdown",
   "metadata": {},
   "source": [
    "## Consistency in Datasets"
   ]
  },
  {
   "cell_type": "markdown",
   "metadata": {},
   "source": [
    "## Visualization"
   ]
  },
  {
   "cell_type": "markdown",
   "metadata": {},
   "source": [
    "We plot and examine each article views individually to identify outliers and absurd data:"
   ]
  },
  {
   "cell_type": "code",
   "execution_count": 23,
   "metadata": {},
   "outputs": [],
   "source": [
    "def plot_pageviews_grid(df_longitudinal, n_col=5, yscale='log', rolling_window=None):\n",
    "    \"\"\"Plot the time series of several articles, each having its individual subplot (\"small multiples\").\n",
    "        \n",
    "    Parameters \n",
    "    ----------\n",
    "    df_longitudinal : pandas.DataFrame\n",
    "        pageviews in longitudinal format\n",
    "    n_col : int\n",
    "        number of columns for the plot, number of rows are automatically deduced\n",
    "    yscale : string\n",
    "        log or linear, passed to ax.set_yscale\n",
    "    rolling_window : int\n",
    "        size of the mean rolling window, units depends on dates in df_longitudinal\n",
    "    \"\"\"\n",
    "    if df_longitudinal.Language.nunique() > 1:\n",
    "        raise ValueError\n",
    "        \n",
    "    articles = df_longitudinal.Article.unique()\n",
    "    if 'Date' in df_longitudinal.columns:\n",
    "        df_longitudinal = df_longitudinal.set_index('Date')\n",
    "    if yscale == 'log':\n",
    "        df_longitudinal = df_longitudinal.replace(0, np.nan)\n",
    "    \n",
    "    # Init plotting\n",
    "    colors = sns.color_palette(n_colors=len(articles))\n",
    "    n_row = math.ceil(len(articles) / n_col)\n",
    "    fig, axes = plt.subplots(n_row, n_col, figsize=(3*n_col + .5, 2.25*n_row + .5), sharex=True, sharey=True)\n",
    "    \n",
    "    # Plotting loop\n",
    "    for article, ax, col in zip(articles, axes.ravel(), colors):\n",
    "        # Extract article data\n",
    "        subdf = df_longitudinal[df_longitudinal.Article == article].copy()\n",
    "        # Smooth data\n",
    "        if rolling_window is not None:\n",
    "            subdf.Pageviews = subdf.Pageviews.rolling(rolling_window).mean()\n",
    "        # Plot\n",
    "        subdf.plot(y='Pageviews', ax=ax, legend=False, color=col)\n",
    "        article = article.replace('_', ' ')\n",
    "        ax.set_title(article)\n",
    "        ax.set_yscale(yscale)\n",
    "        \n",
    "    # Aesthetics\n",
    "    for ax in axes[-1]:\n",
    "        ax.set_xlabel('Date')\n",
    "    for ax in axes[:, 0]:\n",
    "        ax.set_ylabel('Views')\n",
    "        #ax.tick_params('y', left=True, which='minor',)# reset=True)\n",
    "        \n",
    "    plt.tight_layout()"
   ]
  },
  {
   "cell_type": "raw",
   "metadata": {},
   "source": [
    "# Make this a raw cell (click on left part of cell and press R) or code cell (press Y)\n",
    "# Plots take time to render\n",
    "plot_pageviews_grid(df, rolling_window=3)\n",
    "plt.savefig('figs/pageviews_grid_study.eps')"
   ]
  },
  {
   "cell_type": "raw",
   "metadata": {},
   "source": [
    "plot_pageviews_grid(ctrl)\n",
    "plt.savefig('figs/pageviews_grid_control.eps')"
   ]
  },
  {
   "cell_type": "markdown",
   "metadata": {},
   "source": [
    "## Outliers articles removal"
   ]
  },
  {
   "cell_type": "markdown",
   "metadata": {},
   "source": [
    "Remove articles outliers in each of the groups depending on the results obtained in the small multiples above.\n",
    "\n",
    "For the treatment group:\n",
    "- we remove the following articles: Individualrecht, Datenvernichtung, Zensur im Internet, Vorratsdatenspeicherung. Indeed, these articles have a single spike at random moments during the period of analysis, causing outliers in our aggregation of all articles.\n",
    "- we remove Cyber-terrorismus article. This article is sensitive to the cyber attacks events and therefore oscillates a lot. This will hence impact our total articles pageviews when it isn't a critical keyword for the GDPR analysis. Therefore it was removed.\n",
    "\n",
    "For control:\n",
    "- we remove the articles which have a unique important spike. This is because we assume there was an important event which has impacted the trend and thus resulted in the unique spike. These articles are the following: Italien, Vereinigtes Königreich, Berlin, Hamburg, Polen, Niederlande.\n",
    "- we remove the movies articles because their trend depend on the announcement of a new season. There articles are the following: Game of thrones, Grey's Anatomy and The Walking Dead"
   ]
  },
  {
   "cell_type": "code",
   "execution_count": 24,
   "metadata": {},
   "outputs": [],
   "source": [
    "# Create the list of articles outliers to remove\n",
    "outliers_treatment = ['Individualrecht', 'Datenvernichtung', 'Zensur_im_Internet', 'Vorratsdatenspeicherung', \\\n",
    "                     'Cyber-Terrorismus']\n",
    "outliers_control = ['Italien', 'Vereinigtes_Königreich', 'Berlin', 'Hamburg', 'Polen', 'Niederlande', \\\n",
    "                   'Game_of_Thrones', 'Grey’s_Anatomy', 'The_Walking_Dead_(Fernsehserie)']"
   ]
  },
  {
   "cell_type": "code",
   "execution_count": 25,
   "metadata": {},
   "outputs": [],
   "source": [
    "# Remove the outliers from the treatment and control groups\n",
    "df = df[~df['Article'].isin(outliers_treatment)]\n",
    "ctrl = ctrl[~ctrl['Article'].isin(outliers_control)]"
   ]
  },
  {
   "cell_type": "markdown",
   "metadata": {},
   "source": [
    "## Monthly Aggregation\n",
    "The data in our reference paper $\\text{Chilling Effects: Online Surveillance and Wikipedia Use}$ (*Jonathan W. Penney*) is aggregated on a monthly basis and thus this transformation preceeds further computations."
   ]
  },
  {
   "cell_type": "code",
   "execution_count": 26,
   "metadata": {},
   "outputs": [],
   "source": [
    "def agg_monthly(df) :\n",
    "    \"\"\"\n",
    "    Aggregates the pageviews in a monthly fashion. Returns a DataFrame with only the numerical columns summed.\n",
    "    Note : Sets the index to date.\n",
    "    \n",
    "    Parameters \n",
    "    ----------\n",
    "    df : pd DataFrame\n",
    "        df should have at least 3 columns containing `Article`, `Date` and `Pageviews`. Column with `Date` should be named 'Date'.\n",
    "    \"\"\"\n",
    "    # Aggregate monthly\n",
    "    df_month = df.set_index('Date')\n",
    "    df_month = df_month.resample('M').sum()\n",
    "    # Verify period\n",
    "    print(f\"The formatted dataset correctly spans from {df_month.index.min().date()} to {df_month.index.max().date()}.\\n\")\n",
    "    \n",
    "    return df_month"
   ]
  },
  {
   "cell_type": "code",
   "execution_count": 27,
   "metadata": {},
   "outputs": [
    {
     "name": "stdout",
     "output_type": "stream",
     "text": [
      "The formatted dataset correctly spans from 2015-07-31 to 2019-05-31.\n",
      "\n",
      "The formatted dataset correctly spans from 2015-07-31 to 2019-05-31.\n",
      "\n"
     ]
    }
   ],
   "source": [
    "# Count the total number of views of treatment and control wikipedia article per month.\n",
    "df_monthly = agg_monthly(df)\n",
    "df_monthly_ctrl = agg_monthly(ctrl)"
   ]
  },
  {
   "cell_type": "markdown",
   "metadata": {},
   "source": [
    "## Outliers monthly removal"
   ]
  },
  {
   "cell_type": "markdown",
   "metadata": {},
   "source": [
    "We remove the monthly aggregated pageviews for December as they feature a systematic and important drop in a majority of articles in both the treatment and control groups, as illustrated on the small multiples above. Read below for further details and understanding.\n",
    "\n",
    "Below we first plot the as-is aggregated articles pageviews to illustrate their evolution."
   ]
  },
  {
   "cell_type": "code",
   "execution_count": 28,
   "metadata": {},
   "outputs": [
    {
     "data": {
      "image/png": "[encoded data removed]",
      "text/plain": [
       "<Figure size 1080x360 with 2 Axes>"
      ]
     },
     "metadata": {},
     "output_type": "display_data"
    }
   ],
   "source": [
    "fig, (ax1,ax2) = plt.subplots(1,2, figsize=(15,5))\n",
    "\n",
    "# Plot the monthly aggregated pageviews for both groups\n",
    "df_monthly.plot(ax = ax1, title='Treatment group');\n",
    "df_monthly_ctrl.plot(ax = ax2, title='Control group');\n",
    "fig.suptitle(\"Visualization of monthly aggregated pageviews trends\");"
   ]
  },
  {
   "cell_type": "markdown",
   "metadata": {},
   "source": [
    "We now proceed to remove the December months as they impact the general trend of our linear regressions. Indeed there are many plausible interpretation of these dropping in pageviews for many of the articles in the treatment group especially, one being that the people who tend to visit these articles are employees working for security and data departments who take holidays during this period of the year."
   ]
  },
  {
   "cell_type": "code",
   "execution_count": 29,
   "metadata": {},
   "outputs": [],
   "source": [
    "# Remove the January aggregated pageviews\n",
    "df_monthly = df_monthly[~(df_monthly.index.month == 12)]\n",
    "df_monthly_ctrl = df_monthly_ctrl[~(df_monthly_ctrl.index.month == 12)]"
   ]
  },
  {
   "cell_type": "code",
   "execution_count": 30,
   "metadata": {},
   "outputs": [
    {
     "data": {
      "image/png": "[encoded data removed]",
      "text/plain": [
       "<Figure size 1080x360 with 2 Axes>"
      ]
     },
     "metadata": {},
     "output_type": "display_data"
    }
   ],
   "source": [
    "fig, (ax1,ax2) = plt.subplots(1,2, figsize=(15,5))\n",
    "\n",
    "# Plot the monthly aggregated pageviews for both groups\n",
    "df_monthly.plot(ax = ax1, title='Treatment group');\n",
    "df_monthly_ctrl.plot(ax = ax2, title='Control group');\n",
    "fig.suptitle(\"Visualization of monthly aggregated pageviews trends, December month removed\");"
   ]
  },
  {
   "cell_type": "markdown",
   "metadata": {},
   "source": [
    "---\n",
    "# Generic Methods"
   ]
  },
  {
   "cell_type": "markdown",
   "metadata": {},
   "source": [
    "## Mean Computation\n",
    "The first analysis technique done in the paper is a comparison of means before and after the interruption event. Let us write the methods for this purpose given a monthly pageviews dataset."
   ]
  },
  {
   "cell_type": "code",
   "execution_count": 31,
   "metadata": {},
   "outputs": [],
   "source": [
    "def divide_around_interruption(df, interruption, verbose=False) :\n",
    "    \"\"\"\n",
    "    Divides the dataset into a pre-interruption dataset and a post-interruption dataset. Returns 2 dataframes in (pre, post) order.\n",
    "    Note : The month of the interruption is included in the post-interruption dataset.\n",
    "    \n",
    "    Parameters \n",
    "    ----------\n",
    "    df : pd DataFrame\n",
    "        Pandas DataFrame containing the monthly pageviews around the interruption date.\n",
    "    interruption : string\n",
    "        Interruption date in the form of a string. Please use following fashion :\n",
    "        1st of May 1997 --> 1995-05-01\n",
    "    verbose : bool (default: False)\n",
    "        Display temp dataframes created in the process and other insightful information from the process.\n",
    "    \"\"\"\n",
    "    # Get pd.Timestamp object\n",
    "    revelations = pd.to_datetime(interruption)\n",
    "\n",
    "    # Creating both datasets\n",
    "    pre = df.loc[df.index < revelations]\n",
    "    post = df.loc[df.index > revelations]\n",
    "    if verbose :\n",
    "        print(\"Pre-interruption pageviews:\\n\", pre)\n",
    "        print(\"\\nPost-interruption pageviews:\\n\", post)\n",
    "\n",
    "    # Verifying operation\n",
    "    if verbose : \n",
    "        print(\"Verifying coherence for split around interruption date...\")\n",
    "    assert(df.size == (pre.size + post.size))\n",
    "    if verbose :\n",
    "        print(df.size == (pre.size + post.size))\n",
    "        \n",
    "    return pre, post"
   ]
  },
  {
   "cell_type": "code",
   "execution_count": 32,
   "metadata": {},
   "outputs": [],
   "source": [
    "def get_cohen_d(data, interruption_date) :\n",
    "    \"\"\"\n",
    "    Computes the Cohen's d value for pre-and post-interruption data.\n",
    "    Cohen's d value formula for groups of same sizes is as follows : \n",
    "        (M1 + M2) / sqrt( ((n1-1)*STD1**2 + (n2-1)*STD2**2) / (n1+n2-2) )\n",
    "    with \n",
    "        M1, M2 the means of the datasets\n",
    "        STD1, STD2 the standard deviations of the datasets\n",
    "        n1, n2 the sizes of the datasets\n",
    "    \n",
    "    Parameters \n",
    "    ----------\n",
    "    df : pd DataFrame\n",
    "        Pandas DataFrame containing the monthly pageviews around the interruption date.\n",
    "    interruption : string\n",
    "        Interruption date in the form of a string. Please use following fashion :\n",
    "        1st of May 1997 --> 1995-05-01\n",
    "    \"\"\"\n",
    "    \n",
    "    # Get data before and after event\n",
    "    pre, post = divide_around_interruption(data, interruption_date)\n",
    "    pre, post = pre.Pageviews.values, post.Pageviews.values\n",
    "    n1, n2 = len(pre), len(post)\n",
    "    \n",
    "    # Compute cohen's distance\n",
    "    cohen = (pre.mean()+post.mean())/np.sqrt(( (n1-1)*pre.std()**2 + (n2-1)*post.std()**2)/ (n1+n2-2) )\n",
    "    \n",
    "    return cohen"
   ]
  },
  {
   "cell_type": "markdown",
   "metadata": {},
   "source": [
    "## ITS Regression \n",
    "Following the formula of segmented regression of an interrupted time series (ITS) : \n",
    "$$\n",
    "Y_{t} = \\beta_{0} \\cdot \\text{time}+\\beta_{2} \\cdot \\text{intervention}+\\beta_{3} \\cdot \\text{postslope}+\\epsilon_{1}\n",
    "$$\n",
    "We define in the following the methods to perform such a regression."
   ]
  },
  {
   "cell_type": "code",
   "execution_count": 33,
   "metadata": {},
   "outputs": [],
   "source": [
    "def extract_around_date(df, ref_date, time_delta):\n",
    "    \"\"\"Filter data from `df` corresponding to dates ref_date +/- time_delta\n",
    "    \n",
    "    Parameters\n",
    "    ----------\n",
    "    df: pandas.DataFrame\n",
    "        Dataframe containing at least a 'Date' column (or an index with Dates)\n",
    "    ref_date: string or pandas.Timestamp\n",
    "        Reference date around which to select the data\n",
    "    time_delta: pandas.Timedelta or numpy.timedelta64\n",
    "        Time period to extract from `df` before and after `ref_date`\n",
    "    \"\"\"\n",
    "    ref_date = pd.to_datetime(ref_date)\n",
    "    if 'Date' in df.columns:\n",
    "        df = df.set_index('Date')\n",
    "    output_df = df.loc[(df.index > (ref_date - time_delta)) \\\n",
    "                     & (df.index < (ref_date + time_delta))]\n",
    "    return output_df"
   ]
  },
  {
   "cell_type": "code",
   "execution_count": 34,
   "metadata": {},
   "outputs": [],
   "source": [
    "def fit_model(formula, data, predictor, seed, return_res=False):\n",
    "    '''\n",
    "    Output a linear prediciton using an ordinary least squares linear regression.\n",
    "    \n",
    "    Parameters\n",
    "    ----------\n",
    "    formula : string\n",
    "        the equation describing the model using patsy formula syntax\n",
    "    data : pd.DataFrame\n",
    "        the dataframe containing the monthly grouped time series elements for fitting\n",
    "    predictors : pd.DataFrame\n",
    "        the dataframe containing the monthly grouped time series elements for predicting\n",
    "    seed : int\n",
    "        a seed for consistency\n",
    "    '''\n",
    "    # Declares model\n",
    "    mod = smf.ols(formula=formula, data=data)\n",
    "\n",
    "    # Fits the model (finds the optimal coefficients, adding a random seed for consistency)\n",
    "    np.random.seed(seed)\n",
    "    res = mod.fit()\n",
    "\n",
    "    # Compute predictions\n",
    "    ypred = res.predict(predictor)\n",
    "    \n",
    "    if return_res:\n",
    "        return ypred, res\n",
    "    return ypred"
   ]
  },
  {
   "cell_type": "code",
   "execution_count": 35,
   "metadata": {},
   "outputs": [],
   "source": [
    "def monthly_views_formatting(df, ref_date):\n",
    "    '''\n",
    "    Computes the dataframe containing the monthly grouped time series elements\n",
    "    \n",
    "    Parameters\n",
    "    ----------\n",
    "    df: pandas.DataFrame\n",
    "        The dataframe containing monthly views, index should be of type datetime64\n",
    "    ref_date: string or pandas.Timestamp\n",
    "        Reference date around which to select the data\n",
    "    '''\n",
    "    # Create indexing for visualizing correctly on x-axis of the plot\n",
    "    df = df.copy().reset_index()\n",
    "    df['time'] = range(1, df.shape[0]+1)\n",
    "    \n",
    "    # Extract the interruption month's index\n",
    "    reference_date = pd.to_datetime(ref_date)\n",
    "    \n",
    "    # Part the indices and the pre and post linear regression by adding an new indexing variable and \n",
    "    # a boolean variable respectively\n",
    "    reference_point = df[(df['Date'].dt.month == reference_date.month) & (df['Date'].dt.year == reference_date.year)].index[0]\n",
    "    df['postslope'] = np.where(df['time'] <= reference_point, 0, df['time'] - reference_point)\n",
    "    df['intervention'] = [0 if x <= reference_point else 1 for x in df.time] \n",
    "    \n",
    "    return df, reference_point"
   ]
  },
  {
   "cell_type": "code",
   "execution_count": 36,
   "metadata": {},
   "outputs": [],
   "source": [
    "def save_regression_summary(res, file_name):\n",
    "    \"\"\"Save the latex-formatted regression summary table in a text file (in 'report/' folder).\n",
    "    \n",
    "    Parameters\n",
    "    ----------\n",
    "    res: statsmodels.regression.linear_model.RegressionResultsWrapper\n",
    "        The output of smf.ols(...).fit(...)\n",
    "    file_name: string\n",
    "    \"\"\"\n",
    "    # We could directly use as_latex_tabular instead of as_html, but converting\n",
    "    # to html -> pandas -> latex allows more control on float display format\n",
    "    html = res.summary().tables[1].as_html() #.as_latex_tabular()\n",
    "    df = pd.read_html(html, header=0, index_col=0)[0]\n",
    "    \n",
    "    latex_str = df.to_latex()\n",
    "    latex_str = latex_str.replace(r'\\toprule', r'\\hline')\n",
    "    latex_str = latex_str.replace(r'\\midrule', r'\\hline')\n",
    "    latex_str = latex_str.replace(r'\\bottomrule', r'\\hline')\n",
    "    with open(os.path.join('report', file_name), 'w') as f:\n",
    "        f.write(latex_str)"
   ]
  },
  {
   "cell_type": "markdown",
   "metadata": {},
   "source": [
    "## Plotting\n",
    "The reference paper uses 3 types of plots to describe the results :\n",
    "* **Barplot** of means before and after the interruption event (*cf. figure 1 in reference paper*).\n",
    "* **Segmented regression** around the interrupted event for **2 groups** of articles (*cf. figure 4A in reference paper*).\n",
    "\n",
    "Additionally, the regression plots can feature confidence intervals if prompted by the user (cf. figure 4 in reference paper)."
   ]
  },
  {
   "cell_type": "code",
   "execution_count": 37,
   "metadata": {},
   "outputs": [],
   "source": [
    "def barplot_mean(df, interruption, ax=None, legend_loc='best', return_df=True) :\n",
    "    \"\"\"\n",
    "    \n",
    "    Parameters \n",
    "    ----------\n",
    "    df : pd DataFrame\n",
    "        Pandas DataFrame containing the monthly pageviews around the interruption date.\n",
    "    interruption : string\n",
    "        Interruption date in YYYY-MM-DD format. Example: 1st of May 1997 --> 1995-05-01\n",
    "    ax: matplotlib Axes, optional\n",
    "        Axes to draw on.\n",
    "    legend_loc: string\n",
    "        Location of legend.\n",
    "    return_df: bool, optional\n",
    "        Whether to return the pandas DataFrame summarizing means\n",
    "    \"\"\"\n",
    "    df = df.copy()\n",
    "    \n",
    "    # Preparing labels and data\n",
    "    date_str = pd.to_datetime(interruption).month_name()+', '+str(pd.to_datetime(interruption).year)\n",
    "    \n",
    "    # Pre-post\n",
    "    df['timing'] = f'Pre-{date_str}'\n",
    "    interruption = pd.to_datetime(interruption)\n",
    "    df.loc[df.index > interruption, 'timing'] = f'Post-{date_str}'\n",
    "    \n",
    "    # Hue: time period of 12 months vs 6 months\n",
    "    delta_6m = np.timedelta64(6, 'M')\n",
    "    df['Time span'] = '12 months'\n",
    "    \n",
    "    # To use hue on time span (6 vs 12 months), we must duplicate the data\n",
    "    # for 12 months, filter to keep 6 months around interruption and change 'Time span'\n",
    "    # column values accordingly\n",
    "    df_6m = extract_around_date(df, interruption, delta_6m).copy()\n",
    "    df_6m['Time span'] = '6 months'\n",
    "    \n",
    "    df = pd.concat((df, df_6m))\n",
    "    \n",
    "    # Plotting\n",
    "    if ax is None:\n",
    "        fig, ax = plt.subplots(figsize=(5,6))\n",
    "        \n",
    "    sns.barplot(y='Pageviews', x='timing', hue='Time span', data=df, ax=ax)\n",
    "    ax.set_ylabel('Mean monthly views', labelpad=15)\n",
    "    ax.set_xlabel('')\n",
    "    ax.legend(loc=legend_loc, framealpha=1.0, title='Time span')\n",
    "    \n",
    "    if return_df:\n",
    "        # Dataframe to print\n",
    "        df_print = pd.DataFrame(df.groupby(['timing', 'Time span']).Pageviews.mean())\n",
    "        return df_print"
   ]
  },
  {
   "cell_type": "code",
   "execution_count": 38,
   "metadata": {},
   "outputs": [],
   "source": [
    "def bootstrap_CI(data, nbr_draws, fit_formula):\n",
    "    '''\n",
    "    A bootstrapping function for obtaining a 95% confidence intervals [lower error, upper error] \n",
    "    around the monthly estimated average.\n",
    "    \n",
    "    Parameters \n",
    "    ----------\n",
    "    df : pd.DataFrame\n",
    "        the dataframe containing the time series elements\n",
    "    nbr_draws : int\n",
    "        the number of random samples\n",
    "    '''\n",
    "    means = np.empty((0,len(data)))\n",
    "    group_means= np.empty((0, 2))\n",
    "    for n in range(nbr_draws):\n",
    "        indices = np.random.randint(0, len(data), len(data))\n",
    "        data_tmp = data.iloc[indices]#.sort_values(by='index')\n",
    "        ypredi = fit_model(fit_formula, data=data_tmp, predictor=data, seed=n)\n",
    "        means = np.concatenate((means, np.array([ypredi])), axis = 0)\n",
    "    for i in range(len(data)):\n",
    "        group_means = np.append(group_means, np.array([[np.nanpercentile(means[:,i], 2.5), np.nanpercentile(means[:,i], 97.5)]]), axis=0)\n",
    "    return group_means"
   ]
  },
  {
   "cell_type": "code",
   "execution_count": 39,
   "metadata": {},
   "outputs": [],
   "source": [
    "def plot_trends_confidence_intervals(df, reference_point, ypred, y_error, color, ax = None):\n",
    "    '''\n",
    "    Plot the monthly time series and regressions with the confidence interval for the \n",
    "    given dataset and its interruption moment.\n",
    "    \n",
    "    Parameters \n",
    "    ----------\n",
    "    df : pd.DataFrame \n",
    "        the dataframe containing the time series elements\n",
    "    reference_point : int \n",
    "        the interruption month's index\n",
    "    ypred :pandas.Series\n",
    "        the trend values following the ITS regression model\n",
    "    y_error :numpy.ndarray\n",
    "        the lower and upper 95% confidence interval\n",
    "    color : list\n",
    "        the list of colors for plotting pre- and post-trends\n",
    "    '''\n",
    "    \n",
    "    if ax == None :\n",
    "        ax = plt\n",
    "        \n",
    "    ax.plot(df['time'][:reference_point], ypred[:reference_point], color=color[0], linestyle='-')\n",
    "    ax.plot(df['time'][reference_point:], ypred[reference_point:], color=color[1], linestyle='--')\n",
    "    ax.ticklabel_format(style='sci', axis='y', scilimits=(0,0))\n",
    "    ax.fill_between(df['time'][:reference_point], y_error[:,0][:reference_point], y_error[:,1][:reference_point], color=color[0], alpha=0.1)\n",
    "    ax.fill_between(df['time'][reference_point:], y_error[:,0][reference_point:], y_error[:,1][reference_point:], color=color[1], alpha=0.1)"
   ]
  },
  {
   "cell_type": "code",
   "execution_count": 40,
   "metadata": {},
   "outputs": [],
   "source": [
    "def plotting(intervention, df_name, reference_point, df, df_pred, df_error, color=['tab:blue', 'tab:orange'], ax=None):\n",
    "    '''\n",
    "    Plot the monthly time series and regressions with the confidence interval for the \n",
    "    given dataset and its interruption moment with labels\n",
    "    \n",
    "    Parameters \n",
    "    ----------\n",
    "    intervention : string \n",
    "        name of intervention event\n",
    "    df_name : string\n",
    "        name of the group being plotted\n",
    "    reference_point : int\n",
    "        the intervention month's index\n",
    "    treatment_df : pd.DataFrame\n",
    "        the group dataframe containing the time series elements\n",
    "    treatment_pred : pandas.Series\n",
    "        the predicted trend values following the ITS regression model of the group\n",
    "    treatment_error : numpy.ndarray\n",
    "        the lower and upper 95% confidence interval of the group\n",
    "    color : list\n",
    "        the list of colors of the plotting, deafault = ['tab:blue', 'tab:orange']\n",
    "    ax = plt.Axes\n",
    "        Axis on which to plot the graph. If None, regular plt is used.\n",
    "    '''\n",
    "    if ax == None :\n",
    "        ax = plt\n",
    "    \n",
    "    # Plot trends\n",
    "    plot_trends_confidence_intervals(df, reference_point, df_pred, df_error, color, ax=ax)\n",
    "    \n",
    "    # Add Labels\n",
    "    ax.set_xlabel(f\"Time [Months]\")\n",
    "    ax.set_ylabel(f\"Total views (All Articles)\")\n",
    "    \n",
    "    # Plot scatter points \n",
    "    sns.scatterplot(data=df[:reference_point], x=\"time\", y=\"Pageviews\", color=color[0], ax=ax)\n",
    "    sns.scatterplot(data=df[reference_point:], x=\"time\", y=\"Pageviews\", color=color[1], ax=ax)\n",
    "\n",
    "    # Add title\n",
    "    ax.set_title(f\"ITS visualization for {df_name} group\", pad=20)\n",
    "\n",
    "    # Adding interruption event line identifier\n",
    "    text_y_coord = ax.get_ylim()[1]\n",
    "    ax.text(reference_point+0.5, text_y_coord, intervention, horizontalalignment='center') \n",
    "    ax.axvline(reference_point+0.5, 0, color='black', lw=2, label='_nolegend_')"
   ]
  },
  {
   "cell_type": "markdown",
   "metadata": {},
   "source": [
    "## Analysis of plots"
   ]
  },
  {
   "cell_type": "markdown",
   "metadata": {},
   "source": [
    "We want to compare the immediate change of views right before and right after the event:"
   ]
  },
  {
   "cell_type": "code",
   "execution_count": 41,
   "metadata": {},
   "outputs": [],
   "source": [
    "def compute_immediate_change(df, ref_date):\n",
    "    \"\"\"Extract data from `df` corresponding to dates ref_date +/- time_delta\n",
    "    \n",
    "    Parameters\n",
    "    ----------\n",
    "    df: pandas.DataFrame\n",
    "        Dataframe containing at least a 'Date' column (or an index with Dates)\n",
    "    ref_date: string or pandas.Timestamp\n",
    "        Reference date around which to select the data\n",
    "    time_delta: pandas.Timedelta or numpy.timedelta64\n",
    "        Time period to extract from `df` before and after `ref_date`\n",
    "    \"\"\"\n",
    "    # Extract index of interruption date\n",
    "    ref_date = pd.to_datetime(ref_date)\n",
    "    output_df = df.copy().reset_index()\n",
    "    ref_index = output_df[(output_df.Date.dt.year == ref_date.year) & (output_df.Date.dt.month == ref_date.month)].index[0]\n",
    "\n",
    "    # Extract Pageviews values\n",
    "    pre = output_df.iloc[ref_index-1]['Pageviews']\n",
    "    event = output_df.iloc[ref_index]['Pageviews']\n",
    "    post = output_df.iloc[ref_index+1]['Pageviews']\n",
    "    \n",
    "    # Compute changes in page views\n",
    "    date_formatter = lambda idx: f'{output_df.Date[idx].strftime(\"%Y-%m\")}'\n",
    "    \n",
    "    # Number formatter\n",
    "    int_f = lambda n: f'+{int(n)}' if n > 0 else str(int(n))\n",
    "    float_f = lambda f: f'+{f*100:.4}' if f > 0 else f'{f*100:.4}'\n",
    "    \n",
    "    # Month before event vs event\n",
    "    diff1 = event - pre\n",
    "    ratio1 = (event - pre) / pre\n",
    "    print(f'{date_formatter(ref_index-1)} vs {date_formatter(ref_index)} : {int_f(diff1)}, {float_f(ratio1)}%')\n",
    "    \n",
    "    # Month of event vs month after event\n",
    "    diff2 = post - event\n",
    "    ratio2 = (post - event) / event\n",
    "    print(f'{date_formatter(ref_index)} vs {date_formatter(ref_index+1)} : {int_f(diff2)}, {float_f(ratio2)}%')"
   ]
  },
  {
   "cell_type": "markdown",
   "metadata": {},
   "source": [
    "---\n",
    "# GDPR Adoption\n",
    "The European Parliament adopted the GDPR Regulation text on the $27^{th}$ of April $2016$. Our first case of interest are the following research questions at this date: \n",
    "* Is there an inverse chilling effect (e.g. immediate spike) following the announcement of the regulation adoption?\n",
    "* Has there been a change in trends in the viewing of critical terms related to the regulation after the event?\n",
    "\n",
    "We will thus answer these questions using the analysis methods from the reference paper and draw conclusions."
   ]
  },
  {
   "cell_type": "markdown",
   "metadata": {},
   "source": [
    "## Data formatting"
   ]
  },
  {
   "cell_type": "code",
   "execution_count": 42,
   "metadata": {},
   "outputs": [],
   "source": [
    "# Date of interruption event'2016-04-27'\n",
    "interruption_date = '2016-04-27'"
   ]
  },
  {
   "cell_type": "code",
   "execution_count": 43,
   "metadata": {},
   "outputs": [
    {
     "data": {
      "text/html": [
       "<div>\n",
       "<style scoped>\n",
       "    .dataframe tbody tr th:only-of-type {\n",
       "        vertical-align: middle;\n",
       "    }\n",
       "\n",
       "    .dataframe tbody tr th {\n",
       "        vertical-align: top;\n",
       "    }\n",
       "\n",
       "    .dataframe thead th {\n",
       "        text-align: right;\n",
       "    }\n",
       "</style>\n",
       "<table border=\"1\" class=\"dataframe\">\n",
       "  <thead>\n",
       "    <tr style=\"text-align: right;\">\n",
       "      <th></th>\n",
       "      <th>Pageviews</th>\n",
       "    </tr>\n",
       "    <tr>\n",
       "      <th>Date</th>\n",
       "      <th></th>\n",
       "    </tr>\n",
       "  </thead>\n",
       "  <tbody>\n",
       "    <tr>\n",
       "      <th>2015-07-31</th>\n",
       "      <td>150010.0</td>\n",
       "    </tr>\n",
       "    <tr>\n",
       "      <th>2015-08-31</th>\n",
       "      <td>124577.0</td>\n",
       "    </tr>\n",
       "    <tr>\n",
       "      <th>2017-02-28</th>\n",
       "      <td>170097.0</td>\n",
       "    </tr>\n",
       "    <tr>\n",
       "      <th>2017-03-31</th>\n",
       "      <td>193966.0</td>\n",
       "    </tr>\n",
       "  </tbody>\n",
       "</table>\n",
       "</div>"
      ],
      "text/plain": [
       "            Pageviews\n",
       "Date                 \n",
       "2015-07-31   150010.0\n",
       "2015-08-31   124577.0\n",
       "2017-02-28   170097.0\n",
       "2017-03-31   193966.0"
      ]
     },
     "execution_count": 43,
     "metadata": {},
     "output_type": "execute_result"
    }
   ],
   "source": [
    "# Keep +/- 12 months around interruption date\n",
    "time_delta = np.timedelta64(12, 'M')\n",
    "\n",
    "g_treatment = extract_around_date(df_monthly, interruption_date, time_delta)\n",
    "g_control = extract_around_date(df_monthly_ctrl, interruption_date, time_delta)\n",
    "\n",
    "# Show two first and last months of time range for treatment group\n",
    "g_treatment.iloc[[0,1,-2,-1]]"
   ]
  },
  {
   "cell_type": "code",
   "execution_count": 44,
   "metadata": {},
   "outputs": [
    {
     "data": {
      "text/html": [
       "<div>\n",
       "<style scoped>\n",
       "    .dataframe tbody tr th:only-of-type {\n",
       "        vertical-align: middle;\n",
       "    }\n",
       "\n",
       "    .dataframe tbody tr th {\n",
       "        vertical-align: top;\n",
       "    }\n",
       "\n",
       "    .dataframe thead th {\n",
       "        text-align: right;\n",
       "    }\n",
       "</style>\n",
       "<table border=\"1\" class=\"dataframe\">\n",
       "  <thead>\n",
       "    <tr style=\"text-align: right;\">\n",
       "      <th></th>\n",
       "      <th>Pageviews</th>\n",
       "    </tr>\n",
       "    <tr>\n",
       "      <th>Date</th>\n",
       "      <th></th>\n",
       "    </tr>\n",
       "  </thead>\n",
       "  <tbody>\n",
       "    <tr>\n",
       "      <th>2015-07-31</th>\n",
       "      <td>3976788</td>\n",
       "    </tr>\n",
       "    <tr>\n",
       "      <th>2015-08-31</th>\n",
       "      <td>4585485</td>\n",
       "    </tr>\n",
       "    <tr>\n",
       "      <th>2017-02-28</th>\n",
       "      <td>4469351</td>\n",
       "    </tr>\n",
       "    <tr>\n",
       "      <th>2017-03-31</th>\n",
       "      <td>4972085</td>\n",
       "    </tr>\n",
       "  </tbody>\n",
       "</table>\n",
       "</div>"
      ],
      "text/plain": [
       "            Pageviews\n",
       "Date                 \n",
       "2015-07-31    3976788\n",
       "2015-08-31    4585485\n",
       "2017-02-28    4469351\n",
       "2017-03-31    4972085"
      ]
     },
     "execution_count": 44,
     "metadata": {},
     "output_type": "execute_result"
    }
   ],
   "source": [
    "# Show two first and last months of time range for control group\n",
    "g_control.iloc[[0, 1, -2, -1]]"
   ]
  },
  {
   "cell_type": "markdown",
   "metadata": {},
   "source": [
    "## Mean Computation"
   ]
  },
  {
   "cell_type": "code",
   "execution_count": 45,
   "metadata": {},
   "outputs": [
    {
     "data": {
      "image/png": "[encoded data removed]",
      "text/plain": [
       "<Figure size 504x216 with 2 Axes>"
      ]
     },
     "metadata": {},
     "output_type": "display_data"
    }
   ],
   "source": [
    "fig, ax = plt.subplots(1, 2, figsize=(7, 3))\n",
    "\n",
    "# Plot means for pre- and post-intervention event for both treatment and control groups\n",
    "df_means_trmt = barplot_mean(g_treatment, interruption_date, ax=ax[0])\n",
    "df_means_ctrl = barplot_mean(g_control, interruption_date, ax=ax[1])\n",
    "\n",
    "# Add legend\n",
    "ax[1].set_ylabel('')\n",
    "ax[0].set_title('GDPR articles')\n",
    "ax[1].set_title('Popular articles')\n",
    "ax[0].legend().remove()\n",
    "plt.tight_layout()\n",
    "plt.savefig('figs/means_adoption.eps')"
   ]
  },
  {
   "cell_type": "code",
   "execution_count": 46,
   "metadata": {},
   "outputs": [
    {
     "data": {
      "text/html": [
       "<div>\n",
       "<style scoped>\n",
       "    .dataframe tbody tr th:only-of-type {\n",
       "        vertical-align: middle;\n",
       "    }\n",
       "\n",
       "    .dataframe tbody tr th {\n",
       "        vertical-align: top;\n",
       "    }\n",
       "\n",
       "    .dataframe thead th {\n",
       "        text-align: right;\n",
       "    }\n",
       "</style>\n",
       "<table border=\"1\" class=\"dataframe\">\n",
       "  <thead>\n",
       "    <tr style=\"text-align: right;\">\n",
       "      <th></th>\n",
       "      <th></th>\n",
       "      <th>Pageviews</th>\n",
       "    </tr>\n",
       "    <tr>\n",
       "      <th>timing</th>\n",
       "      <th>Time span</th>\n",
       "      <th></th>\n",
       "    </tr>\n",
       "  </thead>\n",
       "  <tbody>\n",
       "    <tr>\n",
       "      <th rowspan=\"2\" valign=\"top\">Post-April, 2016</th>\n",
       "      <th>12 months</th>\n",
       "      <td>169041.818182</td>\n",
       "    </tr>\n",
       "    <tr>\n",
       "      <th>6 months</th>\n",
       "      <td>159356.166667</td>\n",
       "    </tr>\n",
       "    <tr>\n",
       "      <th rowspan=\"2\" valign=\"top\">Pre-April, 2016</th>\n",
       "      <th>12 months</th>\n",
       "      <td>166935.250000</td>\n",
       "    </tr>\n",
       "    <tr>\n",
       "      <th>6 months</th>\n",
       "      <td>181017.200000</td>\n",
       "    </tr>\n",
       "  </tbody>\n",
       "</table>\n",
       "</div>"
      ],
      "text/plain": [
       "                                Pageviews\n",
       "timing           Time span               \n",
       "Post-April, 2016 12 months  169041.818182\n",
       "                 6 months   159356.166667\n",
       "Pre-April, 2016  12 months  166935.250000\n",
       "                 6 months   181017.200000"
      ]
     },
     "execution_count": 46,
     "metadata": {},
     "output_type": "execute_result"
    }
   ],
   "source": [
    "df_means_trmt"
   ]
  },
  {
   "cell_type": "code",
   "execution_count": 47,
   "metadata": {},
   "outputs": [
    {
     "data": {
      "text/html": [
       "<div>\n",
       "<style scoped>\n",
       "    .dataframe tbody tr th:only-of-type {\n",
       "        vertical-align: middle;\n",
       "    }\n",
       "\n",
       "    .dataframe tbody tr th {\n",
       "        vertical-align: top;\n",
       "    }\n",
       "\n",
       "    .dataframe thead th {\n",
       "        text-align: right;\n",
       "    }\n",
       "</style>\n",
       "<table border=\"1\" class=\"dataframe\">\n",
       "  <thead>\n",
       "    <tr style=\"text-align: right;\">\n",
       "      <th></th>\n",
       "      <th></th>\n",
       "      <th>Pageviews</th>\n",
       "    </tr>\n",
       "    <tr>\n",
       "      <th>timing</th>\n",
       "      <th>Time span</th>\n",
       "      <th></th>\n",
       "    </tr>\n",
       "  </thead>\n",
       "  <tbody>\n",
       "    <tr>\n",
       "      <th rowspan=\"2\" valign=\"top\">Post-April, 2016</th>\n",
       "      <th>12 months</th>\n",
       "      <td>4.937903e+06</td>\n",
       "    </tr>\n",
       "    <tr>\n",
       "      <th>6 months</th>\n",
       "      <td>4.793713e+06</td>\n",
       "    </tr>\n",
       "    <tr>\n",
       "      <th rowspan=\"2\" valign=\"top\">Pre-April, 2016</th>\n",
       "      <th>12 months</th>\n",
       "      <td>4.864481e+06</td>\n",
       "    </tr>\n",
       "    <tr>\n",
       "      <th>6 months</th>\n",
       "      <td>5.080797e+06</td>\n",
       "    </tr>\n",
       "  </tbody>\n",
       "</table>\n",
       "</div>"
      ],
      "text/plain": [
       "                               Pageviews\n",
       "timing           Time span              \n",
       "Post-April, 2016 12 months  4.937903e+06\n",
       "                 6 months   4.793713e+06\n",
       "Pre-April, 2016  12 months  4.864481e+06\n",
       "                 6 months   5.080797e+06"
      ]
     },
     "execution_count": 47,
     "metadata": {},
     "output_type": "execute_result"
    }
   ],
   "source": [
    "df_means_ctrl"
   ]
  },
  {
   "cell_type": "code",
   "execution_count": 48,
   "metadata": {},
   "outputs": [
    {
     "name": "stdout",
     "output_type": "stream",
     "text": [
      "Cohen's d value for Treatment group is 16.300.\n",
      "Cohen's d value for Control group is 21.969.\n"
     ]
    }
   ],
   "source": [
    "# Get Cohen's d value for both groups\n",
    "cohen_treatment = get_cohen_d(g_treatment, interruption_date)\n",
    "cohen_control = get_cohen_d(g_control, interruption_date)\n",
    "\n",
    "print(f\"Cohen's d value for Treatment group is {cohen_treatment:.3f}.\")\n",
    "print(f\"Cohen's d value for Control group is {cohen_control:.3f}.\")"
   ]
  },
  {
   "cell_type": "markdown",
   "metadata": {},
   "source": [
    "Litterature tells us that a coefficient higher than $1$ implies a significant difference in means.\n",
    "Here we find the difference in means is significant in both cases."
   ]
  },
  {
   "cell_type": "markdown",
   "metadata": {},
   "source": [
    "## Immediate change"
   ]
  },
  {
   "cell_type": "code",
   "execution_count": 49,
   "metadata": {},
   "outputs": [
    {
     "data": {
      "image/png": "[encoded data removed]",
      "text/plain": [
       "<Figure size 432x288 with 1 Axes>"
      ]
     },
     "metadata": {},
     "output_type": "display_data"
    }
   ],
   "source": [
    "g_treatment.plot()\n",
    "\n",
    "# Add legend\n",
    "plt.axvline(interruption_date, color='k', label='Date of GDPR adoption')\n",
    "plt.title('Page views of GDPR-related articles')\n",
    "plt.ylabel('Sum of views');\n",
    "plt.legend();"
   ]
  },
  {
   "cell_type": "code",
   "execution_count": 50,
   "metadata": {},
   "outputs": [
    {
     "name": "stdout",
     "output_type": "stream",
     "text": [
      "2016-03 vs 2016-04 : +4234, +2.455%\n",
      "2016-04 vs 2016-05 : -10296, -5.827%\n"
     ]
    }
   ],
   "source": [
    "compute_immediate_change(g_treatment, interruption_date)"
   ]
  },
  {
   "cell_type": "code",
   "execution_count": 51,
   "metadata": {},
   "outputs": [
    {
     "name": "stdout",
     "output_type": "stream",
     "text": [
      "2016-03 vs 2016-04 : -82216, -1.679%\n",
      "2016-04 vs 2016-05 : +164059, +3.408%\n"
     ]
    }
   ],
   "source": [
    "compute_immediate_change(g_control, interruption_date)"
   ]
  },
  {
   "cell_type": "markdown",
   "metadata": {},
   "source": [
    "## ITS Regression"
   ]
  },
  {
   "cell_type": "code",
   "execution_count": 52,
   "metadata": {},
   "outputs": [],
   "source": [
    "# Compute trends predictions for treatment datasets\n",
    "fit_formula = 'Pageviews ~ time + intervention + postslope'\n",
    "\n",
    "temp_treatment, reference_point = monthly_views_formatting(g_treatment, interruption_date)\n",
    "ypred_treatment, res_treatment = fit_model(formula=fit_formula, \n",
    "                                           data=temp_treatment, \n",
    "                                           predictor=temp_treatment, \n",
    "                                           seed=2,\n",
    "                                           return_res=True)\n",
    "\n",
    "# Compute trends predictions for control datasets\n",
    "temp_control, reference_point = monthly_views_formatting(g_control, interruption_date)\n",
    "ypred_control, res_control = fit_model(formula=fit_formula, \n",
    "                                       data=temp_control, \n",
    "                                       predictor=temp_control, \n",
    "                                       seed=2,\n",
    "                                       return_res=True)"
   ]
  },
  {
   "cell_type": "code",
   "execution_count": 53,
   "metadata": {},
   "outputs": [
    {
     "name": "stderr",
     "output_type": "stream",
     "text": [
      "/home/maousi/anaconda3/envs/ada/lib/python3.8/site-packages/scipy/stats/stats.py:1603: UserWarning: kurtosistest only valid for n>=20 ... continuing anyway, n=19\n",
      "  warnings.warn(\"kurtosistest only valid for n>=20 ... continuing \"\n"
     ]
    },
    {
     "data": {
      "text/html": [
       "<table class=\"simpletable\">\n",
       "<caption>OLS Regression Results</caption>\n",
       "<tr>\n",
       "  <th>Dep. Variable:</th>        <td>Pageviews</td>    <th>  R-squared:         </th> <td>   0.307</td>\n",
       "</tr>\n",
       "<tr>\n",
       "  <th>Model:</th>                   <td>OLS</td>       <th>  Adj. R-squared:    </th> <td>   0.169</td>\n",
       "</tr>\n",
       "<tr>\n",
       "  <th>Method:</th>             <td>Least Squares</td>  <th>  F-statistic:       </th> <td>   2.219</td>\n",
       "</tr>\n",
       "<tr>\n",
       "  <th>Date:</th>             <td>Fri, 18 Dec 2020</td> <th>  Prob (F-statistic):</th>  <td> 0.128</td> \n",
       "</tr>\n",
       "<tr>\n",
       "  <th>Time:</th>                 <td>19:44:04</td>     <th>  Log-Likelihood:    </th> <td> -212.24</td>\n",
       "</tr>\n",
       "<tr>\n",
       "  <th>No. Observations:</th>      <td>    19</td>      <th>  AIC:               </th> <td>   432.5</td>\n",
       "</tr>\n",
       "<tr>\n",
       "  <th>Df Residuals:</th>          <td>    15</td>      <th>  BIC:               </th> <td>   436.3</td>\n",
       "</tr>\n",
       "<tr>\n",
       "  <th>Df Model:</th>              <td>     3</td>      <th>                     </th>     <td> </td>   \n",
       "</tr>\n",
       "<tr>\n",
       "  <th>Covariance Type:</th>      <td>nonrobust</td>    <th>                     </th>     <td> </td>   \n",
       "</tr>\n",
       "</table>\n",
       "<table class=\"simpletable\">\n",
       "<tr>\n",
       "        <td></td>          <th>coef</th>     <th>std err</th>      <th>t</th>      <th>P>|t|</th>  <th>[0.025</th>    <th>0.975]</th>  \n",
       "</tr>\n",
       "<tr>\n",
       "  <th>Intercept</th>    <td> 1.368e+05</td> <td> 1.51e+04</td> <td>    9.077</td> <td> 0.000</td> <td> 1.05e+05</td> <td> 1.69e+05</td>\n",
       "</tr>\n",
       "<tr>\n",
       "  <th>time</th>         <td> 6705.5714</td> <td> 2983.553</td> <td>    2.248</td> <td> 0.040</td> <td>  346.278</td> <td> 1.31e+04</td>\n",
       "</tr>\n",
       "<tr>\n",
       "  <th>intervention</th> <td>-3.514e+04</td> <td> 1.77e+04</td> <td>   -1.989</td> <td> 0.065</td> <td>-7.28e+04</td> <td> 2517.504</td>\n",
       "</tr>\n",
       "<tr>\n",
       "  <th>postslope</th>    <td>-4409.5987</td> <td> 3507.190</td> <td>   -1.257</td> <td> 0.228</td> <td>-1.19e+04</td> <td> 3065.799</td>\n",
       "</tr>\n",
       "</table>\n",
       "<table class=\"simpletable\">\n",
       "<tr>\n",
       "  <th>Omnibus:</th>       <td> 1.992</td> <th>  Durbin-Watson:     </th> <td>   1.644</td>\n",
       "</tr>\n",
       "<tr>\n",
       "  <th>Prob(Omnibus):</th> <td> 0.369</td> <th>  Jarque-Bera (JB):  </th> <td>   1.322</td>\n",
       "</tr>\n",
       "<tr>\n",
       "  <th>Skew:</th>          <td>-0.398</td> <th>  Prob(JB):          </th> <td>   0.516</td>\n",
       "</tr>\n",
       "<tr>\n",
       "  <th>Kurtosis:</th>      <td> 1.982</td> <th>  Cond. No.          </th> <td>    54.7</td>\n",
       "</tr>\n",
       "</table><br/><br/>Notes:<br/>[1] Standard Errors assume that the covariance matrix of the errors is correctly specified."
      ],
      "text/plain": [
       "<class 'statsmodels.iolib.summary.Summary'>\n",
       "\"\"\"\n",
       "                            OLS Regression Results                            \n",
       "==============================================================================\n",
       "Dep. Variable:              Pageviews   R-squared:                       0.307\n",
       "Model:                            OLS   Adj. R-squared:                  0.169\n",
       "Method:                 Least Squares   F-statistic:                     2.219\n",
       "Date:                Fri, 18 Dec 2020   Prob (F-statistic):              0.128\n",
       "Time:                        19:44:04   Log-Likelihood:                -212.24\n",
       "No. Observations:                  19   AIC:                             432.5\n",
       "Df Residuals:                      15   BIC:                             436.3\n",
       "Df Model:                           3                                         \n",
       "Covariance Type:            nonrobust                                         \n",
       "================================================================================\n",
       "                   coef    std err          t      P>|t|      [0.025      0.975]\n",
       "--------------------------------------------------------------------------------\n",
       "Intercept     1.368e+05   1.51e+04      9.077      0.000    1.05e+05    1.69e+05\n",
       "time          6705.5714   2983.553      2.248      0.040     346.278    1.31e+04\n",
       "intervention -3.514e+04   1.77e+04     -1.989      0.065   -7.28e+04    2517.504\n",
       "postslope    -4409.5987   3507.190     -1.257      0.228   -1.19e+04    3065.799\n",
       "==============================================================================\n",
       "Omnibus:                        1.992   Durbin-Watson:                   1.644\n",
       "Prob(Omnibus):                  0.369   Jarque-Bera (JB):                1.322\n",
       "Skew:                          -0.398   Prob(JB):                        0.516\n",
       "Kurtosis:                       1.982   Cond. No.                         54.7\n",
       "==============================================================================\n",
       "\n",
       "Notes:\n",
       "[1] Standard Errors assume that the covariance matrix of the errors is correctly specified.\n",
       "\"\"\""
      ]
     },
     "execution_count": 53,
     "metadata": {},
     "output_type": "execute_result"
    }
   ],
   "source": [
    "res_treatment.summary()"
   ]
  },
  {
   "cell_type": "code",
   "execution_count": 54,
   "metadata": {},
   "outputs": [
    {
     "name": "stderr",
     "output_type": "stream",
     "text": [
      "/home/maousi/anaconda3/envs/ada/lib/python3.8/site-packages/scipy/stats/stats.py:1603: UserWarning: kurtosistest only valid for n>=20 ... continuing anyway, n=19\n",
      "  warnings.warn(\"kurtosistest only valid for n>=20 ... continuing \"\n"
     ]
    },
    {
     "data": {
      "text/html": [
       "<table class=\"simpletable\">\n",
       "<caption>OLS Regression Results</caption>\n",
       "<tr>\n",
       "  <th>Dep. Variable:</th>        <td>Pageviews</td>    <th>  R-squared:         </th> <td>   0.191</td>\n",
       "</tr>\n",
       "<tr>\n",
       "  <th>Model:</th>                   <td>OLS</td>       <th>  Adj. R-squared:    </th> <td>   0.029</td>\n",
       "</tr>\n",
       "<tr>\n",
       "  <th>Method:</th>             <td>Least Squares</td>  <th>  F-statistic:       </th> <td>   1.179</td>\n",
       "</tr>\n",
       "<tr>\n",
       "  <th>Date:</th>             <td>Fri, 18 Dec 2020</td> <th>  Prob (F-statistic):</th>  <td> 0.351</td> \n",
       "</tr>\n",
       "<tr>\n",
       "  <th>Time:</th>                 <td>19:44:04</td>     <th>  Log-Likelihood:    </th> <td> -272.16</td>\n",
       "</tr>\n",
       "<tr>\n",
       "  <th>No. Observations:</th>      <td>    19</td>      <th>  AIC:               </th> <td>   552.3</td>\n",
       "</tr>\n",
       "<tr>\n",
       "  <th>Df Residuals:</th>          <td>    15</td>      <th>  BIC:               </th> <td>   556.1</td>\n",
       "</tr>\n",
       "<tr>\n",
       "  <th>Df Model:</th>              <td>     3</td>      <th>                     </th>     <td> </td>   \n",
       "</tr>\n",
       "<tr>\n",
       "  <th>Covariance Type:</th>      <td>nonrobust</td>    <th>                     </th>     <td> </td>   \n",
       "</tr>\n",
       "</table>\n",
       "<table class=\"simpletable\">\n",
       "<tr>\n",
       "        <td></td>          <th>coef</th>     <th>std err</th>      <th>t</th>      <th>P>|t|</th>  <th>[0.025</th>    <th>0.975]</th>  \n",
       "</tr>\n",
       "<tr>\n",
       "  <th>Intercept</th>    <td> 4.296e+06</td> <td> 3.53e+05</td> <td>   12.177</td> <td> 0.000</td> <td> 3.54e+06</td> <td> 5.05e+06</td>\n",
       "</tr>\n",
       "<tr>\n",
       "  <th>time</th>         <td> 1.263e+05</td> <td> 6.99e+04</td> <td>    1.807</td> <td> 0.091</td> <td>-2.27e+04</td> <td> 2.75e+05</td>\n",
       "</tr>\n",
       "<tr>\n",
       "  <th>intervention</th> <td>-4.684e+05</td> <td> 4.14e+05</td> <td>   -1.132</td> <td> 0.275</td> <td>-1.35e+06</td> <td> 4.13e+05</td>\n",
       "</tr>\n",
       "<tr>\n",
       "  <th>postslope</th>    <td>-1.096e+05</td> <td> 8.21e+04</td> <td>   -1.335</td> <td> 0.202</td> <td>-2.85e+05</td> <td> 6.54e+04</td>\n",
       "</tr>\n",
       "</table>\n",
       "<table class=\"simpletable\">\n",
       "<tr>\n",
       "  <th>Omnibus:</th>       <td> 1.253</td> <th>  Durbin-Watson:     </th> <td>   1.718</td>\n",
       "</tr>\n",
       "<tr>\n",
       "  <th>Prob(Omnibus):</th> <td> 0.534</td> <th>  Jarque-Bera (JB):  </th> <td>   1.100</td>\n",
       "</tr>\n",
       "<tr>\n",
       "  <th>Skew:</th>          <td> 0.441</td> <th>  Prob(JB):          </th> <td>   0.577</td>\n",
       "</tr>\n",
       "<tr>\n",
       "  <th>Kurtosis:</th>      <td> 2.217</td> <th>  Cond. No.          </th> <td>    54.7</td>\n",
       "</tr>\n",
       "</table><br/><br/>Notes:<br/>[1] Standard Errors assume that the covariance matrix of the errors is correctly specified."
      ],
      "text/plain": [
       "<class 'statsmodels.iolib.summary.Summary'>\n",
       "\"\"\"\n",
       "                            OLS Regression Results                            \n",
       "==============================================================================\n",
       "Dep. Variable:              Pageviews   R-squared:                       0.191\n",
       "Model:                            OLS   Adj. R-squared:                  0.029\n",
       "Method:                 Least Squares   F-statistic:                     1.179\n",
       "Date:                Fri, 18 Dec 2020   Prob (F-statistic):              0.351\n",
       "Time:                        19:44:04   Log-Likelihood:                -272.16\n",
       "No. Observations:                  19   AIC:                             552.3\n",
       "Df Residuals:                      15   BIC:                             556.1\n",
       "Df Model:                           3                                         \n",
       "Covariance Type:            nonrobust                                         \n",
       "================================================================================\n",
       "                   coef    std err          t      P>|t|      [0.025      0.975]\n",
       "--------------------------------------------------------------------------------\n",
       "Intercept     4.296e+06   3.53e+05     12.177      0.000    3.54e+06    5.05e+06\n",
       "time          1.263e+05   6.99e+04      1.807      0.091   -2.27e+04    2.75e+05\n",
       "intervention -4.684e+05   4.14e+05     -1.132      0.275   -1.35e+06    4.13e+05\n",
       "postslope    -1.096e+05   8.21e+04     -1.335      0.202   -2.85e+05    6.54e+04\n",
       "==============================================================================\n",
       "Omnibus:                        1.253   Durbin-Watson:                   1.718\n",
       "Prob(Omnibus):                  0.534   Jarque-Bera (JB):                1.100\n",
       "Skew:                           0.441   Prob(JB):                        0.577\n",
       "Kurtosis:                       2.217   Cond. No.                         54.7\n",
       "==============================================================================\n",
       "\n",
       "Notes:\n",
       "[1] Standard Errors assume that the covariance matrix of the errors is correctly specified.\n",
       "\"\"\""
      ]
     },
     "execution_count": 54,
     "metadata": {},
     "output_type": "execute_result"
    }
   ],
   "source": [
    "res_control.summary()"
   ]
  },
  {
   "cell_type": "code",
   "execution_count": 55,
   "metadata": {},
   "outputs": [
    {
     "name": "stderr",
     "output_type": "stream",
     "text": [
      "/home/maousi/anaconda3/envs/ada/lib/python3.8/site-packages/scipy/stats/stats.py:1603: UserWarning: kurtosistest only valid for n>=20 ... continuing anyway, n=19\n",
      "  warnings.warn(\"kurtosistest only valid for n>=20 ... continuing \"\n",
      "/home/maousi/anaconda3/envs/ada/lib/python3.8/site-packages/scipy/stats/stats.py:1603: UserWarning: kurtosistest only valid for n>=20 ... continuing anyway, n=19\n",
      "  warnings.warn(\"kurtosistest only valid for n>=20 ... continuing \"\n"
     ]
    }
   ],
   "source": [
    "save_regression_summary(res_treatment, 'range_1_treatment.tex')\n",
    "save_regression_summary(res_control, 'range_1_control.tex')"
   ]
  },
  {
   "cell_type": "code",
   "execution_count": 56,
   "metadata": {},
   "outputs": [],
   "source": [
    "# Compute 95% confidence intervals for each monthly estimated average\n",
    "y_error_treatment = bootstrap_CI(temp_treatment, 2000, fit_formula)\n",
    "y_error_control = bootstrap_CI(temp_control, 2000, fit_formula)"
   ]
  },
  {
   "cell_type": "code",
   "execution_count": 57,
   "metadata": {
    "scrolled": true
   },
   "outputs": [
    {
     "data": {
      "image/png": "[encoded data removed]",
      "text/plain": [
       "<Figure size 720x288 with 2 Axes>"
      ]
     },
     "metadata": {},
     "output_type": "display_data"
    }
   ],
   "source": [
    "fig, (ax1,ax2) = plt.subplots(1,2, figsize=(10,4))\n",
    "itr = 'April'\n",
    "\n",
    "# Plot the treatment group trends before and after the adoption of the regulation\n",
    "plotting(itr, 'Treatment', reference_point, temp_treatment, ypred_treatment, y_error_treatment, ax=ax1)\n",
    "# Plot the control group trends before and after the lauch of the regulation\n",
    "plotting(itr, 'Control', reference_point, temp_control, ypred_control, y_error_control, ax=ax2)\n",
    "\n",
    "# Add Legends\n",
    "lgd = fig.legend(bbox_to_anchor=(-0.15, 0.08, 1.2, 0.102), loc='lower center',\n",
    "               ncol=3, borderaxespad=0., \n",
    "               labels = ['Article Trend Pre-' + itr, 'Article Trend Post-' + itr,\n",
    "                         '95%-Confidence Interval Pre-' + itr, '95%-Confidence Interval Post-' + itr,\n",
    "                         'Articles Views (By Month)', 'Articles Views (By Month)'])\n",
    "ax2.set_ylabel(\"\")\n",
    "\n",
    "# Adjust and save plot\n",
    "fig.subplots_adjust(bottom=0.4)\n",
    "fig.savefig('figs/April_2groups_trends.pdf', bbox_extra_artists=(lgd,) , bbox_inches='tight')"
   ]
  },
  {
   "cell_type": "markdown",
   "metadata": {},
   "source": [
    "---\n",
    "# GPDR Beggining of enforcement\n",
    "The GDPR regulation was applied starting from the $25^{th}$ of May $2018$ for every country of the European Union (EU) and European Economic Area (EEA). We aim to answer the following questions regarding the event : \n",
    "* Is there an inverse chilling effect (e.g. immediate spike) following the day when the regulation became effective?\n",
    "* Has there been a change in trends in the viewing of critical terms related to the regulation after the event?\n",
    "\n",
    "We will thus answer these questions using the analysis methods from the reference paper and draw conclusions."
   ]
  },
  {
   "cell_type": "markdown",
   "metadata": {},
   "source": [
    "## Monthly Aggregation"
   ]
  },
  {
   "cell_type": "code",
   "execution_count": 58,
   "metadata": {},
   "outputs": [],
   "source": [
    "# Date of interruption event\n",
    "interruption_date = '2018-05-25'"
   ]
  },
  {
   "cell_type": "code",
   "execution_count": 59,
   "metadata": {},
   "outputs": [
    {
     "data": {
      "text/html": [
       "<div>\n",
       "<style scoped>\n",
       "    .dataframe tbody tr th:only-of-type {\n",
       "        vertical-align: middle;\n",
       "    }\n",
       "\n",
       "    .dataframe tbody tr th {\n",
       "        vertical-align: top;\n",
       "    }\n",
       "\n",
       "    .dataframe thead th {\n",
       "        text-align: right;\n",
       "    }\n",
       "</style>\n",
       "<table border=\"1\" class=\"dataframe\">\n",
       "  <thead>\n",
       "    <tr style=\"text-align: right;\">\n",
       "      <th></th>\n",
       "      <th>Pageviews</th>\n",
       "    </tr>\n",
       "    <tr>\n",
       "      <th>Date</th>\n",
       "      <th></th>\n",
       "    </tr>\n",
       "  </thead>\n",
       "  <tbody>\n",
       "    <tr>\n",
       "      <th>2017-05-31</th>\n",
       "      <td>177165.0</td>\n",
       "    </tr>\n",
       "    <tr>\n",
       "      <th>2017-06-30</th>\n",
       "      <td>159184.0</td>\n",
       "    </tr>\n",
       "    <tr>\n",
       "      <th>2019-03-31</th>\n",
       "      <td>220649.0</td>\n",
       "    </tr>\n",
       "    <tr>\n",
       "      <th>2019-04-30</th>\n",
       "      <td>191018.0</td>\n",
       "    </tr>\n",
       "  </tbody>\n",
       "</table>\n",
       "</div>"
      ],
      "text/plain": [
       "            Pageviews\n",
       "Date                 \n",
       "2017-05-31   177165.0\n",
       "2017-06-30   159184.0\n",
       "2019-03-31   220649.0\n",
       "2019-04-30   191018.0"
      ]
     },
     "execution_count": 59,
     "metadata": {},
     "output_type": "execute_result"
    }
   ],
   "source": [
    "# Keep +/- 12 months around interruption date\n",
    "time_delta = np.timedelta64(12, 'M')\n",
    "\n",
    "g_treatment = extract_around_date(df_monthly, interruption_date, time_delta)\n",
    "g_control = extract_around_date(df_monthly_ctrl, interruption_date, time_delta)\n",
    "\n",
    "# Illustrate the two first and last dates computed for the treatment group\n",
    "g_treatment.iloc[[0,1,-2,-1]]"
   ]
  },
  {
   "cell_type": "code",
   "execution_count": 60,
   "metadata": {},
   "outputs": [
    {
     "data": {
      "text/html": [
       "<div>\n",
       "<style scoped>\n",
       "    .dataframe tbody tr th:only-of-type {\n",
       "        vertical-align: middle;\n",
       "    }\n",
       "\n",
       "    .dataframe tbody tr th {\n",
       "        vertical-align: top;\n",
       "    }\n",
       "\n",
       "    .dataframe thead th {\n",
       "        text-align: right;\n",
       "    }\n",
       "</style>\n",
       "<table border=\"1\" class=\"dataframe\">\n",
       "  <thead>\n",
       "    <tr style=\"text-align: right;\">\n",
       "      <th></th>\n",
       "      <th>Pageviews</th>\n",
       "    </tr>\n",
       "    <tr>\n",
       "      <th>Date</th>\n",
       "      <th></th>\n",
       "    </tr>\n",
       "  </thead>\n",
       "  <tbody>\n",
       "    <tr>\n",
       "      <th>2017-05-31</th>\n",
       "      <td>4671613</td>\n",
       "    </tr>\n",
       "    <tr>\n",
       "      <th>2017-06-30</th>\n",
       "      <td>4017426</td>\n",
       "    </tr>\n",
       "    <tr>\n",
       "      <th>2019-03-31</th>\n",
       "      <td>4530837</td>\n",
       "    </tr>\n",
       "    <tr>\n",
       "      <th>2019-04-30</th>\n",
       "      <td>4106553</td>\n",
       "    </tr>\n",
       "  </tbody>\n",
       "</table>\n",
       "</div>"
      ],
      "text/plain": [
       "            Pageviews\n",
       "Date                 \n",
       "2017-05-31    4671613\n",
       "2017-06-30    4017426\n",
       "2019-03-31    4530837\n",
       "2019-04-30    4106553"
      ]
     },
     "execution_count": 60,
     "metadata": {},
     "output_type": "execute_result"
    }
   ],
   "source": [
    "# Illustrate the two first and last dates computed for the control group\n",
    "g_control.iloc[[0, 1, -2, -1]]"
   ]
  },
  {
   "cell_type": "markdown",
   "metadata": {},
   "source": [
    "## Mean Computation"
   ]
  },
  {
   "cell_type": "code",
   "execution_count": 61,
   "metadata": {},
   "outputs": [
    {
     "data": {
      "image/png": "[encoded data removed]",
      "text/plain": [
       "<Figure size 504x216 with 2 Axes>"
      ]
     },
     "metadata": {},
     "output_type": "display_data"
    }
   ],
   "source": [
    "fig, ax = plt.subplots(1, 2, figsize=(7, 3))\n",
    "\n",
    "# Plot means for pre- and post-intervention event for both treatment and control groups\n",
    "df_means_trmt = barplot_mean(g_treatment, interruption_date, ax=ax[0])\n",
    "df_means_ctrl = barplot_mean(g_control, interruption_date, ax=ax[1])\n",
    "\n",
    "# Add legend\n",
    "ax[1].set_ylabel('')\n",
    "ax[0].set_title('GDPR articles')\n",
    "ax[1].set_title('Popular articles')\n",
    "ax[0].legend().remove()\n",
    "plt.tight_layout()\n",
    "plt.savefig('figs/means_enforcement.eps')"
   ]
  },
  {
   "cell_type": "code",
   "execution_count": 62,
   "metadata": {},
   "outputs": [
    {
     "data": {
      "text/html": [
       "<div>\n",
       "<style scoped>\n",
       "    .dataframe tbody tr th:only-of-type {\n",
       "        vertical-align: middle;\n",
       "    }\n",
       "\n",
       "    .dataframe tbody tr th {\n",
       "        vertical-align: top;\n",
       "    }\n",
       "\n",
       "    .dataframe thead th {\n",
       "        text-align: right;\n",
       "    }\n",
       "</style>\n",
       "<table border=\"1\" class=\"dataframe\">\n",
       "  <thead>\n",
       "    <tr style=\"text-align: right;\">\n",
       "      <th></th>\n",
       "      <th></th>\n",
       "      <th>Pageviews</th>\n",
       "    </tr>\n",
       "    <tr>\n",
       "      <th>timing</th>\n",
       "      <th>Time span</th>\n",
       "      <th></th>\n",
       "    </tr>\n",
       "  </thead>\n",
       "  <tbody>\n",
       "    <tr>\n",
       "      <th rowspan=\"2\" valign=\"top\">Post-May, 2018</th>\n",
       "      <th>12 months</th>\n",
       "      <td>244697.727273</td>\n",
       "    </tr>\n",
       "    <tr>\n",
       "      <th>6 months</th>\n",
       "      <td>272367.000000</td>\n",
       "    </tr>\n",
       "    <tr>\n",
       "      <th rowspan=\"2\" valign=\"top\">Pre-May, 2018</th>\n",
       "      <th>12 months</th>\n",
       "      <td>197434.363636</td>\n",
       "    </tr>\n",
       "    <tr>\n",
       "      <th>6 months</th>\n",
       "      <td>242170.800000</td>\n",
       "    </tr>\n",
       "  </tbody>\n",
       "</table>\n",
       "</div>"
      ],
      "text/plain": [
       "                              Pageviews\n",
       "timing         Time span               \n",
       "Post-May, 2018 12 months  244697.727273\n",
       "               6 months   272367.000000\n",
       "Pre-May, 2018  12 months  197434.363636\n",
       "               6 months   242170.800000"
      ]
     },
     "execution_count": 62,
     "metadata": {},
     "output_type": "execute_result"
    }
   ],
   "source": [
    "df_means_trmt"
   ]
  },
  {
   "cell_type": "code",
   "execution_count": 63,
   "metadata": {},
   "outputs": [
    {
     "data": {
      "text/html": [
       "<div>\n",
       "<style scoped>\n",
       "    .dataframe tbody tr th:only-of-type {\n",
       "        vertical-align: middle;\n",
       "    }\n",
       "\n",
       "    .dataframe tbody tr th {\n",
       "        vertical-align: top;\n",
       "    }\n",
       "\n",
       "    .dataframe thead th {\n",
       "        text-align: right;\n",
       "    }\n",
       "</style>\n",
       "<table border=\"1\" class=\"dataframe\">\n",
       "  <thead>\n",
       "    <tr style=\"text-align: right;\">\n",
       "      <th></th>\n",
       "      <th></th>\n",
       "      <th>Pageviews</th>\n",
       "    </tr>\n",
       "    <tr>\n",
       "      <th>timing</th>\n",
       "      <th>Time span</th>\n",
       "      <th></th>\n",
       "    </tr>\n",
       "  </thead>\n",
       "  <tbody>\n",
       "    <tr>\n",
       "      <th rowspan=\"2\" valign=\"top\">Post-May, 2018</th>\n",
       "      <th>12 months</th>\n",
       "      <td>4.225467e+06</td>\n",
       "    </tr>\n",
       "    <tr>\n",
       "      <th>6 months</th>\n",
       "      <td>4.151865e+06</td>\n",
       "    </tr>\n",
       "    <tr>\n",
       "      <th rowspan=\"2\" valign=\"top\">Pre-May, 2018</th>\n",
       "      <th>12 months</th>\n",
       "      <td>4.301042e+06</td>\n",
       "    </tr>\n",
       "    <tr>\n",
       "      <th>6 months</th>\n",
       "      <td>4.393835e+06</td>\n",
       "    </tr>\n",
       "  </tbody>\n",
       "</table>\n",
       "</div>"
      ],
      "text/plain": [
       "                             Pageviews\n",
       "timing         Time span              \n",
       "Post-May, 2018 12 months  4.225467e+06\n",
       "               6 months   4.151865e+06\n",
       "Pre-May, 2018  12 months  4.301042e+06\n",
       "               6 months   4.393835e+06"
      ]
     },
     "execution_count": 63,
     "metadata": {},
     "output_type": "execute_result"
    }
   ],
   "source": [
    "df_means_ctrl"
   ]
  },
  {
   "cell_type": "code",
   "execution_count": 64,
   "metadata": {},
   "outputs": [
    {
     "name": "stdout",
     "output_type": "stream",
     "text": [
      "Cohen's d value for Treatment group is 5.921.\n",
      "Cohen's d value for Control group is 34.514.\n"
     ]
    }
   ],
   "source": [
    "# Get Cohen's d value for both groups\n",
    "cohen_treatment = get_cohen_d(g_treatment, interruption_date)\n",
    "cohen_control = get_cohen_d(g_control, interruption_date)\n",
    "\n",
    "print(f\"Cohen's d value for Treatment group is {cohen_treatment:.3f}.\")\n",
    "print(f\"Cohen's d value for Control group is {cohen_control:.3f}.\")"
   ]
  },
  {
   "cell_type": "markdown",
   "metadata": {},
   "source": [
    "Litterature tells us that a coefficient higher than $1$ implies a significant difference in means.\n",
    "Here we find the difference in means is significant in both cases."
   ]
  },
  {
   "cell_type": "markdown",
   "metadata": {},
   "source": [
    "## Immediate change"
   ]
  },
  {
   "cell_type": "code",
   "execution_count": 65,
   "metadata": {},
   "outputs": [
    {
     "data": {
      "image/png": "[encoded data removed]",
      "text/plain": [
       "<Figure size 432x288 with 1 Axes>"
      ]
     },
     "metadata": {},
     "output_type": "display_data"
    }
   ],
   "source": [
    "g_treatment.plot()\n",
    "\n",
    "# Add vertical marker for intervention event\n",
    "plt.axvline(interruption_date, color='k', label='Date of GDPR enforcement')\n",
    "\n",
    "# Add legend\n",
    "plt.title('Page views of GDPR-related articles')\n",
    "plt.ylabel('Sum of views');\n",
    "plt.legend(loc='lower left');"
   ]
  },
  {
   "cell_type": "code",
   "execution_count": 66,
   "metadata": {},
   "outputs": [
    {
     "name": "stdout",
     "output_type": "stream",
     "text": [
      "2018-04 vs 2018-05 : +218172, +71.34%\n",
      "2018-05 vs 2018-06 : -219102, -41.81%\n"
     ]
    }
   ],
   "source": [
    "compute_immediate_change(g_treatment, interruption_date)"
   ]
  },
  {
   "cell_type": "code",
   "execution_count": 67,
   "metadata": {},
   "outputs": [
    {
     "name": "stdout",
     "output_type": "stream",
     "text": [
      "2018-04 vs 2018-05 : -115908, -2.694%\n",
      "2018-05 vs 2018-06 : +153892, +3.676%\n"
     ]
    }
   ],
   "source": [
    "compute_immediate_change(g_control, interruption_date)"
   ]
  },
  {
   "cell_type": "markdown",
   "metadata": {},
   "source": [
    "## ITS Regression"
   ]
  },
  {
   "cell_type": "code",
   "execution_count": 68,
   "metadata": {},
   "outputs": [],
   "source": [
    "# Compute trends predictions for treatment datasets\n",
    "fit_formula = 'Pageviews ~ time + intervention + postslope'\n",
    "\n",
    "temp_treatment, reference_point = monthly_views_formatting(g_treatment, interruption_date)\n",
    "#temp_treatment.drop(temp_treatment.index[:3], inplace=True)\n",
    "ypred_treatment, res_treatment = fit_model(formula=fit_formula, \n",
    "                                           data=temp_treatment, \n",
    "                                           predictor=temp_treatment, \n",
    "                                           seed=2,\n",
    "                                           return_res=True)\n",
    "\n",
    "# Compute trends predictions for control datasets\n",
    "temp_control, reference_point = monthly_views_formatting(g_control, interruption_date)\n",
    "ypred_control, res_control = fit_model(formula=fit_formula, \n",
    "                                       data=temp_control, \n",
    "                                       predictor=temp_control, \n",
    "                                       seed=2,\n",
    "                                       return_res=True)"
   ]
  },
  {
   "cell_type": "code",
   "execution_count": 69,
   "metadata": {},
   "outputs": [
    {
     "data": {
      "text/html": [
       "<table class=\"simpletable\">\n",
       "<caption>OLS Regression Results</caption>\n",
       "<tr>\n",
       "  <th>Dep. Variable:</th>        <td>Pageviews</td>    <th>  R-squared:         </th> <td>   0.489</td>\n",
       "</tr>\n",
       "<tr>\n",
       "  <th>Model:</th>                   <td>OLS</td>       <th>  Adj. R-squared:    </th> <td>   0.403</td>\n",
       "</tr>\n",
       "<tr>\n",
       "  <th>Method:</th>             <td>Least Squares</td>  <th>  F-statistic:       </th> <td>   5.734</td>\n",
       "</tr>\n",
       "<tr>\n",
       "  <th>Date:</th>             <td>Fri, 18 Dec 2020</td> <th>  Prob (F-statistic):</th>  <td>0.00618</td>\n",
       "</tr>\n",
       "<tr>\n",
       "  <th>Time:</th>                 <td>19:44:36</td>     <th>  Log-Likelihood:    </th> <td> -271.75</td>\n",
       "</tr>\n",
       "<tr>\n",
       "  <th>No. Observations:</th>      <td>    22</td>      <th>  AIC:               </th> <td>   551.5</td>\n",
       "</tr>\n",
       "<tr>\n",
       "  <th>Df Residuals:</th>          <td>    18</td>      <th>  BIC:               </th> <td>   555.9</td>\n",
       "</tr>\n",
       "<tr>\n",
       "  <th>Df Model:</th>              <td>     3</td>      <th>                     </th>     <td> </td>   \n",
       "</tr>\n",
       "<tr>\n",
       "  <th>Covariance Type:</th>      <td>nonrobust</td>    <th>                     </th>     <td> </td>   \n",
       "</tr>\n",
       "</table>\n",
       "<table class=\"simpletable\">\n",
       "<tr>\n",
       "        <td></td>          <th>coef</th>     <th>std err</th>      <th>t</th>      <th>P>|t|</th>  <th>[0.025</th>    <th>0.975]</th>  \n",
       "</tr>\n",
       "<tr>\n",
       "  <th>Intercept</th>    <td> 1.177e+05</td> <td>    4e+04</td> <td>    2.940</td> <td> 0.009</td> <td> 3.36e+04</td> <td> 2.02e+05</td>\n",
       "</tr>\n",
       "<tr>\n",
       "  <th>time</th>         <td> 1.329e+04</td> <td> 5903.536</td> <td>    2.251</td> <td> 0.037</td> <td>  885.086</td> <td> 2.57e+04</td>\n",
       "</tr>\n",
       "<tr>\n",
       "  <th>intervention</th> <td> 8.668e+04</td> <td> 5.31e+04</td> <td>    1.631</td> <td> 0.120</td> <td>-2.49e+04</td> <td> 1.98e+05</td>\n",
       "</tr>\n",
       "<tr>\n",
       "  <th>postslope</th>    <td>-3.093e+04</td> <td> 8348.861</td> <td>   -3.705</td> <td> 0.002</td> <td>-4.85e+04</td> <td>-1.34e+04</td>\n",
       "</tr>\n",
       "</table>\n",
       "<table class=\"simpletable\">\n",
       "<tr>\n",
       "  <th>Omnibus:</th>       <td>16.742</td> <th>  Durbin-Watson:     </th> <td>   1.133</td>\n",
       "</tr>\n",
       "<tr>\n",
       "  <th>Prob(Omnibus):</th> <td> 0.000</td> <th>  Jarque-Bera (JB):  </th> <td>  21.502</td>\n",
       "</tr>\n",
       "<tr>\n",
       "  <th>Skew:</th>          <td> 1.411</td> <th>  Prob(JB):          </th> <td>2.14e-05</td>\n",
       "</tr>\n",
       "<tr>\n",
       "  <th>Kurtosis:</th>      <td> 6.937</td> <th>  Cond. No.          </th> <td>    59.1</td>\n",
       "</tr>\n",
       "</table><br/><br/>Notes:<br/>[1] Standard Errors assume that the covariance matrix of the errors is correctly specified."
      ],
      "text/plain": [
       "<class 'statsmodels.iolib.summary.Summary'>\n",
       "\"\"\"\n",
       "                            OLS Regression Results                            \n",
       "==============================================================================\n",
       "Dep. Variable:              Pageviews   R-squared:                       0.489\n",
       "Model:                            OLS   Adj. R-squared:                  0.403\n",
       "Method:                 Least Squares   F-statistic:                     5.734\n",
       "Date:                Fri, 18 Dec 2020   Prob (F-statistic):            0.00618\n",
       "Time:                        19:44:36   Log-Likelihood:                -271.75\n",
       "No. Observations:                  22   AIC:                             551.5\n",
       "Df Residuals:                      18   BIC:                             555.9\n",
       "Df Model:                           3                                         \n",
       "Covariance Type:            nonrobust                                         \n",
       "================================================================================\n",
       "                   coef    std err          t      P>|t|      [0.025      0.975]\n",
       "--------------------------------------------------------------------------------\n",
       "Intercept     1.177e+05      4e+04      2.940      0.009    3.36e+04    2.02e+05\n",
       "time          1.329e+04   5903.536      2.251      0.037     885.086    2.57e+04\n",
       "intervention  8.668e+04   5.31e+04      1.631      0.120   -2.49e+04    1.98e+05\n",
       "postslope    -3.093e+04   8348.861     -3.705      0.002   -4.85e+04   -1.34e+04\n",
       "==============================================================================\n",
       "Omnibus:                       16.742   Durbin-Watson:                   1.133\n",
       "Prob(Omnibus):                  0.000   Jarque-Bera (JB):               21.502\n",
       "Skew:                           1.411   Prob(JB):                     2.14e-05\n",
       "Kurtosis:                       6.937   Cond. No.                         59.1\n",
       "==============================================================================\n",
       "\n",
       "Notes:\n",
       "[1] Standard Errors assume that the covariance matrix of the errors is correctly specified.\n",
       "\"\"\""
      ]
     },
     "execution_count": 69,
     "metadata": {},
     "output_type": "execute_result"
    }
   ],
   "source": [
    "res_treatment.summary()"
   ]
  },
  {
   "cell_type": "code",
   "execution_count": 70,
   "metadata": {},
   "outputs": [
    {
     "data": {
      "text/html": [
       "<table class=\"simpletable\">\n",
       "<caption>OLS Regression Results</caption>\n",
       "<tr>\n",
       "  <th>Dep. Variable:</th>        <td>Pageviews</td>    <th>  R-squared:         </th> <td>   0.066</td>\n",
       "</tr>\n",
       "<tr>\n",
       "  <th>Model:</th>                   <td>OLS</td>       <th>  Adj. R-squared:    </th> <td>  -0.089</td>\n",
       "</tr>\n",
       "<tr>\n",
       "  <th>Method:</th>             <td>Least Squares</td>  <th>  F-statistic:       </th> <td>  0.4274</td>\n",
       "</tr>\n",
       "<tr>\n",
       "  <th>Date:</th>             <td>Fri, 18 Dec 2020</td> <th>  Prob (F-statistic):</th>  <td> 0.736</td> \n",
       "</tr>\n",
       "<tr>\n",
       "  <th>Time:</th>                 <td>19:44:36</td>     <th>  Log-Likelihood:    </th> <td> -303.90</td>\n",
       "</tr>\n",
       "<tr>\n",
       "  <th>No. Observations:</th>      <td>    22</td>      <th>  AIC:               </th> <td>   615.8</td>\n",
       "</tr>\n",
       "<tr>\n",
       "  <th>Df Residuals:</th>          <td>    18</td>      <th>  BIC:               </th> <td>   620.2</td>\n",
       "</tr>\n",
       "<tr>\n",
       "  <th>Df Model:</th>              <td>     3</td>      <th>                     </th>     <td> </td>   \n",
       "</tr>\n",
       "<tr>\n",
       "  <th>Covariance Type:</th>      <td>nonrobust</td>    <th>                     </th>     <td> </td>   \n",
       "</tr>\n",
       "</table>\n",
       "<table class=\"simpletable\">\n",
       "<tr>\n",
       "        <td></td>          <th>coef</th>     <th>std err</th>      <th>t</th>      <th>P>|t|</th>  <th>[0.025</th>    <th>0.975]</th>  \n",
       "</tr>\n",
       "<tr>\n",
       "  <th>Intercept</th>    <td> 4.192e+06</td> <td> 1.73e+05</td> <td>   24.284</td> <td> 0.000</td> <td> 3.83e+06</td> <td> 4.55e+06</td>\n",
       "</tr>\n",
       "<tr>\n",
       "  <th>time</th>         <td> 1.815e+04</td> <td> 2.55e+04</td> <td>    0.713</td> <td> 0.485</td> <td>-3.53e+04</td> <td> 7.16e+04</td>\n",
       "</tr>\n",
       "<tr>\n",
       "  <th>intervention</th> <td>-2.544e+05</td> <td> 2.29e+05</td> <td>   -1.111</td> <td> 0.281</td> <td>-7.36e+05</td> <td> 2.27e+05</td>\n",
       "</tr>\n",
       "<tr>\n",
       "  <th>postslope</th>    <td>-3462.2455</td> <td>  3.6e+04</td> <td>   -0.096</td> <td> 0.924</td> <td>-7.91e+04</td> <td> 7.22e+04</td>\n",
       "</tr>\n",
       "</table>\n",
       "<table class=\"simpletable\">\n",
       "<tr>\n",
       "  <th>Omnibus:</th>       <td> 1.941</td> <th>  Durbin-Watson:     </th> <td>   2.195</td>\n",
       "</tr>\n",
       "<tr>\n",
       "  <th>Prob(Omnibus):</th> <td> 0.379</td> <th>  Jarque-Bera (JB):  </th> <td>   1.054</td>\n",
       "</tr>\n",
       "<tr>\n",
       "  <th>Skew:</th>          <td> 0.085</td> <th>  Prob(JB):          </th> <td>   0.590</td>\n",
       "</tr>\n",
       "<tr>\n",
       "  <th>Kurtosis:</th>      <td> 1.941</td> <th>  Cond. No.          </th> <td>    59.1</td>\n",
       "</tr>\n",
       "</table><br/><br/>Notes:<br/>[1] Standard Errors assume that the covariance matrix of the errors is correctly specified."
      ],
      "text/plain": [
       "<class 'statsmodels.iolib.summary.Summary'>\n",
       "\"\"\"\n",
       "                            OLS Regression Results                            \n",
       "==============================================================================\n",
       "Dep. Variable:              Pageviews   R-squared:                       0.066\n",
       "Model:                            OLS   Adj. R-squared:                 -0.089\n",
       "Method:                 Least Squares   F-statistic:                    0.4274\n",
       "Date:                Fri, 18 Dec 2020   Prob (F-statistic):              0.736\n",
       "Time:                        19:44:36   Log-Likelihood:                -303.90\n",
       "No. Observations:                  22   AIC:                             615.8\n",
       "Df Residuals:                      18   BIC:                             620.2\n",
       "Df Model:                           3                                         \n",
       "Covariance Type:            nonrobust                                         \n",
       "================================================================================\n",
       "                   coef    std err          t      P>|t|      [0.025      0.975]\n",
       "--------------------------------------------------------------------------------\n",
       "Intercept     4.192e+06   1.73e+05     24.284      0.000    3.83e+06    4.55e+06\n",
       "time          1.815e+04   2.55e+04      0.713      0.485   -3.53e+04    7.16e+04\n",
       "intervention -2.544e+05   2.29e+05     -1.111      0.281   -7.36e+05    2.27e+05\n",
       "postslope    -3462.2455    3.6e+04     -0.096      0.924   -7.91e+04    7.22e+04\n",
       "==============================================================================\n",
       "Omnibus:                        1.941   Durbin-Watson:                   2.195\n",
       "Prob(Omnibus):                  0.379   Jarque-Bera (JB):                1.054\n",
       "Skew:                           0.085   Prob(JB):                        0.590\n",
       "Kurtosis:                       1.941   Cond. No.                         59.1\n",
       "==============================================================================\n",
       "\n",
       "Notes:\n",
       "[1] Standard Errors assume that the covariance matrix of the errors is correctly specified.\n",
       "\"\"\""
      ]
     },
     "execution_count": 70,
     "metadata": {},
     "output_type": "execute_result"
    }
   ],
   "source": [
    "res_control.summary()"
   ]
  },
  {
   "cell_type": "code",
   "execution_count": 71,
   "metadata": {},
   "outputs": [],
   "source": [
    "save_regression_summary(res_treatment, 'range_2_treatment.tex')\n",
    "save_regression_summary(res_control, 'range_2_control.tex')"
   ]
  },
  {
   "cell_type": "code",
   "execution_count": 72,
   "metadata": {},
   "outputs": [],
   "source": [
    "# Compute 95% confidence intervals for each monthly estimated average\n",
    "y_error_treatment = bootstrap_CI(temp_treatment, 2000, fit_formula)\n",
    "y_error_control = bootstrap_CI(temp_control, 2000, fit_formula)"
   ]
  },
  {
   "cell_type": "code",
   "execution_count": 73,
   "metadata": {},
   "outputs": [
    {
     "data": {
      "image/png": "[encoded data removed]",
      "text/plain": [
       "<Figure size 720x288 with 2 Axes>"
      ]
     },
     "metadata": {},
     "output_type": "display_data"
    }
   ],
   "source": [
    "fig, (ax1,ax2) = plt.subplots(1,2, figsize=(10,4))\n",
    "itr = 'May'\n",
    "\n",
    "# Plot the treatment group trends before and after the adoption of the regulation\n",
    "plotting(itr, 'Treatment', reference_point, temp_treatment, ypred_treatment, y_error_treatment, ax=ax1)\n",
    "# Plot the control group trends before and after the lauch of the regulation\n",
    "plotting(itr, 'Control', reference_point, temp_control, ypred_control, y_error_control, ax=ax2)\n",
    "\n",
    "# Add Legends\n",
    "lgd = fig.legend(bbox_to_anchor=(-0.15, 0.08, 1.2, 0.102), loc='lower center',\n",
    "               ncol=3, borderaxespad=0., \n",
    "               labels = ['Article Trend Pre-' + itr, 'Article Trend Post-' + itr,\n",
    "                         '95\\%-Confidence Interval Pre-' + itr, '95\\%-Confidence Interval Post-' + itr,\n",
    "                         'Articles Views (By Month)', 'Articles Views (By Month)'])\n",
    "ax2.set_ylabel(\"\")\n",
    "\n",
    "# Adjust and save plot\n",
    "fig.subplots_adjust(bottom=0.4)\n",
    "plt.savefig('figs/May_2groups_trend.pdf', bbox_extra_artists=(lgd,), bbox_inches='tight')\n",
    "plt.show()"
   ]
  },
  {
   "cell_type": "code",
   "execution_count": 74,
   "metadata": {},
   "outputs": [
    {
     "data": {
      "text/html": [
       "<div>\n",
       "<style scoped>\n",
       "    .dataframe tbody tr th:only-of-type {\n",
       "        vertical-align: middle;\n",
       "    }\n",
       "\n",
       "    .dataframe tbody tr th {\n",
       "        vertical-align: top;\n",
       "    }\n",
       "\n",
       "    .dataframe thead th {\n",
       "        text-align: right;\n",
       "    }\n",
       "</style>\n",
       "<table border=\"1\" class=\"dataframe\">\n",
       "  <thead>\n",
       "    <tr style=\"text-align: right;\">\n",
       "      <th></th>\n",
       "      <th>Date</th>\n",
       "      <th>Pageviews</th>\n",
       "      <th>time</th>\n",
       "      <th>postslope</th>\n",
       "      <th>intervention</th>\n",
       "    </tr>\n",
       "  </thead>\n",
       "  <tbody>\n",
       "    <tr>\n",
       "      <th>10</th>\n",
       "      <td>2018-04-30</td>\n",
       "      <td>305824.0</td>\n",
       "      <td>11</td>\n",
       "      <td>0</td>\n",
       "      <td>0</td>\n",
       "    </tr>\n",
       "    <tr>\n",
       "      <th>11</th>\n",
       "      <td>2018-05-31</td>\n",
       "      <td>523996.0</td>\n",
       "      <td>12</td>\n",
       "      <td>1</td>\n",
       "      <td>1</td>\n",
       "    </tr>\n",
       "    <tr>\n",
       "      <th>12</th>\n",
       "      <td>2018-06-30</td>\n",
       "      <td>304894.0</td>\n",
       "      <td>13</td>\n",
       "      <td>2</td>\n",
       "      <td>1</td>\n",
       "    </tr>\n",
       "  </tbody>\n",
       "</table>\n",
       "</div>"
      ],
      "text/plain": [
       "         Date  Pageviews  time  postslope  intervention\n",
       "10 2018-04-30   305824.0    11          0             0\n",
       "11 2018-05-31   523996.0    12          1             1\n",
       "12 2018-06-30   304894.0    13          2             1"
      ]
     },
     "execution_count": 74,
     "metadata": {},
     "output_type": "execute_result"
    }
   ],
   "source": [
    "# Show number of views for the outlier month\n",
    "temp_treatment.loc[[10,11,12]]"
   ]
  },
  {
   "cell_type": "code",
   "execution_count": 75,
   "metadata": {},
   "outputs": [
    {
     "data": {
      "text/plain": [
       "216767.9"
      ]
     },
     "execution_count": 75,
     "metadata": {},
     "output_type": "execute_result"
    }
   ],
   "source": [
    "# Compute mean number of views of post-may without the outlier month\n",
    "temp_treatment[temp_treatment.intervention == 1].iloc[1:].Pageviews.mean()"
   ]
  },
  {
   "cell_type": "markdown",
   "metadata": {},
   "source": [
    "# Generate appendix tables\n",
    "\n",
    "We gather the data necessary to generate latex tables containing the list of keywords:"
   ]
  },
  {
   "cell_type": "code",
   "execution_count": 76,
   "metadata": {},
   "outputs": [],
   "source": [
    "from requests.utils import quote\n",
    "import wikipediaapi"
   ]
  },
  {
   "cell_type": "code",
   "execution_count": 77,
   "metadata": {},
   "outputs": [],
   "source": [
    "def sanitize_article_name(name):\n",
    "    name = name.replace(' ', '_')\n",
    "    return name"
   ]
  },
  {
   "cell_type": "code",
   "execution_count": 78,
   "metadata": {},
   "outputs": [],
   "source": [
    "wiki = wikipediaapi.Wikipedia('de')"
   ]
  },
  {
   "cell_type": "code",
   "execution_count": 79,
   "metadata": {},
   "outputs": [],
   "source": [
    "def get_translation(name):\n",
    "    page = wiki.page(name)\n",
    "    if not page.exists():\n",
    "        raise ValueError\n",
    "        \n",
    "    if 'en' not in page.langlinks:\n",
    "        return np.nan\n",
    "    return page.langlinks['en'].title"
   ]
  },
  {
   "cell_type": "code",
   "execution_count": 80,
   "metadata": {},
   "outputs": [],
   "source": [
    "keywords = df.Article.unique()\n",
    "with ThreadPoolExecutor(10) as executor:\n",
    "    keywords_en = list(executor.map(get_translation, map(sanitize_article_name, keywords)))"
   ]
  },
  {
   "cell_type": "code",
   "execution_count": 81,
   "metadata": {},
   "outputs": [
    {
     "data": {
      "text/html": [
       "<div>\n",
       "<style scoped>\n",
       "    .dataframe tbody tr th:only-of-type {\n",
       "        vertical-align: middle;\n",
       "    }\n",
       "\n",
       "    .dataframe tbody tr th {\n",
       "        vertical-align: top;\n",
       "    }\n",
       "\n",
       "    .dataframe thead th {\n",
       "        text-align: right;\n",
       "    }\n",
       "</style>\n",
       "<table border=\"1\" class=\"dataframe\">\n",
       "  <thead>\n",
       "    <tr style=\"text-align: right;\">\n",
       "      <th></th>\n",
       "      <th>German article</th>\n",
       "      <th>English translation</th>\n",
       "      <th>Link</th>\n",
       "    </tr>\n",
       "  </thead>\n",
       "  <tbody>\n",
       "    <tr>\n",
       "      <th>0</th>\n",
       "      <td>Verschwiegenheitspflicht</td>\n",
       "      <td>Confidentiality</td>\n",
       "      <td>https://de.wikipedia.org/wiki/Verschwiegenheit...</td>\n",
       "    </tr>\n",
       "    <tr>\n",
       "      <th>1</th>\n",
       "      <td>Daten</td>\n",
       "      <td>Data</td>\n",
       "      <td>https://de.wikipedia.org/wiki/Daten</td>\n",
       "    </tr>\n",
       "    <tr>\n",
       "      <th>2</th>\n",
       "      <td>Richtlinie_95/46/EG_(Datenschutzrichtlinie)</td>\n",
       "      <td>Data Protection Directive</td>\n",
       "      <td>https://de.wikipedia.org/wiki/Richtlinie_95/46...</td>\n",
       "    </tr>\n",
       "    <tr>\n",
       "      <th>3</th>\n",
       "      <td>Erhebung_(Empirie)</td>\n",
       "      <td>Data collection</td>\n",
       "      <td>https://de.wikipedia.org/wiki/Erhebung_(Empirie)</td>\n",
       "    </tr>\n",
       "    <tr>\n",
       "      <th>4</th>\n",
       "      <td>Datenschutz-Grundverordnung</td>\n",
       "      <td>General Data Protection Regulation</td>\n",
       "      <td>https://de.wikipedia.org/wiki/Datenschutz-Grun...</td>\n",
       "    </tr>\n",
       "    <tr>\n",
       "      <th>5</th>\n",
       "      <td>Datenschutz</td>\n",
       "      <td>Information privacy</td>\n",
       "      <td>https://de.wikipedia.org/wiki/Datenschutz</td>\n",
       "    </tr>\n",
       "    <tr>\n",
       "      <th>6</th>\n",
       "      <td>Informationssicherheit</td>\n",
       "      <td>Information security</td>\n",
       "      <td>https://de.wikipedia.org/wiki/Informationssich...</td>\n",
       "    </tr>\n",
       "    <tr>\n",
       "      <th>7</th>\n",
       "      <td>Personenbezogene_Daten</td>\n",
       "      <td>Personal data</td>\n",
       "      <td>https://de.wikipedia.org/wiki/Personenbezogene...</td>\n",
       "    </tr>\n",
       "    <tr>\n",
       "      <th>8</th>\n",
       "      <td>Privatsphäre</td>\n",
       "      <td>Privacy</td>\n",
       "      <td>https://de.wikipedia.org/wiki/Privatsphäre</td>\n",
       "    </tr>\n",
       "    <tr>\n",
       "      <th>9</th>\n",
       "      <td>Datenschutzrecht</td>\n",
       "      <td>Privacy law</td>\n",
       "      <td>https://de.wikipedia.org/wiki/Datenschutzrecht</td>\n",
       "    </tr>\n",
       "    <tr>\n",
       "      <th>10</th>\n",
       "      <td>Anonymisierung_und_Pseudonymisierung</td>\n",
       "      <td>Pseudonymization</td>\n",
       "      <td>https://de.wikipedia.org/wiki/Anonymisierung_u...</td>\n",
       "    </tr>\n",
       "    <tr>\n",
       "      <th>11</th>\n",
       "      <td>Transparenz_(Politik)</td>\n",
       "      <td>Transparency (behavior)</td>\n",
       "      <td>https://de.wikipedia.org/wiki/Transparenz_(Pol...</td>\n",
       "    </tr>\n",
       "    <tr>\n",
       "      <th>12</th>\n",
       "      <td>Internet_Privacy_Act</td>\n",
       "      <td>Internet Privacy Act</td>\n",
       "      <td>https://de.wikipedia.org/wiki/Internet_Privacy...</td>\n",
       "    </tr>\n",
       "    <tr>\n",
       "      <th>13</th>\n",
       "      <td>Informationsmanagement</td>\n",
       "      <td>Information management</td>\n",
       "      <td>https://de.wikipedia.org/wiki/Informationsmana...</td>\n",
       "    </tr>\n",
       "    <tr>\n",
       "      <th>14</th>\n",
       "      <td>Business_Intelligence</td>\n",
       "      <td>Business intelligence</td>\n",
       "      <td>https://de.wikipedia.org/wiki/Business_Intelli...</td>\n",
       "    </tr>\n",
       "    <tr>\n",
       "      <th>15</th>\n",
       "      <td>Langzeitarchivierung</td>\n",
       "      <td>Digital preservation</td>\n",
       "      <td>https://de.wikipedia.org/wiki/Langzeitarchivie...</td>\n",
       "    </tr>\n",
       "    <tr>\n",
       "      <th>16</th>\n",
       "      <td>Digitale_Rechteverwaltung</td>\n",
       "      <td>Digital rights management</td>\n",
       "      <td>https://de.wikipedia.org/wiki/Digitale_Rechtev...</td>\n",
       "    </tr>\n",
       "    <tr>\n",
       "      <th>17</th>\n",
       "      <td>Digitale_Rechte</td>\n",
       "      <td>Digital rights</td>\n",
       "      <td>https://de.wikipedia.org/wiki/Digitale_Rechte</td>\n",
       "    </tr>\n",
       "    <tr>\n",
       "      <th>18</th>\n",
       "      <td>Datenschutzerklärung</td>\n",
       "      <td>Privacy policy</td>\n",
       "      <td>https://de.wikipedia.org/wiki/Datenschutzerklä...</td>\n",
       "    </tr>\n",
       "    <tr>\n",
       "      <th>19</th>\n",
       "      <td>Datenanalyse</td>\n",
       "      <td>Data analysis</td>\n",
       "      <td>https://de.wikipedia.org/wiki/Datenanalyse</td>\n",
       "    </tr>\n",
       "    <tr>\n",
       "      <th>20</th>\n",
       "      <td>Datenmanagement</td>\n",
       "      <td>Data management</td>\n",
       "      <td>https://de.wikipedia.org/wiki/Datenmanagement</td>\n",
       "    </tr>\n",
       "    <tr>\n",
       "      <th>21</th>\n",
       "      <td>Informationsintegration</td>\n",
       "      <td>Information integration</td>\n",
       "      <td>https://de.wikipedia.org/wiki/Informationsinte...</td>\n",
       "    </tr>\n",
       "    <tr>\n",
       "      <th>22</th>\n",
       "      <td>Anonymität</td>\n",
       "      <td>Anonymity</td>\n",
       "      <td>https://de.wikipedia.org/wiki/Anonymität</td>\n",
       "    </tr>\n",
       "    <tr>\n",
       "      <th>23</th>\n",
       "      <td>Persönliche_Identifikationsnummer</td>\n",
       "      <td>Personal identification number</td>\n",
       "      <td>https://de.wikipedia.org/wiki/Persönliche_Iden...</td>\n",
       "    </tr>\n",
       "    <tr>\n",
       "      <th>24</th>\n",
       "      <td>Big_Data</td>\n",
       "      <td>Big data</td>\n",
       "      <td>https://de.wikipedia.org/wiki/Big_Data</td>\n",
       "    </tr>\n",
       "    <tr>\n",
       "      <th>25</th>\n",
       "      <td>Rechtsinformatik</td>\n",
       "      <td>Legal informatics</td>\n",
       "      <td>https://de.wikipedia.org/wiki/Rechtsinformatik</td>\n",
       "    </tr>\n",
       "    <tr>\n",
       "      <th>26</th>\n",
       "      <td>Internet_Governance</td>\n",
       "      <td>Internet governance</td>\n",
       "      <td>https://de.wikipedia.org/wiki/Internet_Governance</td>\n",
       "    </tr>\n",
       "    <tr>\n",
       "      <th>27</th>\n",
       "      <td>Automatische_Identifikation_und_Datenerfassung</td>\n",
       "      <td>Automatic identification and data capture</td>\n",
       "      <td>https://de.wikipedia.org/wiki/Automatische_Ide...</td>\n",
       "    </tr>\n",
       "    <tr>\n",
       "      <th>28</th>\n",
       "      <td>Online-Durchsuchung</td>\n",
       "      <td>Computer and network surveillance</td>\n",
       "      <td>https://de.wikipedia.org/wiki/Online-Durchsuchung</td>\n",
       "    </tr>\n",
       "    <tr>\n",
       "      <th>29</th>\n",
       "      <td>Gläserner_Mensch_(Datenschutz)</td>\n",
       "      <td>Mass surveillance</td>\n",
       "      <td>https://de.wikipedia.org/wiki/Gläserner_Mensch...</td>\n",
       "    </tr>\n",
       "    <tr>\n",
       "      <th>30</th>\n",
       "      <td>Europäische_Kommission</td>\n",
       "      <td>European Commission</td>\n",
       "      <td>https://de.wikipedia.org/wiki/Europäische_Komm...</td>\n",
       "    </tr>\n",
       "    <tr>\n",
       "      <th>31</th>\n",
       "      <td>Verordnung_(EU)</td>\n",
       "      <td>Regulation (European Union)</td>\n",
       "      <td>https://de.wikipedia.org/wiki/Verordnung_(EU)</td>\n",
       "    </tr>\n",
       "    <tr>\n",
       "      <th>32</th>\n",
       "      <td>HTTP-Cookie</td>\n",
       "      <td>HTTP cookie</td>\n",
       "      <td>https://de.wikipedia.org/wiki/HTTP-Cookie</td>\n",
       "    </tr>\n",
       "  </tbody>\n",
       "</table>\n",
       "</div>"
      ],
      "text/plain": [
       "                                    German article  \\\n",
       "0                         Verschwiegenheitspflicht   \n",
       "1                                            Daten   \n",
       "2      Richtlinie_95/46/EG_(Datenschutzrichtlinie)   \n",
       "3                               Erhebung_(Empirie)   \n",
       "4                      Datenschutz-Grundverordnung   \n",
       "5                                      Datenschutz   \n",
       "6                           Informationssicherheit   \n",
       "7                           Personenbezogene_Daten   \n",
       "8                                     Privatsphäre   \n",
       "9                                 Datenschutzrecht   \n",
       "10            Anonymisierung_und_Pseudonymisierung   \n",
       "11                           Transparenz_(Politik)   \n",
       "12                            Internet_Privacy_Act   \n",
       "13                          Informationsmanagement   \n",
       "14                           Business_Intelligence   \n",
       "15                            Langzeitarchivierung   \n",
       "16                       Digitale_Rechteverwaltung   \n",
       "17                                 Digitale_Rechte   \n",
       "18                            Datenschutzerklärung   \n",
       "19                                    Datenanalyse   \n",
       "20                                 Datenmanagement   \n",
       "21                         Informationsintegration   \n",
       "22                                      Anonymität   \n",
       "23               Persönliche_Identifikationsnummer   \n",
       "24                                        Big_Data   \n",
       "25                                Rechtsinformatik   \n",
       "26                             Internet_Governance   \n",
       "27  Automatische_Identifikation_und_Datenerfassung   \n",
       "28                             Online-Durchsuchung   \n",
       "29                  Gläserner_Mensch_(Datenschutz)   \n",
       "30                          Europäische_Kommission   \n",
       "31                                 Verordnung_(EU)   \n",
       "32                                     HTTP-Cookie   \n",
       "\n",
       "                          English translation  \\\n",
       "0                             Confidentiality   \n",
       "1                                        Data   \n",
       "2                   Data Protection Directive   \n",
       "3                             Data collection   \n",
       "4          General Data Protection Regulation   \n",
       "5                         Information privacy   \n",
       "6                        Information security   \n",
       "7                               Personal data   \n",
       "8                                     Privacy   \n",
       "9                                 Privacy law   \n",
       "10                           Pseudonymization   \n",
       "11                    Transparency (behavior)   \n",
       "12                       Internet Privacy Act   \n",
       "13                     Information management   \n",
       "14                      Business intelligence   \n",
       "15                       Digital preservation   \n",
       "16                  Digital rights management   \n",
       "17                             Digital rights   \n",
       "18                             Privacy policy   \n",
       "19                              Data analysis   \n",
       "20                            Data management   \n",
       "21                    Information integration   \n",
       "22                                  Anonymity   \n",
       "23             Personal identification number   \n",
       "24                                   Big data   \n",
       "25                          Legal informatics   \n",
       "26                        Internet governance   \n",
       "27  Automatic identification and data capture   \n",
       "28          Computer and network surveillance   \n",
       "29                          Mass surveillance   \n",
       "30                        European Commission   \n",
       "31                Regulation (European Union)   \n",
       "32                                HTTP cookie   \n",
       "\n",
       "                                                 Link  \n",
       "0   https://de.wikipedia.org/wiki/Verschwiegenheit...  \n",
       "1                 https://de.wikipedia.org/wiki/Daten  \n",
       "2   https://de.wikipedia.org/wiki/Richtlinie_95/46...  \n",
       "3    https://de.wikipedia.org/wiki/Erhebung_(Empirie)  \n",
       "4   https://de.wikipedia.org/wiki/Datenschutz-Grun...  \n",
       "5           https://de.wikipedia.org/wiki/Datenschutz  \n",
       "6   https://de.wikipedia.org/wiki/Informationssich...  \n",
       "7   https://de.wikipedia.org/wiki/Personenbezogene...  \n",
       "8          https://de.wikipedia.org/wiki/Privatsphäre  \n",
       "9      https://de.wikipedia.org/wiki/Datenschutzrecht  \n",
       "10  https://de.wikipedia.org/wiki/Anonymisierung_u...  \n",
       "11  https://de.wikipedia.org/wiki/Transparenz_(Pol...  \n",
       "12  https://de.wikipedia.org/wiki/Internet_Privacy...  \n",
       "13  https://de.wikipedia.org/wiki/Informationsmana...  \n",
       "14  https://de.wikipedia.org/wiki/Business_Intelli...  \n",
       "15  https://de.wikipedia.org/wiki/Langzeitarchivie...  \n",
       "16  https://de.wikipedia.org/wiki/Digitale_Rechtev...  \n",
       "17      https://de.wikipedia.org/wiki/Digitale_Rechte  \n",
       "18  https://de.wikipedia.org/wiki/Datenschutzerklä...  \n",
       "19         https://de.wikipedia.org/wiki/Datenanalyse  \n",
       "20      https://de.wikipedia.org/wiki/Datenmanagement  \n",
       "21  https://de.wikipedia.org/wiki/Informationsinte...  \n",
       "22           https://de.wikipedia.org/wiki/Anonymität  \n",
       "23  https://de.wikipedia.org/wiki/Persönliche_Iden...  \n",
       "24             https://de.wikipedia.org/wiki/Big_Data  \n",
       "25     https://de.wikipedia.org/wiki/Rechtsinformatik  \n",
       "26  https://de.wikipedia.org/wiki/Internet_Governance  \n",
       "27  https://de.wikipedia.org/wiki/Automatische_Ide...  \n",
       "28  https://de.wikipedia.org/wiki/Online-Durchsuchung  \n",
       "29  https://de.wikipedia.org/wiki/Gläserner_Mensch...  \n",
       "30  https://de.wikipedia.org/wiki/Europäische_Komm...  \n",
       "31      https://de.wikipedia.org/wiki/Verordnung_(EU)  \n",
       "32          https://de.wikipedia.org/wiki/HTTP-Cookie  "
      ]
     },
     "execution_count": 81,
     "metadata": {},
     "output_type": "execute_result"
    }
   ],
   "source": [
    "df_kwd = pd.DataFrame([\n",
    "    keywords,\n",
    "    keywords_en,\n",
    "    ['https://de.wikipedia.org/wiki/' + kwd for kwd in map(sanitize_article_name, keywords)]\n",
    "], index=['German article', 'English translation', 'Link']).T\n",
    "\n",
    "df_kwd"
   ]
  },
  {
   "cell_type": "code",
   "execution_count": 82,
   "metadata": {},
   "outputs": [],
   "source": [
    "with open('report/table_keywords_GDPR.tex', 'w') as f:\n",
    "    f.write(df_kwd.to_latex(index=False))"
   ]
  },
  {
   "cell_type": "code",
   "execution_count": 83,
   "metadata": {},
   "outputs": [],
   "source": [
    "keywords_ctrl = ctrl.Article.unique()\n",
    "with ThreadPoolExecutor(10) as executor:\n",
    "    keywords_ctrl_en = list(executor.map(get_translation, map(sanitize_article_name, keywords_ctrl)))"
   ]
  },
  {
   "cell_type": "code",
   "execution_count": 84,
   "metadata": {},
   "outputs": [
    {
     "data": {
      "text/html": [
       "<div>\n",
       "<style scoped>\n",
       "    .dataframe tbody tr th:only-of-type {\n",
       "        vertical-align: middle;\n",
       "    }\n",
       "\n",
       "    .dataframe tbody tr th {\n",
       "        vertical-align: top;\n",
       "    }\n",
       "\n",
       "    .dataframe thead th {\n",
       "        text-align: right;\n",
       "    }\n",
       "</style>\n",
       "<table border=\"1\" class=\"dataframe\">\n",
       "  <thead>\n",
       "    <tr style=\"text-align: right;\">\n",
       "      <th></th>\n",
       "      <th>German article</th>\n",
       "      <th>English translation</th>\n",
       "      <th>Link</th>\n",
       "    </tr>\n",
       "  </thead>\n",
       "  <tbody>\n",
       "    <tr>\n",
       "      <th>0</th>\n",
       "      <td>Deutschland</td>\n",
       "      <td>Germany</td>\n",
       "      <td>https://de.wikipedia.org/wiki/Deutschland</td>\n",
       "    </tr>\n",
       "    <tr>\n",
       "      <th>1</th>\n",
       "      <td>Wikipedia</td>\n",
       "      <td>Wikipedia</td>\n",
       "      <td>https://de.wikipedia.org/wiki/Wikipedia</td>\n",
       "    </tr>\n",
       "    <tr>\n",
       "      <th>2</th>\n",
       "      <td>Vereinigte Staaten</td>\n",
       "      <td>United States</td>\n",
       "      <td>https://de.wikipedia.org/wiki/Vereinigte_Staaten</td>\n",
       "    </tr>\n",
       "    <tr>\n",
       "      <th>3</th>\n",
       "      <td>Schweiz</td>\n",
       "      <td>Switzerland</td>\n",
       "      <td>https://de.wikipedia.org/wiki/Schweiz</td>\n",
       "    </tr>\n",
       "    <tr>\n",
       "      <th>4</th>\n",
       "      <td>Liste der Kfz-Kennzeichen in Deutschland</td>\n",
       "      <td>NaN</td>\n",
       "      <td>https://de.wikipedia.org/wiki/Liste_der_Kfz-Ke...</td>\n",
       "    </tr>\n",
       "    <tr>\n",
       "      <th>5</th>\n",
       "      <td>Asperger-Syndrom</td>\n",
       "      <td>Asperger syndrome</td>\n",
       "      <td>https://de.wikipedia.org/wiki/Asperger-Syndrom</td>\n",
       "    </tr>\n",
       "    <tr>\n",
       "      <th>6</th>\n",
       "      <td>Österreich</td>\n",
       "      <td>Austria</td>\n",
       "      <td>https://de.wikipedia.org/wiki/Österreich</td>\n",
       "    </tr>\n",
       "    <tr>\n",
       "      <th>7</th>\n",
       "      <td>Angela Merkel</td>\n",
       "      <td>Angela Merkel</td>\n",
       "      <td>https://de.wikipedia.org/wiki/Angela_Merkel</td>\n",
       "    </tr>\n",
       "    <tr>\n",
       "      <th>8</th>\n",
       "      <td>Adolf Hitler</td>\n",
       "      <td>Adolf Hitler</td>\n",
       "      <td>https://de.wikipedia.org/wiki/Adolf_Hitler</td>\n",
       "    </tr>\n",
       "    <tr>\n",
       "      <th>9</th>\n",
       "      <td>Europäische Union</td>\n",
       "      <td>European Union</td>\n",
       "      <td>https://de.wikipedia.org/wiki/Europäische_Union</td>\n",
       "    </tr>\n",
       "    <tr>\n",
       "      <th>10</th>\n",
       "      <td>Frankreich</td>\n",
       "      <td>France</td>\n",
       "      <td>https://de.wikipedia.org/wiki/Frankreich</td>\n",
       "    </tr>\n",
       "    <tr>\n",
       "      <th>11</th>\n",
       "      <td>Zweiter Weltkrieg</td>\n",
       "      <td>World War II</td>\n",
       "      <td>https://de.wikipedia.org/wiki/Zweiter_Weltkrieg</td>\n",
       "    </tr>\n",
       "    <tr>\n",
       "      <th>12</th>\n",
       "      <td>Figuren aus dem Marvel-Universum</td>\n",
       "      <td>Lists of Marvel Comics characters</td>\n",
       "      <td>https://de.wikipedia.org/wiki/Figuren_aus_dem_...</td>\n",
       "    </tr>\n",
       "    <tr>\n",
       "      <th>13</th>\n",
       "      <td>Türkei</td>\n",
       "      <td>Turkey</td>\n",
       "      <td>https://de.wikipedia.org/wiki/Türkei</td>\n",
       "    </tr>\n",
       "    <tr>\n",
       "      <th>14</th>\n",
       "      <td>Russland</td>\n",
       "      <td>Russia</td>\n",
       "      <td>https://de.wikipedia.org/wiki/Russland</td>\n",
       "    </tr>\n",
       "    <tr>\n",
       "      <th>15</th>\n",
       "      <td>Vagina</td>\n",
       "      <td>Vagina</td>\n",
       "      <td>https://de.wikipedia.org/wiki/Vagina</td>\n",
       "    </tr>\n",
       "    <tr>\n",
       "      <th>16</th>\n",
       "      <td>Bayern</td>\n",
       "      <td>Bavaria</td>\n",
       "      <td>https://de.wikipedia.org/wiki/Bayern</td>\n",
       "    </tr>\n",
       "    <tr>\n",
       "      <th>17</th>\n",
       "      <td>Europa</td>\n",
       "      <td>Europe</td>\n",
       "      <td>https://de.wikipedia.org/wiki/Europa</td>\n",
       "    </tr>\n",
       "    <tr>\n",
       "      <th>18</th>\n",
       "      <td>Erster Weltkrieg</td>\n",
       "      <td>World War I</td>\n",
       "      <td>https://de.wikipedia.org/wiki/Erster_Weltkrieg</td>\n",
       "    </tr>\n",
       "    <tr>\n",
       "      <th>19</th>\n",
       "      <td>Australien</td>\n",
       "      <td>Australia</td>\n",
       "      <td>https://de.wikipedia.org/wiki/Australien</td>\n",
       "    </tr>\n",
       "    <tr>\n",
       "      <th>20</th>\n",
       "      <td>New York City</td>\n",
       "      <td>New York City</td>\n",
       "      <td>https://de.wikipedia.org/wiki/New_York_City</td>\n",
       "    </tr>\n",
       "    <tr>\n",
       "      <th>21</th>\n",
       "      <td>München</td>\n",
       "      <td>Munich</td>\n",
       "      <td>https://de.wikipedia.org/wiki/München</td>\n",
       "    </tr>\n",
       "    <tr>\n",
       "      <th>22</th>\n",
       "      <td>Kanada</td>\n",
       "      <td>Canada</td>\n",
       "      <td>https://de.wikipedia.org/wiki/Kanada</td>\n",
       "    </tr>\n",
       "    <tr>\n",
       "      <th>23</th>\n",
       "      <td>Volksrepublik China</td>\n",
       "      <td>China</td>\n",
       "      <td>https://de.wikipedia.org/wiki/Volksrepublik_China</td>\n",
       "    </tr>\n",
       "    <tr>\n",
       "      <th>24</th>\n",
       "      <td>Liste der IPA-Zeichen</td>\n",
       "      <td>Naming conventions of the International Phonet...</td>\n",
       "      <td>https://de.wikipedia.org/wiki/Liste_der_IPA-Ze...</td>\n",
       "    </tr>\n",
       "    <tr>\n",
       "      <th>25</th>\n",
       "      <td>Wien</td>\n",
       "      <td>Vienna</td>\n",
       "      <td>https://de.wikipedia.org/wiki/Wien</td>\n",
       "    </tr>\n",
       "    <tr>\n",
       "      <th>26</th>\n",
       "      <td>Indien</td>\n",
       "      <td>India</td>\n",
       "      <td>https://de.wikipedia.org/wiki/Indien</td>\n",
       "    </tr>\n",
       "    <tr>\n",
       "      <th>27</th>\n",
       "      <td>Periodensystem</td>\n",
       "      <td>Periodic table</td>\n",
       "      <td>https://de.wikipedia.org/wiki/Periodensystem</td>\n",
       "    </tr>\n",
       "    <tr>\n",
       "      <th>28</th>\n",
       "      <td>Verwandtschaftsbeziehung</td>\n",
       "      <td>NaN</td>\n",
       "      <td>https://de.wikipedia.org/wiki/Verwandtschaftsb...</td>\n",
       "    </tr>\n",
       "    <tr>\n",
       "      <th>29</th>\n",
       "      <td>Japan</td>\n",
       "      <td>Japan</td>\n",
       "      <td>https://de.wikipedia.org/wiki/Japan</td>\n",
       "    </tr>\n",
       "    <tr>\n",
       "      <th>30</th>\n",
       "      <td>Nordrhein-Westfalen</td>\n",
       "      <td>North Rhine-Westphalia</td>\n",
       "      <td>https://de.wikipedia.org/wiki/Nordrhein-Westfalen</td>\n",
       "    </tr>\n",
       "    <tr>\n",
       "      <th>31</th>\n",
       "      <td>Napoleon Bonaparte</td>\n",
       "      <td>Napoleon</td>\n",
       "      <td>https://de.wikipedia.org/wiki/Napoleon_Bonaparte</td>\n",
       "    </tr>\n",
       "  </tbody>\n",
       "</table>\n",
       "</div>"
      ],
      "text/plain": [
       "                              German article  \\\n",
       "0                                Deutschland   \n",
       "1                                  Wikipedia   \n",
       "2                         Vereinigte Staaten   \n",
       "3                                    Schweiz   \n",
       "4   Liste der Kfz-Kennzeichen in Deutschland   \n",
       "5                           Asperger-Syndrom   \n",
       "6                                 Österreich   \n",
       "7                              Angela Merkel   \n",
       "8                               Adolf Hitler   \n",
       "9                          Europäische Union   \n",
       "10                                Frankreich   \n",
       "11                         Zweiter Weltkrieg   \n",
       "12          Figuren aus dem Marvel-Universum   \n",
       "13                                    Türkei   \n",
       "14                                  Russland   \n",
       "15                                    Vagina   \n",
       "16                                    Bayern   \n",
       "17                                    Europa   \n",
       "18                          Erster Weltkrieg   \n",
       "19                                Australien   \n",
       "20                             New York City   \n",
       "21                                   München   \n",
       "22                                    Kanada   \n",
       "23                       Volksrepublik China   \n",
       "24                     Liste der IPA-Zeichen   \n",
       "25                                      Wien   \n",
       "26                                    Indien   \n",
       "27                            Periodensystem   \n",
       "28                  Verwandtschaftsbeziehung   \n",
       "29                                     Japan   \n",
       "30                       Nordrhein-Westfalen   \n",
       "31                        Napoleon Bonaparte   \n",
       "\n",
       "                                  English translation  \\\n",
       "0                                             Germany   \n",
       "1                                           Wikipedia   \n",
       "2                                       United States   \n",
       "3                                         Switzerland   \n",
       "4                                                 NaN   \n",
       "5                                   Asperger syndrome   \n",
       "6                                             Austria   \n",
       "7                                       Angela Merkel   \n",
       "8                                        Adolf Hitler   \n",
       "9                                      European Union   \n",
       "10                                             France   \n",
       "11                                       World War II   \n",
       "12                  Lists of Marvel Comics characters   \n",
       "13                                             Turkey   \n",
       "14                                             Russia   \n",
       "15                                             Vagina   \n",
       "16                                            Bavaria   \n",
       "17                                             Europe   \n",
       "18                                        World War I   \n",
       "19                                          Australia   \n",
       "20                                      New York City   \n",
       "21                                             Munich   \n",
       "22                                             Canada   \n",
       "23                                              China   \n",
       "24  Naming conventions of the International Phonet...   \n",
       "25                                             Vienna   \n",
       "26                                              India   \n",
       "27                                     Periodic table   \n",
       "28                                                NaN   \n",
       "29                                              Japan   \n",
       "30                             North Rhine-Westphalia   \n",
       "31                                           Napoleon   \n",
       "\n",
       "                                                 Link  \n",
       "0           https://de.wikipedia.org/wiki/Deutschland  \n",
       "1             https://de.wikipedia.org/wiki/Wikipedia  \n",
       "2    https://de.wikipedia.org/wiki/Vereinigte_Staaten  \n",
       "3               https://de.wikipedia.org/wiki/Schweiz  \n",
       "4   https://de.wikipedia.org/wiki/Liste_der_Kfz-Ke...  \n",
       "5      https://de.wikipedia.org/wiki/Asperger-Syndrom  \n",
       "6            https://de.wikipedia.org/wiki/Österreich  \n",
       "7         https://de.wikipedia.org/wiki/Angela_Merkel  \n",
       "8          https://de.wikipedia.org/wiki/Adolf_Hitler  \n",
       "9     https://de.wikipedia.org/wiki/Europäische_Union  \n",
       "10           https://de.wikipedia.org/wiki/Frankreich  \n",
       "11    https://de.wikipedia.org/wiki/Zweiter_Weltkrieg  \n",
       "12  https://de.wikipedia.org/wiki/Figuren_aus_dem_...  \n",
       "13               https://de.wikipedia.org/wiki/Türkei  \n",
       "14             https://de.wikipedia.org/wiki/Russland  \n",
       "15               https://de.wikipedia.org/wiki/Vagina  \n",
       "16               https://de.wikipedia.org/wiki/Bayern  \n",
       "17               https://de.wikipedia.org/wiki/Europa  \n",
       "18     https://de.wikipedia.org/wiki/Erster_Weltkrieg  \n",
       "19           https://de.wikipedia.org/wiki/Australien  \n",
       "20        https://de.wikipedia.org/wiki/New_York_City  \n",
       "21              https://de.wikipedia.org/wiki/München  \n",
       "22               https://de.wikipedia.org/wiki/Kanada  \n",
       "23  https://de.wikipedia.org/wiki/Volksrepublik_China  \n",
       "24  https://de.wikipedia.org/wiki/Liste_der_IPA-Ze...  \n",
       "25                 https://de.wikipedia.org/wiki/Wien  \n",
       "26               https://de.wikipedia.org/wiki/Indien  \n",
       "27       https://de.wikipedia.org/wiki/Periodensystem  \n",
       "28  https://de.wikipedia.org/wiki/Verwandtschaftsb...  \n",
       "29                https://de.wikipedia.org/wiki/Japan  \n",
       "30  https://de.wikipedia.org/wiki/Nordrhein-Westfalen  \n",
       "31   https://de.wikipedia.org/wiki/Napoleon_Bonaparte  "
      ]
     },
     "execution_count": 84,
     "metadata": {},
     "output_type": "execute_result"
    }
   ],
   "source": [
    "df_kwd = pd.DataFrame([\n",
    "    [e.replace('_', ' ') for e in keywords_ctrl],\n",
    "    keywords_ctrl_en,\n",
    "    ['https://de.wikipedia.org/wiki/' + kwd for kwd in map(sanitize_article_name, keywords_ctrl)]\n",
    "], index=['German article', 'English translation', 'Link']).T\n",
    "\n",
    "df_kwd"
   ]
  },
  {
   "cell_type": "code",
   "execution_count": 85,
   "metadata": {},
   "outputs": [],
   "source": [
    "with open('report/table_keywords_popular.tex', 'w') as f:\n",
    "    f.write(df_kwd.to_latex(index=False))"
   ]
  },
  {
   "cell_type": "markdown",
   "metadata": {},
   "source": [
    "# Conclusion"
   ]
  }
 ],
 "metadata": {
  "kernelspec": {
   "display_name": "Python 3",
   "language": "python",
   "name": "python3"
  },
  "language_info": {
   "codemirror_mode": {
    "name": "ipython",
    "version": 3
   },
   "file_extension": ".py",
   "mimetype": "text/x-python",
   "name": "python",
   "nbconvert_exporter": "python",
   "pygments_lexer": "ipython3",
   "version": "3.8.5"
  },
  "toc": {
   "base_numbering": 1,
   "nav_menu": {
    "height": "12.6667px",
    "width": "266.667px"
   },
   "number_sections": true,
   "sideBar": true,
   "skip_h1_title": false,
   "title_cell": "Table of Contents",
   "title_sidebar": "Contents",
   "toc_cell": true,
   "toc_position": {
    "height": "calc(100% - 180px)",
    "left": "10px",
    "top": "150px",
    "width": "512px"
   },
   "toc_section_display": true,
   "toc_window_display": false
  }
 },
 "nbformat": 4,
 "nbformat_minor": 4
}
