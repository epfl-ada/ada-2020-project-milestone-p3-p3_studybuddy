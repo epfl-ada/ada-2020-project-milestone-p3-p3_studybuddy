{
 "cells": [
  {
   "cell_type": "code",
   "execution_count": 1,
   "metadata": {},
   "outputs": [],
   "source": [
    "%load_ext autoreload\n",
    "%autoreload 2"
   ]
  },
  {
   "cell_type": "code",
   "execution_count": 110,
   "metadata": {},
   "outputs": [],
   "source": [
    "import pandas as pd\n",
    "import numpy as np\n",
    "import matplotlib.pyplot as plt\n",
    "import seaborn as sns\n",
    "sns.set(style='whitegrid')"
   ]
  },
  {
   "cell_type": "markdown",
   "metadata": {},
   "source": [
    "---\n",
    "# I. Exploratory Data Analysis"
   ]
  },
  {
   "cell_type": "code",
   "execution_count": 3,
   "metadata": {},
   "outputs": [
    {
     "name": "stdout",
     "output_type": "stream",
     "text": [
      "Tokenization took: 19.94 ms\n",
      "Type conversion took: 6.98 ms\n",
      "Parser memory cleanup took: 0.00 ms\n",
      "\n",
      "Below the parsed data types :\n",
      " Language             object\n",
      "Article              object\n",
      "Date         datetime64[ns]\n",
      "Pageviews             int64\n",
      "dtype: object\n",
      "\n",
      "Data frame of dimensions (46752, 4)\n",
      "The dataset includes 48 different articles.\n",
      "\n",
      " ['abu_sayyaf' 'afghanistan' 'agro' 'al-qaeda'\n",
      " 'al-qaeda_in_the_arabian_peninsula' 'al-qaeda_in_the_islamic_maghreb'\n",
      " 'al-shabaab' 'ammonium_nitrate' 'attack' 'biological_weapon' 'car_bomb'\n",
      " 'chemical_weapon' 'conventional_weapon' 'dirty_bomb' 'eco-terrorism'\n",
      " 'environmental_terrorism' 'euskadi_ta_askatasuna' 'extremism' 'farc'\n",
      " 'fundamentalism' 'hamas' 'hezbollah' 'improvised_explosive_device' 'iran'\n",
      " 'iraq' 'irish_republican_army' 'islamist' 'jihad' 'nationalism' 'nigeria'\n",
      " 'nuclear' 'nuclear_enrichment' 'pakistan' 'palestine_liberation_front'\n",
      " 'pirates' 'plo' 'political_radicalism' 'recruitment' 'somalia'\n",
      " 'suicide_attack' 'suicide_bomber' 'taliban' 'tamil_tigers'\n",
      " 'tehrik-i-taliban_pakistan' 'terror' 'terrorism' 'weapons-grade' 'yemen'] \n",
      "\n",
      "The studied period starts the 2012-01-01 to the 2014-08-31 (32 months).\n",
      "\n"
     ]
    },
    {
     "data": {
      "text/html": [
       "<div>\n",
       "<style scoped>\n",
       "    .dataframe tbody tr th:only-of-type {\n",
       "        vertical-align: middle;\n",
       "    }\n",
       "\n",
       "    .dataframe tbody tr th {\n",
       "        vertical-align: top;\n",
       "    }\n",
       "\n",
       "    .dataframe thead th {\n",
       "        text-align: right;\n",
       "    }\n",
       "</style>\n",
       "<table border=\"1\" class=\"dataframe\">\n",
       "  <thead>\n",
       "    <tr style=\"text-align: right;\">\n",
       "      <th></th>\n",
       "      <th>Language</th>\n",
       "      <th>Article</th>\n",
       "      <th>Date</th>\n",
       "      <th>Pageviews</th>\n",
       "    </tr>\n",
       "  </thead>\n",
       "  <tbody>\n",
       "    <tr>\n",
       "      <th>11000</th>\n",
       "      <td>en</td>\n",
       "      <td>abu_sayyaf</td>\n",
       "      <td>2012-01-01</td>\n",
       "      <td>254</td>\n",
       "    </tr>\n",
       "    <tr>\n",
       "      <th>1355</th>\n",
       "      <td>en</td>\n",
       "      <td>afghanistan</td>\n",
       "      <td>2012-01-01</td>\n",
       "      <td>5241</td>\n",
       "    </tr>\n",
       "    <tr>\n",
       "      <th>1369</th>\n",
       "      <td>en</td>\n",
       "      <td>agro</td>\n",
       "      <td>2012-01-01</td>\n",
       "      <td>27</td>\n",
       "    </tr>\n",
       "    <tr>\n",
       "      <th>1</th>\n",
       "      <td>en</td>\n",
       "      <td>al-qaeda</td>\n",
       "      <td>2012-01-01</td>\n",
       "      <td>2688</td>\n",
       "    </tr>\n",
       "    <tr>\n",
       "      <th>13457</th>\n",
       "      <td>en</td>\n",
       "      <td>al-qaeda_in_the_arabian_peninsula</td>\n",
       "      <td>2012-01-01</td>\n",
       "      <td>104</td>\n",
       "    </tr>\n",
       "  </tbody>\n",
       "</table>\n",
       "</div>"
      ],
      "text/plain": [
       "      Language                            Article       Date  Pageviews\n",
       "11000       en                         abu_sayyaf 2012-01-01        254\n",
       "1355        en                        afghanistan 2012-01-01       5241\n",
       "1369        en                               agro 2012-01-01         27\n",
       "1           en                           al-qaeda 2012-01-01       2688\n",
       "13457       en  al-qaeda_in_the_arabian_peninsula 2012-01-01        104"
      ]
     },
     "execution_count": 3,
     "metadata": {},
     "output_type": "execute_result"
    }
   ],
   "source": [
    "## Loading the data\n",
    "\n",
    "data_path = \"data/\"\n",
    "\n",
    "# Load the data\n",
    "data = pd.read_csv(data_path+'de_wiki_terrorism.csv', \n",
    "                   header=0, names=['Language', 'Article', 'Date', 'Pageviews'],\n",
    "                  index_col=0,\n",
    "                  verbose = True, # Verify if there are any NaNs\n",
    "                  parse_dates = [2], infer_datetime_format=True)\n",
    "\n",
    "print(\"\\nBelow the parsed data types :\\n\", data.dtypes)\n",
    "print(\"\\nData frame of dimensions\", data.shape)\n",
    "print(f\"The dataset includes {data.Article.unique().size} different articles.\")\n",
    "print('\\n', data.Article.unique(), '\\n')\n",
    "startdate, enddate = data.Date.min().date(), data.Date.max().date()\n",
    "period = 12 * (enddate.year - startdate.year) + (enddate.month - startdate.month) +1\n",
    "print(f\"The studied period starts the {startdate} to the {enddate} ({period} months).\\n\")\n",
    "\n",
    "data.head()"
   ]
  },
  {
   "cell_type": "code",
   "execution_count": 4,
   "metadata": {},
   "outputs": [
    {
     "name": "stdout",
     "output_type": "stream",
     "text": [
      "Are the values in the first column unique ?  True\n",
      "If unique, indicates the first column can be used as an index.\n",
      "\n"
     ]
    },
    {
     "data": {
      "text/html": [
       "<div>\n",
       "<style scoped>\n",
       "    .dataframe tbody tr th:only-of-type {\n",
       "        vertical-align: middle;\n",
       "    }\n",
       "\n",
       "    .dataframe tbody tr th {\n",
       "        vertical-align: top;\n",
       "    }\n",
       "\n",
       "    .dataframe thead th {\n",
       "        text-align: right;\n",
       "    }\n",
       "</style>\n",
       "<table border=\"1\" class=\"dataframe\">\n",
       "  <thead>\n",
       "    <tr style=\"text-align: right;\">\n",
       "      <th></th>\n",
       "      <th>Language</th>\n",
       "      <th>Article</th>\n",
       "      <th>Date</th>\n",
       "      <th>Pageviews</th>\n",
       "    </tr>\n",
       "  </thead>\n",
       "  <tbody>\n",
       "    <tr>\n",
       "      <th>1</th>\n",
       "      <td>en</td>\n",
       "      <td>al-qaeda</td>\n",
       "      <td>2012-01-01</td>\n",
       "      <td>2688</td>\n",
       "    </tr>\n",
       "    <tr>\n",
       "      <th>2</th>\n",
       "      <td>en</td>\n",
       "      <td>al-qaeda</td>\n",
       "      <td>2012-01-02</td>\n",
       "      <td>3409</td>\n",
       "    </tr>\n",
       "    <tr>\n",
       "      <th>3</th>\n",
       "      <td>en</td>\n",
       "      <td>al-qaeda</td>\n",
       "      <td>2012-01-03</td>\n",
       "      <td>3944</td>\n",
       "    </tr>\n",
       "    <tr>\n",
       "      <th>4</th>\n",
       "      <td>en</td>\n",
       "      <td>al-qaeda</td>\n",
       "      <td>2012-01-04</td>\n",
       "      <td>3905</td>\n",
       "    </tr>\n",
       "    <tr>\n",
       "      <th>5</th>\n",
       "      <td>en</td>\n",
       "      <td>al-qaeda</td>\n",
       "      <td>2012-01-05</td>\n",
       "      <td>4134</td>\n",
       "    </tr>\n",
       "  </tbody>\n",
       "</table>\n",
       "</div>"
      ],
      "text/plain": [
       "  Language   Article       Date  Pageviews\n",
       "1       en  al-qaeda 2012-01-01       2688\n",
       "2       en  al-qaeda 2012-01-02       3409\n",
       "3       en  al-qaeda 2012-01-03       3944\n",
       "4       en  al-qaeda 2012-01-04       3905\n",
       "5       en  al-qaeda 2012-01-05       4134"
      ]
     },
     "execution_count": 4,
     "metadata": {},
     "output_type": "execute_result"
    }
   ],
   "source": [
    "#Understanding the index\n",
    "print(\"Are the values in the first column unique ? \", data.index.is_unique)\n",
    "print(\"If unique, indicates the first column can be used as an index.\\n\")\n",
    "\n",
    "# Sort by index to get articles per date per period\n",
    "data.sort_index(axis = 0, na_position='first', inplace=True)\n",
    "\n",
    "data.head()"
   ]
  },
  {
   "cell_type": "code",
   "execution_count": 5,
   "metadata": {},
   "outputs": [
    {
     "name": "stdout",
     "output_type": "stream",
     "text": [
      "Language column contains 1 value(s) : ['en']\n",
      "It can thus be removed.\n",
      "\n"
     ]
    },
    {
     "data": {
      "text/html": [
       "<div>\n",
       "<style scoped>\n",
       "    .dataframe tbody tr th:only-of-type {\n",
       "        vertical-align: middle;\n",
       "    }\n",
       "\n",
       "    .dataframe tbody tr th {\n",
       "        vertical-align: top;\n",
       "    }\n",
       "\n",
       "    .dataframe thead th {\n",
       "        text-align: right;\n",
       "    }\n",
       "</style>\n",
       "<table border=\"1\" class=\"dataframe\">\n",
       "  <thead>\n",
       "    <tr style=\"text-align: right;\">\n",
       "      <th></th>\n",
       "      <th>Article</th>\n",
       "      <th>Date</th>\n",
       "      <th>Pageviews</th>\n",
       "    </tr>\n",
       "  </thead>\n",
       "  <tbody>\n",
       "    <tr>\n",
       "      <th>1</th>\n",
       "      <td>al-qaeda</td>\n",
       "      <td>2012-01-01</td>\n",
       "      <td>2688</td>\n",
       "    </tr>\n",
       "    <tr>\n",
       "      <th>2</th>\n",
       "      <td>al-qaeda</td>\n",
       "      <td>2012-01-02</td>\n",
       "      <td>3409</td>\n",
       "    </tr>\n",
       "    <tr>\n",
       "      <th>3</th>\n",
       "      <td>al-qaeda</td>\n",
       "      <td>2012-01-03</td>\n",
       "      <td>3944</td>\n",
       "    </tr>\n",
       "    <tr>\n",
       "      <th>4</th>\n",
       "      <td>al-qaeda</td>\n",
       "      <td>2012-01-04</td>\n",
       "      <td>3905</td>\n",
       "    </tr>\n",
       "    <tr>\n",
       "      <th>5</th>\n",
       "      <td>al-qaeda</td>\n",
       "      <td>2012-01-05</td>\n",
       "      <td>4134</td>\n",
       "    </tr>\n",
       "  </tbody>\n",
       "</table>\n",
       "</div>"
      ],
      "text/plain": [
       "    Article       Date  Pageviews\n",
       "1  al-qaeda 2012-01-01       2688\n",
       "2  al-qaeda 2012-01-02       3409\n",
       "3  al-qaeda 2012-01-03       3944\n",
       "4  al-qaeda 2012-01-04       3905\n",
       "5  al-qaeda 2012-01-05       4134"
      ]
     },
     "execution_count": 5,
     "metadata": {},
     "output_type": "execute_result"
    }
   ],
   "source": [
    "# Language column contains only one value and can be dropped.\n",
    "print(f\"Language column contains {data.Language.unique().size} value(s) : {data.Language.unique()}\")\n",
    "print(\"It can thus be removed.\\n\")\n",
    "\n",
    "data.drop(labels='Language', axis=1, inplace=True)\n",
    "data.head()"
   ]
  },
  {
   "cell_type": "markdown",
   "metadata": {},
   "source": [
    "## A. Cleaning and handling missing/undefined values\n",
    "Undefined values are any non-positive numerical or non-numerical values. In case of missing values, we will discuss the possible fixes and consequently decide on our way to handle them."
   ]
  },
  {
   "cell_type": "code",
   "execution_count": null,
   "metadata": {},
   "outputs": [],
   "source": [
    "## probably nothing TODO"
   ]
  },
  {
   "cell_type": "markdown",
   "metadata": {},
   "source": [
    "## B. Consistency in Datasets\n",
    "Here we will verify that all days were correctly retrieved."
   ]
  },
  {
   "cell_type": "code",
   "execution_count": 16,
   "metadata": {},
   "outputs": [
    {
     "name": "stdout",
     "output_type": "stream",
     "text": [
      "Startdate: 2012-01-01\n",
      "Enddate: 2014-08-31\n",
      "Time interval in days: 974\n",
      "All articles have pageviews for 974 days: True\n"
     ]
    }
   ],
   "source": [
    "## check that no day is missing on the period\n",
    "\n",
    "print(f\"Startdate: {startdate}\")\n",
    "print(f\"Enddate: {enddate}\")\n",
    "\n",
    "# Compute interval +1 to include limit dates on both ends.\n",
    "interval = (enddate - startdate).days +1\n",
    "print(f\"Time interval in days: {interval}\")\n",
    "\n",
    "# Check there are `interval` number of days for all articles.\n",
    "art_intervals = all(data.groupby('Article')['Date'].nunique()==974)\n",
    "print(f'All articles have pageviews for {interval} days: {art_intervals}')"
   ]
  },
  {
   "cell_type": "markdown",
   "metadata": {},
   "source": [
    "---\n",
    "# II. Generic Methods"
   ]
  },
  {
   "cell_type": "markdown",
   "metadata": {},
   "source": [
    "## A. Monthly Aggregation\n",
    "The data in our reference paper $\\text{Chilling Effects: Online Surveillance and Wikipedia Use}$ (*Jonathan W. Penney*), data is aggregated on a monthly basis and further computations are done on this transformation."
   ]
  },
  {
   "cell_type": "code",
   "execution_count": 17,
   "metadata": {},
   "outputs": [],
   "source": [
    "def agg_monthly(df) :\n",
    "    \"\"\"\n",
    "    Aggregates the pageviews in a monthly fashion. Returns a DataFrame with only the numerical columns summed.\n",
    "    Note : Sets the index to date.\n",
    "    \n",
    "    Parameters \n",
    "    ----------\n",
    "    df : pd DataFrame\n",
    "        df should have at least 3 columns containing `Article`, `Date` and `Pageviews`. Column with `Date` should be named 'Date'.\n",
    "    \"\"\"\n",
    "    # Aggregate monthly\n",
    "    dataMonthly = df.set_index('Date')\n",
    "    dataMonthly = dataMonthly.resample('M').sum()\n",
    "    # Verify period\n",
    "    print(f\"The formatted dataset correctly spans from {dataMonthly.index.min().date()} to {dataMonthly.index.max().date()}.\\n\")\n",
    "    \n",
    "    return dataMonthly"
   ]
  },
  {
   "cell_type": "markdown",
   "metadata": {},
   "source": [
    "## B. Mean Computation\n",
    "The first analysis technique done in the paper is a comparison of means before and after the interruption event. Let us write the methods for this purpose given a monthly pageviews dataset."
   ]
  },
  {
   "cell_type": "code",
   "execution_count": 42,
   "metadata": {},
   "outputs": [],
   "source": [
    "def divide_around_interruption(df, interruption, verbose=False) :\n",
    "    \"\"\"\n",
    "    Divides the dataset into a pre-interruption dataset and a post-interruption dataset. Returns 2 dataframes in (pre, post) order.\n",
    "    Note : The month of the interruption is included in the post-interruption dataset.\n",
    "    \n",
    "    Parameters \n",
    "    ----------\n",
    "    df : pd DataFrame\n",
    "        Pandas DataFrame containing the monthly pageviews around the interruption date.\n",
    "    interruption : string\n",
    "        Interruption date in the form of a string. Please use following fashion :\n",
    "        1st of May 1997 --> 1995-05-01\n",
    "    verbose : bool (default: False)\n",
    "        Display temp dataframes created in the process and other insightful information from the process.\n",
    "    \"\"\"\n",
    "    # Get pd.Timestamp object\n",
    "    revelations = pd.to_datetime(interruption)\n",
    "\n",
    "    # Creating both datasets\n",
    "    pre = df.loc[df.index < revelations]\n",
    "    post = df.loc[df.index > revelations]\n",
    "    if verbose :\n",
    "        print(\"Pre-interruption pageviews:\\n\", pre)\n",
    "        print(\"\\nPost-interruption pageviews:\\n\", post)\n",
    "\n",
    "    # Verifying operation\n",
    "    if verbose : \n",
    "        print(\"Verifying coherence for split around interruption date...\")\n",
    "    assert(df.size == (pre.size + post.size))\n",
    "    if verbose :\n",
    "        print(df.size == (pre.size + post.size))\n",
    "        \n",
    "    return pre, post"
   ]
  },
  {
   "cell_type": "code",
   "execution_count": 40,
   "metadata": {},
   "outputs": [],
   "source": [
    "def compute_mean_around_interruption(df, interruption, verbose=False) :\n",
    "    \"\"\"\n",
    "    Computes the mean number of pageviews before and after the interruption date. \n",
    "    Returns 2 means (2-tuple of numpy.float64) in (pre, post) order.\n",
    "    Note : The month of the interruption is included in the post-interruption dataset.\n",
    "    \n",
    "    Parameters \n",
    "    ----------\n",
    "    df : pd DataFrame\n",
    "        Pandas DataFrame containing the monthly pageviews around the interruption date.\n",
    "    interruption : string\n",
    "        Interruption date in the form of a string. Please use following fashion :\n",
    "        1st of May 1997 --> 1995-05-01\n",
    "    verbose : bool (default: False)\n",
    "        Display temp dataframes created in the process and other insightful information from the process.\n",
    "    \"\"\"\n",
    "    pre, post = divide_around_interruption(df, interruption, verbose=verbose)\n",
    "    return pre.mean()[0], post.mean()[0]"
   ]
  },
  {
   "cell_type": "markdown",
   "metadata": {},
   "source": [
    "## C. ITS Regression \n",
    "Following the formula of segmented regression of an interrupted time series (ITS) : \n",
    "$$\n",
    "Y_{t} = \\beta_{0}*\\text{time}+\\beta_{2}*\\text{intervention}+\\beta_{3}*\\text{postslope}+\\epsilon_{1}\n",
    "$$\n",
    "We define in the following the methods to perform such a regression."
   ]
  },
  {
   "cell_type": "code",
   "execution_count": null,
   "metadata": {},
   "outputs": [],
   "source": [
    "## TODO \n",
    "## @Gonxhe si tu peux mettre ton code c'est cool!"
   ]
  },
  {
   "cell_type": "markdown",
   "metadata": {},
   "source": [
    "## D. Plotting\n",
    "The reference paper uses 3 types of plots to describe the results :\n",
    "* **Histogram** of means before and after the interruption event (*cf. figure 1 in reference paper*).\n",
    "* **Segmented regression** around the interrupted event for **1 set** of articles (*cf. figure 2 in reference paper*).\n",
    "* **Segmented regression** around the interrupted event for **2 sets** of articles (*cf. figure 4A in reference paper*).\n",
    "\n",
    "Additionally, the regression plots can feature confidence intervals if prompted by the user (cf. figure 4 in reference paper)."
   ]
  },
  {
   "cell_type": "code",
   "execution_count": 119,
   "metadata": {},
   "outputs": [],
   "source": [
    "def hist_mean(df, interruption, verbose=False, ytick_step=5e5) :\n",
    "    \"\"\"\n",
    "    \n",
    "    Parameters \n",
    "    ----------\n",
    "    df : pd DataFrame\n",
    "        Pandas DataFrame containing the monthly pageviews around the interruption date.\n",
    "    interruption : string\n",
    "        Interruption date in the form of a string. Please use following fashion :\n",
    "        1st of May 1997 --> 1995-05-01\n",
    "    verbose : bool (default: False)\n",
    "        Display temp dataframes created in the process and other insightful information from the process.\n",
    "    ytick_step : int (default: 5e5)\n",
    "        Step in pageviews between 2 ticks on the y axis\n",
    "    \"\"\"\n",
    "    # Get means around interruption\n",
    "    pre, post = compute_mean_around_interruption(df, interruption)\n",
    "    pre_int, post_int = int(pre), int(post)\n",
    "    \n",
    "    # Preparing labels and data\n",
    "    d = np.array([pre,post])\n",
    "    rev_date= pd.to_datetime(interruption).month_name()+', '+str(pd.to_datetime(interruption).year)\n",
    "    l = ['Pre-'+rev_date, 'Post-'+rev_date]\n",
    "    \n",
    "    # Plotting\n",
    "    fig, ax = plt.subplots(figsize=(5,6))\n",
    "    plt.bar(x=l, height=d, width=0.5)\n",
    "    \n",
    "    # Configuring the axes to fit the data\n",
    "    ymax = np.floor(d.max()/ytick_step +3)*ytick_step\n",
    "    plt.yticks(np.arange(0, ymax, ytick_step), [f'{v:,}' for v in np.arange(0, ymax, ytick_step, dtype=int)])\n",
    "    plt.ylabel('Total Views', labelpad=30)\n",
    "    \n",
    "    plt.grid(False)\n",
    "    plt.show()\n",
    "    \n",
    "    return None"
   ]
  },
  {
   "cell_type": "code",
   "execution_count": 121,
   "metadata": {},
   "outputs": [
    {
     "data": {
      "image/png": "[encoded data removed]",
      "text/plain": [
       "<Figure size 540x360 with 1 Axes>"
      ]
     },
     "metadata": {},
     "output_type": "display_data"
    }
   ],
   "source": [
    "def segmented_reg_1_set(df, interruption, verbose=False, ytick_step=5e5, narts=None) :\n",
    "    \"\"\"\n",
    "    Plots the ITS of a dataset of monthly Pageviews around an interruption date.\n",
    "    \n",
    "    Parameters \n",
    "    ----------\n",
    "    df : pd DataFrame\n",
    "        Pandas DataFrame containing the monthly pageviews around the interruption date.\n",
    "    interruption : string\n",
    "        Interruption date in the form of a string. Please use following fashion :\n",
    "        1st of May 1997 --> 1995-05-01\n",
    "    verbose : bool (default: False)\n",
    "        Display temp dataframes created in the process and other insightful information from the process.\n",
    "    ytick_step : int (default: 5e5)\n",
    "        Step in pageviews between 2 ticks on the y axis\n",
    "    narts : int (default: None)\n",
    "        Number of articles summed in the monthly Pageviews. Used for the legend.\n",
    "    \"\"\"\n",
    "    # Divide around interruption\n",
    "    pre, post = divide_around_interruption(df, interruption, verbose=verbose)\n",
    "        \n",
    "    ## Plotting\n",
    "    \n",
    "    # Create dataframe with both periods identified\n",
    "    concatenated = pd.concat([\n",
    "        pre.reset_index(drop=True).assign(period='pre'), \n",
    "        post.reset_index(drop=True).assign(period='post')], ignore_index=True)\n",
    "\n",
    "    # Creating a month-identifier column\n",
    "    concatenated = concatenated.reset_index()\n",
    "    concatenated.columns.values[0]='Months'\n",
    "    concatenated['Months'] = concatenated['Months']+1\n",
    "    # The paper shifts monthly count to start from 1.\n",
    "\n",
    "    # Identifying both periods visually\n",
    "    pal = dict(pre=\"black\", post=\"grey\")\n",
    "    g = sns.FacetGrid(concatenated, hue='period', palette=pal, height=5, aspect=1.5, xlim=(-1, 33))\n",
    "\n",
    "    #### TODO use computed regression !\n",
    "    # Creating the regressions for both periods\n",
    "    g.map(sns.regplot, \"Months\", \"Pageviews\", ci=None, robust=1, scatter=False)\n",
    "\n",
    "    # Adding the scatter data separately\n",
    "    g.map(sns.scatterplot,  \"Months\", \"Pageviews\", color=\"black\")\n",
    "\n",
    "    # Configuring the axes to fit the data\n",
    "    plt.xticks(np.arange(0, concatenated.shape[0]+2, 2), np.arange(0, concatenated.shape[0]+2, 2, dtype=int))\n",
    "    ymin, ymax = np.floor(concatenated['Pageviews'].min()/ytick_step)*ytick_step, np.floor(concatenated['Pageviews'].max()/ytick_step +1)*ytick_step\n",
    "    plt.yticks(np.arange(ymin, ymax, ytick_step), np.arange(ymin, ymax, ytick_step, dtype=int))\n",
    "\n",
    "    # Configuring the labels to be as on paper\n",
    "    plt.ylabel(\"Total Views\"+ ( '('+narts+' Wikiğedia Articles)' if narts else ''))\n",
    "    plt.xlabel(\"Time (Months)\")\n",
    "\n",
    "    # Adding grid to be as on paper\n",
    "    plt.grid(True, which='major', axis='y', alpha=0.3)\n",
    "\n",
    "    # Creating legend\n",
    "    rev_date= pd.to_datetime(interruption).month_name()+', '+str(pd.to_datetime(interruption).year)\n",
    "    legend = plt.legend(labels=[\"Trend Pre-\"+rev_date, \"Trend Post-\"+rev_date, \"Total Article Views (per month)\"], \n",
    "                        bbox_to_anchor=[1,-0.1], fontsize='medium', \n",
    "                        ncol=2, borderpad=0.75, handlelength=5)\n",
    "\n",
    "    # Adding June 2013 line identifier\n",
    "    plt.text(17.5,4.2e6,'Mid '+rev_date,horizontalalignment='center')\n",
    "    plt.axvline(17.5, linewidth=2.5, color='black')\n",
    "\n",
    "    plt.show()\n",
    "    \n",
    "    return None\n",
    "\n",
    "segmented_reg_1_set(m_data,'2013-06-06')"
   ]
  },
  {
   "cell_type": "code",
   "execution_count": 22,
   "metadata": {},
   "outputs": [],
   "source": [
    "## TODO Compute plotting for 2 sets "
   ]
  },
  {
   "cell_type": "markdown",
   "metadata": {},
   "source": [
    "---\n",
    "# III. GDPR Adoption\n",
    "The European Parliament adopted the GDPR Regulation text on the $27^{th}$ of April $2016$. Our first case of interest are the following research questions at this date : \n",
    "* Is there an inverse chilling effect (e.g. immediate spike) following the announcement of the regulation adoption?\n",
    "* Has there been a change in trends in the viewing of critical terms related to the regulation after the event?\n",
    "\n",
    "We will thus answer these questions using the analysis methods from the reference paper and draw conclusions."
   ]
  },
  {
   "cell_type": "markdown",
   "metadata": {},
   "source": [
    "## A. Monthly Aggregation"
   ]
  },
  {
   "cell_type": "code",
   "execution_count": null,
   "metadata": {},
   "outputs": [],
   "source": []
  },
  {
   "cell_type": "markdown",
   "metadata": {},
   "source": [
    "## B. Mean Computation"
   ]
  },
  {
   "cell_type": "code",
   "execution_count": null,
   "metadata": {},
   "outputs": [],
   "source": []
  },
  {
   "cell_type": "markdown",
   "metadata": {},
   "source": [
    "## C. ITS Regression"
   ]
  },
  {
   "cell_type": "code",
   "execution_count": null,
   "metadata": {},
   "outputs": [],
   "source": []
  },
  {
   "cell_type": "markdown",
   "metadata": {},
   "source": [
    "---\n",
    "# GPDR Begginig of enforcement\n",
    "The GDPR regulation was applied starting from the $25^{th}$ of May $2018$ for every country of the European Union (EU) and European Economic Area (EEA). We aim to answer the following questions regarding the event : \n",
    "* Is there an inverse chilling effect (e.g. immediate spike) following the day when the regulation became effective?\n",
    "* Has there been a change in trends in the viewing of critical terms related to the regulation after the event?\n",
    "\n",
    "We will thus answer these questions using the analysis methods from the reference paper and draw conclusions."
   ]
  },
  {
   "cell_type": "markdown",
   "metadata": {},
   "source": [
    "## A. Monthly Aggregation"
   ]
  },
  {
   "cell_type": "code",
   "execution_count": null,
   "metadata": {},
   "outputs": [],
   "source": []
  },
  {
   "cell_type": "markdown",
   "metadata": {},
   "source": [
    "## B. Mean Computation"
   ]
  },
  {
   "cell_type": "code",
   "execution_count": null,
   "metadata": {},
   "outputs": [],
   "source": []
  },
  {
   "cell_type": "markdown",
   "metadata": {},
   "source": [
    "## C. ITS Regression"
   ]
  },
  {
   "cell_type": "code",
   "execution_count": null,
   "metadata": {},
   "outputs": [],
   "source": []
  },
  {
   "cell_type": "markdown",
   "metadata": {},
   "source": [
    "# Conclusion"
   ]
  },
  {
   "cell_type": "code",
   "execution_count": null,
   "metadata": {},
   "outputs": [],
   "source": []
  },
  {
   "cell_type": "code",
   "execution_count": null,
   "metadata": {},
   "outputs": [],
   "source": []
  },
  {
   "cell_type": "code",
   "execution_count": null,
   "metadata": {},
   "outputs": [],
   "source": []
  },
  {
   "cell_type": "code",
   "execution_count": null,
   "metadata": {},
   "outputs": [],
   "source": []
  }
 ],
 "metadata": {
  "kernelspec": {
   "display_name": "Python 3",
   "language": "python",
   "name": "python3"
  },
  "language_info": {
   "codemirror_mode": {
    "name": "ipython",
    "version": 3
   },
   "file_extension": ".py",
   "mimetype": "text/x-python",
   "name": "python",
   "nbconvert_exporter": "python",
   "pygments_lexer": "ipython3",
   "version": "3.8.5"
  }
 },
 "nbformat": 4,
 "nbformat_minor": 4
}
