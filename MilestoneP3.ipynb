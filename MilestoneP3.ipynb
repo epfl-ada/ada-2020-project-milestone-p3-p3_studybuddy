{
 "cells": [
  {
   "cell_type": "code",
   "execution_count": 1,
   "metadata": {},
   "outputs": [],
   "source": [
    "%load_ext autoreload\n",
    "%autoreload 2"
   ]
  },
  {
   "cell_type": "code",
   "execution_count": 2,
   "metadata": {},
   "outputs": [],
   "source": [
    "# Allow import of custom modules from the \"src\" folder\n",
    "import sys\n",
    "sys.path.insert(0, 'src/') # solve annoying path issues (ModuleNotFoundError)\n",
    "\n",
    "# Standard packages for data analysis \n",
    "import pandas as pd\n",
    "import numpy as np\n",
    "import matplotlib.pyplot as plt\n",
    "import seaborn as sns\n",
    "import statsmodels.formula.api as smf\n",
    "sns.set(style='whitegrid')\n",
    "\n",
    "# Web scraping\n",
    "from scrape_wiki import PageviewsClient\n",
    "from update_keywords import read_keywords\n",
    "\n",
    "# Other\n",
    "from functools import reduce"
   ]
  },
  {
   "cell_type": "code",
   "execution_count": 3,
   "metadata": {},
   "outputs": [],
   "source": [
    "# Path management\n",
    "data_path = \"data/\""
   ]
  },
  {
   "cell_type": "markdown",
   "metadata": {},
   "source": [
    "# **TODOs** \n",
    "\n",
    "* Modify titles numbers (I, II, III) once it won't change"
   ]
  },
  {
   "cell_type": "markdown",
   "metadata": {},
   "source": [
    "---\n",
    "\n",
    "# Keywords selection\n",
    "\n"
   ]
  },
  {
   "cell_type": "markdown",
   "metadata": {},
   "source": [
    "## GDPR-related keywords\n",
    "\n",
    "Selected GDPR-related keywords was mainly done by manual selection of relevant articles, we simply wrote them in a text file and we load them in the cells below:"
   ]
  },
  {
   "cell_type": "code",
   "execution_count": 4,
   "metadata": {},
   "outputs": [],
   "source": [
    "# Setup path and settings\n",
    "keywords_GDPR = data_path + 'GDPR_{}.txt'\n",
    "language = 'de'"
   ]
  },
  {
   "cell_type": "code",
   "execution_count": 5,
   "metadata": {},
   "outputs": [
    {
     "data": {
      "text/plain": [
       "['Anonymisierung und Pseudonymisierung',\n",
       " 'AnonymitÃ¤t',\n",
       " 'Automatische Identifikation und Datenerfassung',\n",
       " 'Big Data',\n",
       " 'Business Intelligence',\n",
       " 'Cyber-Terrorismus',\n",
       " 'Daten',\n",
       " 'Datenanalyse',\n",
       " 'Datenmanagement',\n",
       " 'Datenschutz',\n",
       " 'Datenschutz-Grundverordnung',\n",
       " 'Datenschutz-Grundverordnung',\n",
       " 'DatenschutzerklÃ¤rung',\n",
       " 'Datenschutzrecht',\n",
       " 'Datenvernichtung',\n",
       " 'Digitale Rechte',\n",
       " 'Digitale Rechteverwaltung',\n",
       " 'Erhebung (Empirie)',\n",
       " 'EuropÃ¤ische Kommission',\n",
       " 'GlÃ¤serner Mensch (Datenschutz)',\n",
       " 'HTTP-Cookie',\n",
       " 'Individualrecht',\n",
       " 'Informationsintegration',\n",
       " 'Informationsmanagement',\n",
       " 'Informationssicherheit',\n",
       " 'Internet Governance',\n",
       " 'Internet Privacy Act',\n",
       " 'Langzeitarchivierung',\n",
       " 'Online-Durchsuchung',\n",
       " 'Personenbezogene Daten',\n",
       " 'PersÃ¶nliche Identifikationsnummer',\n",
       " 'PrivatsphÃ¤re',\n",
       " 'Rechtsinformatik',\n",
       " 'Richtlinie 95/46/EG (Datenschutzrichtlinie)',\n",
       " 'Transparenz (Politik)',\n",
       " 'Verordnung (EU)',\n",
       " 'Verschwiegenheitspflicht',\n",
       " 'Vorratsdatenspeicherung',\n",
       " 'Zensur im Internet']"
      ]
     },
     "execution_count": 5,
     "metadata": {},
     "output_type": "execute_result"
    }
   ],
   "source": [
    "# Load list of keywords with our custom function\n",
    "keywords = read_keywords(keywords_GDPR.format(language))\n",
    "sorted(keywords)"
   ]
  },
  {
   "cell_type": "markdown",
   "metadata": {},
   "source": [
    "## Popular articles\n",
    "\n",
    "One can find the selection of popular Wikipedia articles under the Web Scraping section."
   ]
  },
  {
   "cell_type": "markdown",
   "metadata": {},
   "source": [
    "---\n",
    "\n",
    "# Web Scraping\n",
    "\n",
    "In this section, we reproduce the steps performed to obtain the dataset we will work on. This is mainly a summary of what is shown in the [Scraping](Scraping.ipynb) notebook. "
   ]
  },
  {
   "cell_type": "markdown",
   "metadata": {},
   "source": [
    "## Setup \n",
    "\n",
    "According to the [Wikipedia REST API rules](https://wikimedia.org/api/rest_v1/), we must specify a contact address as the `User-Agent` for queries to the database."
   ]
  },
  {
   "cell_type": "code",
   "execution_count": 6,
   "metadata": {},
   "outputs": [],
   "source": [
    "# Set contact address\n",
    "contact = 'matthias.zeller@epfl.ch'\n",
    "\n",
    "# Instanciate query function\n",
    "p = PageviewsClient(contact)"
   ]
  },
  {
   "cell_type": "code",
   "execution_count": 7,
   "metadata": {},
   "outputs": [],
   "source": [
    "# Parameters to request article views\n",
    "params = {\n",
    "    'agent': 'user',\n",
    "    'start': '20150401', # 1st April 2015\n",
    "    'end':   '20190531'  # 31th May 2019\n",
    "}"
   ]
  },
  {
   "cell_type": "code",
   "execution_count": 8,
   "metadata": {},
   "outputs": [],
   "source": [
    "from concurrent.futures import ThreadPoolExecutor\n",
    "\n",
    "# Helper functions\n",
    "def request_top(dates, domain=language, limit=500):\n",
    "    \"\"\"\n",
    "    Wraps the function PageviewsClient.top_articles.\n",
    "    \n",
    "    Parameters \n",
    "    ----------\n",
    "    dates: list \n",
    "           List of dictionnaries with keys 'year', 'month', 'day'\n",
    "    domain: str\n",
    "            Specifies the Wikipedia project (en, de, fr, ...)\n",
    "    limit: int\n",
    "           Number of top articles to fetch for a given date\n",
    "    \n",
    "    Returns\n",
    "    -------\n",
    "    df : pandas.DataFrame\n",
    "        Dataframe with columns year, month, day, views, article, rank\n",
    "    \"\"\"\n",
    "    def fetch_date(d):\n",
    "        try:\n",
    "            df = p.top_articles(domain, **d, limit=limit)\n",
    "        except Exception:\n",
    "            # Happens if data not available\n",
    "            return pd.DataFrame()\n",
    "        \n",
    "        df = pd.DataFrame(df)\n",
    "        df['year'] = d['year']\n",
    "        df['month'] = d['month']\n",
    "        df['day'] = d['day']\n",
    "        return df\n",
    "    \n",
    "    domain = domain + '.wikipedia'\n",
    "    \n",
    "    # Fetch with parallel requests\n",
    "    with ThreadPoolExecutor(10) as executor:\n",
    "        res = list(executor.map(fetch_date, dates))\n",
    "    \n",
    "    # Format results in a DataFrame\n",
    "    res = pd.concat(res, ignore_index=True)\n",
    "    # Replace None -> np.nan\n",
    "    res = res.applymap(lambda elem: np.nan if elem is None else elem)\n",
    "    \n",
    "    res['language'] = domain.split('.')[0]\n",
    "    \n",
    "    return res\n",
    "\n",
    "\n",
    "def request(articles, domain=language, **kwargs):\n",
    "    \"\"\"\n",
    "    Wraps the function PageviewsClient.article_views\n",
    "    \n",
    "    Parameters\n",
    "    ----------\n",
    "    articles : list\n",
    "              List of Wikipedia article names\n",
    "    domain : str\n",
    "            Wikipedia project (de, en, es, fr...)\n",
    "    kwargs\n",
    "            Additionnal arguments that override `params` and passed to article_views()\n",
    "            \n",
    "    Returns\n",
    "    -------\n",
    "    df : pandas.DataFrame\n",
    "         Dataset with columns being articles and index are dates\n",
    "    \"\"\"\n",
    "    wrapped_kwargs = params.copy()\n",
    "    wrapped_kwargs.update(kwargs)\n",
    "    domain = domain + '.wikipedia'\n",
    "    \n",
    "    # Fetch\n",
    "    res = p.article_views(articles=articles, project=domain, **wrapped_kwargs)\n",
    "    \n",
    "    # Format results in a DataFrame\n",
    "    res = pd.DataFrame(res).T\n",
    "    # Replace None -> np.nan\n",
    "    res = res.applymap(lambda elem: np.nan if elem is None else elem)\n",
    "    # Sort by dates\n",
    "    res.sort_index(inplace=True)\n",
    "    \n",
    "    return res"
   ]
  },
  {
   "cell_type": "markdown",
   "metadata": {},
   "source": [
    "## Popular articles selection"
   ]
  },
  {
   "cell_type": "markdown",
   "metadata": {},
   "source": [
    "We will use (a modified version of) the `top_articles` function from the [python-mwviews](https://github.com/mediawiki-utilities/python-mwviews/blob/master/mwviews/api/pageviews.py) package to fetch the most popular Wikipedia articles for our given time period. We fetch articles that are popular during a whole month with `day='all-days'` argument."
   ]
  },
  {
   "cell_type": "markdown",
   "metadata": {},
   "source": [
    "We use the following strategy:\n",
    "\n",
    "1. Fetch the monthly top 400 articles for every date specified\n",
    "1. Compute and retain only the articles that appear as a top article in each month\n",
    "1. Filter out special articles (e.g. home page)"
   ]
  },
  {
   "cell_type": "code",
   "execution_count": 9,
   "metadata": {},
   "outputs": [],
   "source": [
    "# Define the time range of interest\n",
    "dates = [\n",
    "    {'year': year, 'month': month, 'day': 'all-days'}\n",
    "    for year in [2015, 2016, 2017, 2018, 2019]\n",
    "    for month in range(1, 13)\n",
    "]\n",
    "\n",
    "top = request_top(dates, limit=400)"
   ]
  },
  {
   "cell_type": "code",
   "execution_count": 10,
   "metadata": {},
   "outputs": [
    {
     "data": {
      "text/html": [
       "<div>\n",
       "<style scoped>\n",
       "    .dataframe tbody tr th:only-of-type {\n",
       "        vertical-align: middle;\n",
       "    }\n",
       "\n",
       "    .dataframe tbody tr th {\n",
       "        vertical-align: top;\n",
       "    }\n",
       "\n",
       "    .dataframe thead th {\n",
       "        text-align: right;\n",
       "    }\n",
       "</style>\n",
       "<table border=\"1\" class=\"dataframe\">\n",
       "  <thead>\n",
       "    <tr style=\"text-align: right;\">\n",
       "      <th></th>\n",
       "      <th>article</th>\n",
       "      <th>views</th>\n",
       "      <th>rank</th>\n",
       "      <th>year</th>\n",
       "      <th>month</th>\n",
       "      <th>day</th>\n",
       "      <th>language</th>\n",
       "    </tr>\n",
       "  </thead>\n",
       "  <tbody>\n",
       "    <tr>\n",
       "      <th>0</th>\n",
       "      <td>Wikipedia:Hauptseite</td>\n",
       "      <td>89923322</td>\n",
       "      <td>1</td>\n",
       "      <td>2015</td>\n",
       "      <td>7</td>\n",
       "      <td>all-days</td>\n",
       "      <td>de</td>\n",
       "    </tr>\n",
       "    <tr>\n",
       "      <th>1</th>\n",
       "      <td>Spezial:Suche</td>\n",
       "      <td>12288633</td>\n",
       "      <td>2</td>\n",
       "      <td>2015</td>\n",
       "      <td>7</td>\n",
       "      <td>all-days</td>\n",
       "      <td>de</td>\n",
       "    </tr>\n",
       "    <tr>\n",
       "      <th>2</th>\n",
       "      <td>Spezial:Anmelden</td>\n",
       "      <td>3932424</td>\n",
       "      <td>3</td>\n",
       "      <td>2015</td>\n",
       "      <td>7</td>\n",
       "      <td>all-days</td>\n",
       "      <td>de</td>\n",
       "    </tr>\n",
       "    <tr>\n",
       "      <th>3</th>\n",
       "      <td>Special:Search</td>\n",
       "      <td>2551705</td>\n",
       "      <td>4</td>\n",
       "      <td>2015</td>\n",
       "      <td>7</td>\n",
       "      <td>all-days</td>\n",
       "      <td>de</td>\n",
       "    </tr>\n",
       "    <tr>\n",
       "      <th>4</th>\n",
       "      <td>Hauptseite</td>\n",
       "      <td>1769900</td>\n",
       "      <td>5</td>\n",
       "      <td>2015</td>\n",
       "      <td>7</td>\n",
       "      <td>all-days</td>\n",
       "      <td>de</td>\n",
       "    </tr>\n",
       "  </tbody>\n",
       "</table>\n",
       "</div>"
      ],
      "text/plain": [
       "                article     views  rank  year  month       day language\n",
       "0  Wikipedia:Hauptseite  89923322     1  2015      7  all-days       de\n",
       "1         Spezial:Suche  12288633     2  2015      7  all-days       de\n",
       "2      Spezial:Anmelden   3932424     3  2015      7  all-days       de\n",
       "3        Special:Search   2551705     4  2015      7  all-days       de\n",
       "4            Hauptseite   1769900     5  2015      7  all-days       de"
      ]
     },
     "execution_count": 10,
     "metadata": {},
     "output_type": "execute_result"
    }
   ],
   "source": [
    "top.head()"
   ]
  },
  {
   "cell_type": "code",
   "execution_count": 11,
   "metadata": {},
   "outputs": [
    {
     "data": {
      "text/plain": [
       "array([400], dtype=int64)"
      ]
     },
     "execution_count": 11,
     "metadata": {},
     "output_type": "execute_result"
    }
   ],
   "source": [
    "# Quick sanity check\n",
    "top.groupby(['year', 'month']).article.nunique().unique()"
   ]
  },
  {
   "cell_type": "markdown",
   "metadata": {},
   "source": [
    "We indeed have 400 articles per entry (i.e. per month). We now retain the articles that appear in each month:"
   ]
  },
  {
   "cell_type": "code",
   "execution_count": 12,
   "metadata": {},
   "outputs": [],
   "source": [
    "# Initialize iterator for sets of articles per month\n",
    "it = (set(article_lst) for _, article_lst in top.groupby(['year', 'month']).article)\n",
    "\n",
    "# Compute intersection of lists of articles\n",
    "intersect = list(reduce(\n",
    "    lambda accumulator, article_list: accumulator.intersection(article_list),\n",
    "    it\n",
    "))"
   ]
  },
  {
   "cell_type": "code",
   "execution_count": 13,
   "metadata": {},
   "outputs": [
    {
     "name": "stdout",
     "output_type": "stream",
     "text": [
      "Full list has length 49, filtered list has length 39\n"
     ]
    },
    {
     "data": {
      "text/plain": [
       "['Österreich',\n",
       " 'New_York_City',\n",
       " 'Verwandtschaftsbeziehung',\n",
       " 'Liste_der_Kfz-Kennzeichen_in_Deutschland',\n",
       " 'Angela_Merkel',\n",
       " 'Vagina',\n",
       " 'Nordrhein-Westfalen',\n",
       " 'Australien',\n",
       " 'Niederlande',\n",
       " 'Figuren_aus_dem_Marvel-Universum',\n",
       " 'Deutschland',\n",
       " 'Erster_Weltkrieg',\n",
       " 'Frankreich',\n",
       " 'Wikipedia',\n",
       " 'Europa',\n",
       " 'Liste_der_IPA-Zeichen',\n",
       " 'Volksrepublik_China',\n",
       " 'Vereinigte_Staaten',\n",
       " 'Bayern',\n",
       " 'Polen',\n",
       " 'Italien',\n",
       " 'Schweiz',\n",
       " 'Game_of_Thrones',\n",
       " 'München',\n",
       " 'Türkei',\n",
       " 'Adolf_Hitler',\n",
       " 'Europäische_Union',\n",
       " 'Wien',\n",
       " 'Kanada',\n",
       " 'Indien',\n",
       " 'Vereinigtes_Königreich',\n",
       " 'Asperger-Syndrom',\n",
       " 'Russland',\n",
       " 'Zweiter_Weltkrieg',\n",
       " 'Japan',\n",
       " 'Periodensystem',\n",
       " 'Napoleon_Bonaparte',\n",
       " 'Hamburg',\n",
       " 'Berlin']"
      ]
     },
     "execution_count": 13,
     "metadata": {},
     "output_type": "execute_result"
    }
   ],
   "source": [
    "# Define list of \"special\" articles\n",
    "specials = [\n",
    "    'Spezial:', 'Wikipedia:', 'Datei:', 'Benutzer:', 'Special:', 'Hauptseite'\n",
    "]\n",
    "\n",
    "# Discard special articles from the current list\n",
    "selection = [\n",
    "    art for art in intersect if not any(map(lambda special: special in art, specials))\n",
    "]\n",
    "\n",
    "print(f'Full list has length {len(intersect)}, filtered list has length {len(selection)}')\n",
    "selection"
   ]
  },
  {
   "cell_type": "markdown",
   "metadata": {},
   "source": [
    "We can now extract those 39 popular articles and format a data set suited for downstream analyses:"
   ]
  },
  {
   "cell_type": "code",
   "execution_count": 14,
   "metadata": {},
   "outputs": [
    {
     "data": {
      "text/html": [
       "<div>\n",
       "<style scoped>\n",
       "    .dataframe tbody tr th:only-of-type {\n",
       "        vertical-align: middle;\n",
       "    }\n",
       "\n",
       "    .dataframe tbody tr th {\n",
       "        vertical-align: top;\n",
       "    }\n",
       "\n",
       "    .dataframe thead th {\n",
       "        text-align: right;\n",
       "    }\n",
       "</style>\n",
       "<table border=\"1\" class=\"dataframe\">\n",
       "  <thead>\n",
       "    <tr style=\"text-align: right;\">\n",
       "      <th></th>\n",
       "      <th>Article</th>\n",
       "      <th>Date</th>\n",
       "      <th>Pageviews</th>\n",
       "      <th>Language</th>\n",
       "    </tr>\n",
       "  </thead>\n",
       "  <tbody>\n",
       "    <tr>\n",
       "      <th>0</th>\n",
       "      <td>Deutschland</td>\n",
       "      <td>2015-07-01</td>\n",
       "      <td>477014</td>\n",
       "      <td>de</td>\n",
       "    </tr>\n",
       "    <tr>\n",
       "      <th>1</th>\n",
       "      <td>Game_of_Thrones</td>\n",
       "      <td>2015-07-01</td>\n",
       "      <td>360283</td>\n",
       "      <td>de</td>\n",
       "    </tr>\n",
       "    <tr>\n",
       "      <th>2</th>\n",
       "      <td>Wikipedia</td>\n",
       "      <td>2015-07-01</td>\n",
       "      <td>194898</td>\n",
       "      <td>de</td>\n",
       "    </tr>\n",
       "    <tr>\n",
       "      <th>3</th>\n",
       "      <td>Vereinigte_Staaten</td>\n",
       "      <td>2015-07-01</td>\n",
       "      <td>192909</td>\n",
       "      <td>de</td>\n",
       "    </tr>\n",
       "    <tr>\n",
       "      <th>4</th>\n",
       "      <td>Schweiz</td>\n",
       "      <td>2015-07-01</td>\n",
       "      <td>169767</td>\n",
       "      <td>de</td>\n",
       "    </tr>\n",
       "  </tbody>\n",
       "</table>\n",
       "</div>"
      ],
      "text/plain": [
       "              Article       Date  Pageviews Language\n",
       "0         Deutschland 2015-07-01     477014       de\n",
       "1     Game_of_Thrones 2015-07-01     360283       de\n",
       "2           Wikipedia 2015-07-01     194898       de\n",
       "3  Vereinigte_Staaten 2015-07-01     192909       de\n",
       "4             Schweiz 2015-07-01     169767       de"
      ]
     },
     "execution_count": 14,
     "metadata": {},
     "output_type": "execute_result"
    }
   ],
   "source": [
    "# Extract selected articles\n",
    "ctrl = top[top.article.isin(selection)].reset_index(drop=True).copy()\n",
    "# Create date column\n",
    "ctrl['date'] = list(map(lambda tpl: f'{tpl[0]}-{tpl[1]}', zip(ctrl.year, ctrl.month)))\n",
    "ctrl.date = pd.to_datetime(ctrl.date)\n",
    "# Keep relevant columns\n",
    "ctrl = ctrl[['article', 'date', 'views', 'language']]\n",
    "ctrl.columns = ['Article', 'Date', 'Pageviews', 'Language']\n",
    "\n",
    "ctrl.head()"
   ]
  },
  {
   "cell_type": "markdown",
   "metadata": {},
   "source": [
    "## Article Pageviews"
   ]
  },
  {
   "cell_type": "code",
   "execution_count": 15,
   "metadata": {},
   "outputs": [],
   "source": [
    "# Helper function\n",
    "def format_dataset(df, language):\n",
    "    out = pd.DataFrame(df.unstack()).reset_index()\n",
    "    print(out)\n",
    "    out.columns = ['Article', 'Date', 'Pageviews']\n",
    "    out['Language'] = language\n",
    "    return out"
   ]
  },
  {
   "cell_type": "code",
   "execution_count": 16,
   "metadata": {},
   "outputs": [
    {
     "name": "stdout",
     "output_type": "stream",
     "text": [
      "                        level_0    level_1      0\n",
      "0      Verschwiegenheitspflicht 2015-04-01    NaN\n",
      "1      Verschwiegenheitspflicht 2015-04-02    NaN\n",
      "2      Verschwiegenheitspflicht 2015-04-03    NaN\n",
      "3      Verschwiegenheitspflicht 2015-04-04    NaN\n",
      "4      Verschwiegenheitspflicht 2015-04-05    NaN\n",
      "...                         ...        ...    ...\n",
      "57831               HTTP-Cookie 2019-05-27  678.0\n",
      "57832               HTTP-Cookie 2019-05-28  667.0\n",
      "57833               HTTP-Cookie 2019-05-29  597.0\n",
      "57834               HTTP-Cookie 2019-05-30  487.0\n",
      "57835               HTTP-Cookie 2019-05-31  526.0\n",
      "\n",
      "[57836 rows x 3 columns]\n"
     ]
    },
    {
     "data": {
      "text/html": [
       "<div>\n",
       "<style scoped>\n",
       "    .dataframe tbody tr th:only-of-type {\n",
       "        vertical-align: middle;\n",
       "    }\n",
       "\n",
       "    .dataframe tbody tr th {\n",
       "        vertical-align: top;\n",
       "    }\n",
       "\n",
       "    .dataframe thead th {\n",
       "        text-align: right;\n",
       "    }\n",
       "</style>\n",
       "<table border=\"1\" class=\"dataframe\">\n",
       "  <thead>\n",
       "    <tr style=\"text-align: right;\">\n",
       "      <th></th>\n",
       "      <th>Article</th>\n",
       "      <th>Date</th>\n",
       "      <th>Pageviews</th>\n",
       "      <th>Language</th>\n",
       "    </tr>\n",
       "  </thead>\n",
       "  <tbody>\n",
       "    <tr>\n",
       "      <th>0</th>\n",
       "      <td>Verschwiegenheitspflicht</td>\n",
       "      <td>2015-04-01</td>\n",
       "      <td>NaN</td>\n",
       "      <td>de</td>\n",
       "    </tr>\n",
       "    <tr>\n",
       "      <th>1</th>\n",
       "      <td>Verschwiegenheitspflicht</td>\n",
       "      <td>2015-04-02</td>\n",
       "      <td>NaN</td>\n",
       "      <td>de</td>\n",
       "    </tr>\n",
       "    <tr>\n",
       "      <th>2</th>\n",
       "      <td>Verschwiegenheitspflicht</td>\n",
       "      <td>2015-04-03</td>\n",
       "      <td>NaN</td>\n",
       "      <td>de</td>\n",
       "    </tr>\n",
       "    <tr>\n",
       "      <th>3</th>\n",
       "      <td>Verschwiegenheitspflicht</td>\n",
       "      <td>2015-04-04</td>\n",
       "      <td>NaN</td>\n",
       "      <td>de</td>\n",
       "    </tr>\n",
       "    <tr>\n",
       "      <th>4</th>\n",
       "      <td>Verschwiegenheitspflicht</td>\n",
       "      <td>2015-04-05</td>\n",
       "      <td>NaN</td>\n",
       "      <td>de</td>\n",
       "    </tr>\n",
       "  </tbody>\n",
       "</table>\n",
       "</div>"
      ],
      "text/plain": [
       "                    Article       Date  Pageviews Language\n",
       "0  Verschwiegenheitspflicht 2015-04-01        NaN       de\n",
       "1  Verschwiegenheitspflicht 2015-04-02        NaN       de\n",
       "2  Verschwiegenheitspflicht 2015-04-03        NaN       de\n",
       "3  Verschwiegenheitspflicht 2015-04-04        NaN       de\n",
       "4  Verschwiegenheitspflicht 2015-04-05        NaN       de"
      ]
     },
     "execution_count": 16,
     "metadata": {},
     "output_type": "execute_result"
    }
   ],
   "source": [
    "# We use the helper function \"request\" defined above\n",
    "# and the list of keywords also loaded above\n",
    "df = request(keywords, language)\n",
    "df = format_dataset(df, language)\n",
    "\n",
    "df.head()"
   ]
  },
  {
   "cell_type": "markdown",
   "metadata": {},
   "source": [
    "## Remarks\n",
    "\n",
    "The Wikipedia REST API cannot provide data anterior to July 2015, so we either have missing values (as in `df`) or do not take top articles from April 2015 to June 2015 into account. "
   ]
  },
  {
   "cell_type": "markdown",
   "metadata": {},
   "source": [
    "---\n",
    "# I. Exploratory Data Analysis"
   ]
  },
  {
   "cell_type": "markdown",
   "metadata": {},
   "source": [
    "## A. Cleaning and handling missing/undefined values\n",
    "Undefined values are any non-positive numerical or non-numerical values. In case of missing values, we will discuss the possible fixes and consequently decide on our way to handle them."
   ]
  },
  {
   "cell_type": "code",
   "execution_count": 17,
   "metadata": {},
   "outputs": [],
   "source": [
    "## probably nothing TODO"
   ]
  },
  {
   "cell_type": "markdown",
   "metadata": {},
   "source": [
    "## B. Consistency in Datasets\n",
    "Here we will verify that all days were correctly retrieved."
   ]
  },
  {
   "cell_type": "markdown",
   "metadata": {},
   "source": [
    "---\n",
    "# II. Generic Methods"
   ]
  },
  {
   "cell_type": "markdown",
   "metadata": {},
   "source": [
    "## A. Monthly Aggregation\n",
    "The data in our reference paper $\\text{Chilling Effects: Online Surveillance and Wikipedia Use}$ (*Jonathan W. Penney*), data is aggregated on a monthly basis and further computations are done on this transformation."
   ]
  },
  {
   "cell_type": "code",
   "execution_count": 18,
   "metadata": {},
   "outputs": [],
   "source": [
    "def agg_monthly(df) :\n",
    "    \"\"\"\n",
    "    Aggregates the pageviews in a monthly fashion. Returns a DataFrame with only the numerical columns summed.\n",
    "    Note : Sets the index to date.\n",
    "    \n",
    "    Parameters \n",
    "    ----------\n",
    "    df : pd DataFrame\n",
    "        df should have at least 3 columns containing `Article`, `Date` and `Pageviews`. Column with `Date` should be named 'Date'.\n",
    "    \"\"\"\n",
    "    # Aggregate monthly\n",
    "    dataMonthly = df.set_index('Date')\n",
    "    dataMonthly = dataMonthly.resample('M').sum()\n",
    "    # Verify period\n",
    "    print(f\"The formatted dataset correctly spans from {dataMonthly.index.min().date()} to {dataMonthly.index.max().date()}.\\n\")\n",
    "    \n",
    "    return dataMonthly"
   ]
  },
  {
   "cell_type": "markdown",
   "metadata": {},
   "source": [
    "## B. Mean Computation\n",
    "The first analysis technique done in the paper is a comparison of means before and after the interruption event. Let us write the methods for this purpose given a monthly pageviews dataset."
   ]
  },
  {
   "cell_type": "code",
   "execution_count": 19,
   "metadata": {},
   "outputs": [],
   "source": [
    "def divide_around_interruption(df, interruption, verbose=False) :\n",
    "    \"\"\"\n",
    "    Divides the dataset into a pre-interruption dataset and a post-interruption dataset. Returns 2 dataframes in (pre, post) order.\n",
    "    Note : The month of the interruption is included in the post-interruption dataset.\n",
    "    \n",
    "    Parameters \n",
    "    ----------\n",
    "    df : pd DataFrame\n",
    "        Pandas DataFrame containing the monthly pageviews around the interruption date.\n",
    "    interruption : string\n",
    "        Interruption date in the form of a string. Please use following fashion :\n",
    "        1st of May 1997 --> 1995-05-01\n",
    "    verbose : bool (default: False)\n",
    "        Display temp dataframes created in the process and other insightful information from the process.\n",
    "    \"\"\"\n",
    "    # Get pd.Timestamp object\n",
    "    revelations = pd.to_datetime(interruption)\n",
    "\n",
    "    # Creating both datasets\n",
    "    pre = df.loc[df.index < revelations]\n",
    "    post = df.loc[df.index > revelations]\n",
    "    if verbose :\n",
    "        print(\"Pre-interruption pageviews:\\n\", pre)\n",
    "        print(\"\\nPost-interruption pageviews:\\n\", post)\n",
    "\n",
    "    # Verifying operation\n",
    "    if verbose : \n",
    "        print(\"Verifying coherence for split around interruption date...\")\n",
    "    assert(df.size == (pre.size + post.size))\n",
    "    if verbose :\n",
    "        print(df.size == (pre.size + post.size))\n",
    "        \n",
    "    return pre, post"
   ]
  },
  {
   "cell_type": "code",
   "execution_count": 20,
   "metadata": {},
   "outputs": [],
   "source": [
    "def compute_mean_around_interruption(df, interruption, verbose=False) :\n",
    "    \"\"\"\n",
    "    Computes the mean number of pageviews before and after the interruption date. \n",
    "    Returns 2 means (2-tuple of numpy.float64) in (pre, post) order.\n",
    "    Note : The month of the interruption is included in the post-interruption dataset.\n",
    "    \n",
    "    Parameters \n",
    "    ----------\n",
    "    df : pd DataFrame\n",
    "        Pandas DataFrame containing the monthly pageviews around the interruption date.\n",
    "    interruption : string\n",
    "        Interruption date in the form of a string. Please use following fashion :\n",
    "        1st of May 1997 --> 1995-05-01\n",
    "    verbose : bool (default: False)\n",
    "        Display temp dataframes created in the process and other insightful information from the process.\n",
    "    \"\"\"\n",
    "    pre, post = divide_around_interruption(df, interruption, verbose=verbose)\n",
    "    return pre.mean()[0], post.mean()[0]"
   ]
  },
  {
   "cell_type": "markdown",
   "metadata": {},
   "source": [
    "## C. ITS Regression \n",
    "Following the formula of segmented regression of an interrupted time series (ITS) : \n",
    "$$\n",
    "Y_{t} = \\beta_{0}*\\text{time}+\\beta_{2}*\\text{intervention}+\\beta_{3}*\\text{postslope}+\\epsilon_{1}\n",
    "$$\n",
    "We define in the following the methods to perform such a regression."
   ]
  },
  {
   "cell_type": "code",
   "execution_count": 21,
   "metadata": {},
   "outputs": [],
   "source": [
    "def fit_model(formula, data, predictor, seed):\n",
    "    '''\n",
    "    Output a linear prediciton using an ordinary least squares linear regression.\n",
    "    :param string formula: the equation describing the model using patsy formula syntax\n",
    "    :param pd.DataFrame data: the dataframe containing the monthly grouped time series elements for fitting\n",
    "    :param pd.DataFrame predictors: the dataframe containing the monthly grouped time series elements for predicting\n",
    "    :param int seed: a seed for consistency\n",
    "    '''\n",
    "    # Declares model\n",
    "    mod = smf.ols(formula=formula, data=data)\n",
    "\n",
    "    # Fits the model (finds the optimal coefficients, adding a random seed for consistency)\n",
    "    np.random.seed(seed)\n",
    "    res = mod.fit()\n",
    "\n",
    "    # Optimal Coefficients\n",
    "    coefficients = res.params.values\n",
    "\n",
    "    # Compute predictions\n",
    "    ypred = res.predict(predictor)\n",
    "    return ypred"
   ]
  },
  {
   "cell_type": "code",
   "execution_count": 22,
   "metadata": {},
   "outputs": [],
   "source": [
    "def monthly_views_formatting(df, reference_point):\n",
    "    '''\n",
    "    Computes the dataframe containing the monthly grouped time series elements\n",
    "    :param pd.DataFrame df: the dataframe containing the daily time series elements\n",
    "    :param int reference_point: the time series interruption event\n",
    "    '''\n",
    "    # Create indexing for visualizing correctly on x-axis of the plot\n",
    "    g = df.copy()\n",
    "    g = g.reset_index()\n",
    "    g['index'] = g['index']+1\n",
    "    g['XT'] = np.where(g['index'] < reference_point, 0, g['index']-reference_point)\n",
    "    g['X'] = [0 if x < reference_point else 1 for x in g.index] \n",
    "    return g"
   ]
  },
  {
   "cell_type": "markdown",
   "metadata": {},
   "source": [
    "## D. Plotting\n",
    "The reference paper uses 3 types of plots to describe the results :\n",
    "* **Histogram** of means before and after the interruption event (*cf. figure 1 in reference paper*).\n",
    "* **Segmented regression** around the interrupted event for **1 set** of articles (*cf. figure 2 in reference paper*).\n",
    "* **Segmented regression** around the interrupted event for **2 sets** of articles (*cf. figure 4A in reference paper*).\n",
    "\n",
    "Additionally, the regression plots can feature confidence intervals if prompted by the user (cf. figure 4 in reference paper)."
   ]
  },
  {
   "cell_type": "code",
   "execution_count": 23,
   "metadata": {},
   "outputs": [],
   "source": [
    "def hist_mean(df, interruption, verbose=False, ytick_step=5e5) :\n",
    "    \"\"\"\n",
    "    \n",
    "    Parameters \n",
    "    ----------\n",
    "    df : pd DataFrame\n",
    "        Pandas DataFrame containing the monthly pageviews around the interruption date.\n",
    "    interruption : string\n",
    "        Interruption date in the form of a string. Please use following fashion :\n",
    "        1st of May 1997 --> 1995-05-01\n",
    "    verbose : bool (default: False)\n",
    "        Display temp dataframes created in the process and other insightful information from the process.\n",
    "    ytick_step : int (default: 5e5)\n",
    "        Step in pageviews between 2 ticks on the y axis\n",
    "    \"\"\"\n",
    "    # Get means around interruption\n",
    "    pre, post = compute_mean_around_interruption(df, interruption)\n",
    "    pre_int, post_int = int(pre), int(post)\n",
    "    \n",
    "    # Preparing labels and data\n",
    "    d = np.array([pre,post])\n",
    "    rev_date= pd.to_datetime(interruption).month_name()+', '+str(pd.to_datetime(interruption).year)\n",
    "    l = ['Pre-'+rev_date, 'Post-'+rev_date]\n",
    "    \n",
    "    # Plotting\n",
    "    fig, ax = plt.subplots(figsize=(5,6))\n",
    "    plt.bar(x=l, height=d, width=0.5)\n",
    "    \n",
    "    # Configuring the axes to fit the data\n",
    "    ymax = np.floor(d.max()/ytick_step +3)*ytick_step\n",
    "    plt.yticks(np.arange(0, ymax, ytick_step), [f'{v:,}' for v in np.arange(0, ymax, ytick_step, dtype=int)])\n",
    "    plt.ylabel('Total Views', labelpad=30)\n",
    "    \n",
    "    plt.grid(False)\n",
    "    plt.show()\n",
    "    \n",
    "    return None"
   ]
  },
  {
   "cell_type": "code",
   "execution_count": 24,
   "metadata": {
    "scrolled": true
   },
   "outputs": [],
   "source": [
    "def segmented_reg_1_set(df, interruption, reference_point, verbose=False, ytick_step=5e5, narts=None) :\n",
    "    \"\"\"\n",
    "    Plots the ITS of a dataset of monthly Pageviews around an interruption date.\n",
    "    \n",
    "    Parameters \n",
    "    ----------\n",
    "    df : pd DataFrame\n",
    "        Pandas DataFrame containing the monthly pageviews around the interruption date.\n",
    "    interruption : string\n",
    "        Interruption date in the form of a string. Please use following fashion :\n",
    "        1st of May 1997 --> 1995-05-01\n",
    "    verbose : bool (default: False)\n",
    "        Display temp dataframes created in the process and other insightful information from the process.\n",
    "    ytick_step : int (default: 5e5)\n",
    "        Step in pageviews between 2 ticks on the y axis\n",
    "    narts : int (default: None)\n",
    "        Number of articles summed in the monthly Pageviews. Used for the legend.\n",
    "    \"\"\"\n",
    "    # Divide around interruption\n",
    "    pre, post = divide_around_interruption(df, interruption, verbose=verbose)\n",
    "        \n",
    "    ## Plotting\n",
    "    \n",
    "    # Create dataframe with both periods identified\n",
    "    concatenated = pd.concat([\n",
    "        pre.reset_index(drop=True).assign(period='pre'), \n",
    "        post.reset_index(drop=True).assign(period='post')], ignore_index=True)\n",
    "\n",
    "    # Creating a month-identifier column\n",
    "    concatenated = concatenated.reset_index()\n",
    "    concatenated.columns.values[0]='Months'\n",
    "    concatenated['Months'] = concatenated['Months']+1\n",
    "    # The paper shifts monthly count to start from 1.\n",
    "\n",
    "    # Identifying both periods visually\n",
    "    pal = dict(pre=\"black\", post=\"grey\")\n",
    "    g = sns.FacetGrid(concatenated, hue='period', palette=pal, height=5, aspect=1.5, xlim=(-1, 33))\n",
    "\n",
    "    #### TODO use computed regression !\n",
    "    # Creating the regressions for both periods\n",
    "    g.map(sns.regplot, \"Months\", \"Pageviews\", ci=None, robust=1, scatter=False)\n",
    "\n",
    "    # Adding the scatter data separately\n",
    "    g.map(sns.scatterplot,  \"Months\", \"Pageviews\", color=\"black\")\n",
    "\n",
    "    # Configuring the axes to fit the data\n",
    "    plt.xticks(np.arange(0, concatenated.shape[0]+2, 2), np.arange(0, concatenated.shape[0]+2, 2, dtype=int))\n",
    "    ymin, ymax = np.floor(concatenated['Pageviews'].min()/ytick_step)*ytick_step, np.floor(concatenated['Pageviews'].max()/ytick_step +1)*ytick_step\n",
    "    plt.yticks(np.arange(ymin, ymax, ytick_step), np.arange(ymin, ymax, ytick_step, dtype=int))\n",
    "\n",
    "    # Configuring the labels to be as on paper\n",
    "    plt.ylabel(\"Total Views\"+ ( '('+narts+' Wikipedia Articles)' if narts else ''))\n",
    "    plt.xlabel(\"Time (Months)\")\n",
    "\n",
    "    # Adding grid to be as on paper\n",
    "    plt.grid(True, which='major', axis='y', alpha=0.3)\n",
    "\n",
    "    # Creating legend\n",
    "    rev_date= pd.to_datetime(interruption).month_name()+', '+str(pd.to_datetime(interruption).year)\n",
    "    legend = plt.legend(labels=[\"Trend Pre-\"+rev_date, \"Trend Post-\"+rev_date, \"Total Article Views (per month)\"], \n",
    "                        bbox_to_anchor=[1,-0.1], fontsize='medium', \n",
    "                        ncol=2, borderpad=0.75, handlelength=5)\n",
    "\n",
    "    # Adding interruption event line identifier\n",
    "    plt.text(reference_point+0.5,4.2e6,'Mid '+rev_date,horizontalalignment='center')\n",
    "    plt.axvline(reference_point+0.5, linewidth=2.5, color='black')\n",
    "\n",
    "    plt.show()"
   ]
  },
  {
   "cell_type": "code",
   "execution_count": 40,
   "metadata": {},
   "outputs": [],
   "source": [
    "def bootstrap_CI(data, nbr_draws):\n",
    "    '''\n",
    "    A bootstrapping function for obtaining a 95% confidence intervals [lower error, upper error] \n",
    "    around the monthly estimated average.\n",
    "    :param pd.DataFrame df: the dataframe containing the time series elements\n",
    "    :param int nbr_draws: the number of random samples\n",
    "    '''\n",
    "    means = np.empty((0,len(data)))\n",
    "    group_means= np.empty((0, 2))\n",
    "    for n in range(nbr_draws):\n",
    "        indices = np.random.randint(0, len(data), len(data))\n",
    "        data_tmp = data.iloc[indices].sort_values(by='index')\n",
    "        ypredi = fit_model('Pageviews ~ index + C(X) + XT', data=data_tmp, predictor=data, seed=n)\n",
    "        means = np.concatenate((means, np.array([ypredi])), axis = 0)\n",
    "    for i in range(len(data)):\n",
    "        group_means = np.append(group_means, np.array([[np.nanpercentile(means[:,i], 2.5), np.nanpercentile(means[:,i], 97.5)]]), axis=0)\n",
    "    return group_means"
   ]
  },
  {
   "cell_type": "code",
   "execution_count": 26,
   "metadata": {},
   "outputs": [],
   "source": [
    "def plot_trends_confidence_intervals(df, reference_point, ypred, y_error, color):\n",
    "    '''\n",
    "    Plot the monthly time series and regressions with the confidence interval for the \n",
    "    given dataset and its interruption moment.\n",
    "    :param pd.DataFrame df: the dataframe containing the time series elements\n",
    "    :param int reference_point: the interruption month's index\n",
    "    :param pandas.Series ypred: the trend values following the ITS regression model\n",
    "    :param numpy.ndarray y_error: the lower and upper 95% confidence interval\n",
    "    :param string color: the color for plotting\n",
    "    '''\n",
    "    plt.plot(df['index'][:reference_point], ypred[:reference_point], color=color, linestyle='-')\n",
    "    plt.plot(df['index'][reference_point:], ypred[reference_point:], color=color, linestyle='--')\n",
    "    plt.fill_between(df['index'][reference_point:], y_error[:,0][reference_point:], y_error[:,1][reference_point:], color=color, alpha=0.1)\n",
    "    plt.fill_between(df['index'][:reference_point], y_error[:,0][:reference_point], y_error[:,1][:reference_point], color=color, alpha=0.1)"
   ]
  },
  {
   "cell_type": "code",
   "execution_count": 27,
   "metadata": {},
   "outputs": [],
   "source": [
    "def plotting(intervention, treatment, control, reference_point, treatment_df, treatment_pred, treatment_error, control_df, control_pred, control_error):\n",
    "    '''\n",
    "    Plot the monthly time series and regressions with the confidence interval for the \n",
    "    given dataset and its interruption moment with labels\n",
    "    :param string intervention: name of intervention event\n",
    "    :param string treatment: name of treatment group\n",
    "    :param string control: name of control group\n",
    "    :param int reference_point: the intervention month's index\n",
    "    :param pd.DataFrame treatment_df: the treatment dataframe containing the time series elements\n",
    "    :param pandas.Series treatment_pred: the predicted trend values following the ITS regression model of the treatment group\n",
    "    :param numpy.ndarray treatment_error: the lower and upper 95% confidence interval of the treatment group\n",
    "    :param pd.DataFrame control_df: the control dataframe containing the time series elements\n",
    "    :param pandas.Series control_pred: the predicted trend values following the ITS regression model of the control group\n",
    "    :param numpy.ndarray control_error: the lower and upper 95% confidence interval of the control group\n",
    "    '''\n",
    "    \n",
    "    # Initialize plot style\n",
    "    sns.set_style(\"darkgrid\")\n",
    "\n",
    "    # Plot trends\n",
    "    plot_trends_confidence_intervals(treatment_df, reference_point, treatment_pred, treatment_error, 'tab:orange')\n",
    "    plot_trends_confidence_intervals(control_df, reference_point, control_pred, control_error, 'tab:blue')\n",
    "\n",
    "    # Add Labels\n",
    "    plt.xlabel(f\"Time [Months]\")\n",
    "    plt.ylabel(f\"Total Views (All Articles)\")\n",
    "    plt.title(intervention);\n",
    "\n",
    "    # Plot scatter points \n",
    "    sns.scatterplot(data=treatment_df, x=\"index\", y=\"Pageviews\", color='tab:orange')\n",
    "    sns.scatterplot(data=control_df, x=\"index\", y=\"Pageviews\", color='tab:blue')\n",
    "\n",
    "    # Add Legend\n",
    "    plt.legend(bbox_to_anchor=(-0.1, -0.55, 1.2, .102), loc='lower center',\n",
    "               ncol=2, mode=\"expand\", borderaxespad=0., \n",
    "               labels = [treatment + ' Article Trend Pre-' + intervention, treatment + ' Article Trend Post-' + intervention,\n",
    "                         control + ' Article Trend Pre-' + intervention, control + ' Article Trend Post-' + intervention,\n",
    "                         'Confidence Interval Pre-' + intervention, 'Confidence Interval Post-' + intervention, \n",
    "                         'Confidence Interval Pre-' + intervention, 'Confidence Interval Post-' + intervention,\n",
    "                         treatment + ' Articles Views (By Month)', control + ' Articles Views (By Month)'])\n",
    "\n",
    "    # Mark mid-June 2013\n",
    "    plt.axvline(reference_point+0.5, 0, color='black', lw=2)"
   ]
  },
  {
   "cell_type": "markdown",
   "metadata": {},
   "source": [
    "---\n",
    "# III. GDPR Adoption\n",
    "The European Parliament adopted the GDPR Regulation text on the $27^{th}$ of April $2016$. Our first case of interest are the following research questions at this date : \n",
    "* Is there an inverse chilling effect (e.g. immediate spike) following the announcement of the regulation adoption?\n",
    "* Has there been a change in trends in the viewing of critical terms related to the regulation after the event?\n",
    "\n",
    "We will thus answer these questions using the analysis methods from the reference paper and draw conclusions."
   ]
  },
  {
   "cell_type": "markdown",
   "metadata": {},
   "source": [
    "## A. Monthly Aggregation"
   ]
  },
  {
   "cell_type": "code",
   "execution_count": 80,
   "metadata": {},
   "outputs": [
    {
     "name": "stdout",
     "output_type": "stream",
     "text": [
      "The formatted dataset correctly spans from 2015-04-30 to 2019-05-31.\n",
      "\n",
      "The formatted dataset correctly spans from 2015-07-31 to 2019-12-31.\n",
      "\n"
     ]
    }
   ],
   "source": [
    "# Reference point is the month of April 2016\n",
    "reference_point = 12\n",
    "\n",
    "# Count the total number of views of treatment and control wikipedia article per month.\n",
    "g_treatment = agg_monthly(df).reset_index()\n",
    "g_control = agg_monthly(ctrl).reset_index()"
   ]
  },
  {
   "cell_type": "code",
   "execution_count": 81,
   "metadata": {},
   "outputs": [
    {
     "data": {
      "text/plain": [
       "0    24534.794872\n",
       "1    40796.210956\n",
       "2    57057.627040\n",
       "3    73319.043124\n",
       "4    89580.459207\n",
       "dtype: float64"
      ]
     },
     "execution_count": 81,
     "metadata": {},
     "output_type": "execute_result"
    }
   ],
   "source": [
    "# Compute trends predictions for treatment datasets\n",
    "temp_treatment = monthly_views_formatting(g_treatment, reference_point)\n",
    "ypred_treatment = fit_model(formula='Pageviews ~ index + C(X) + XT', data=temp_treatment, predictor=temp_treatment, seed=2)\n",
    "\n",
    "# Compute trends predictions for control datasets\n",
    "temp_control = monthly_views_formatting(g_control, reference_point)\n",
    "ypred_control = fit_model(formula='Pageviews ~ index + C(X) + XT', data=temp_control, predictor=temp_control, seed=2)\n",
    "\n",
    "ypred_treatment.head()"
   ]
  },
  {
   "cell_type": "markdown",
   "metadata": {},
   "source": [
    "## B. Mean Computation"
   ]
  },
  {
   "cell_type": "code",
   "execution_count": 82,
   "metadata": {},
   "outputs": [
    {
     "name": "stdout",
     "output_type": "stream",
     "text": [
      "The formatted dataset correctly spans from 2015-04-30 to 2019-05-31.\n",
      "\n"
     ]
    },
    {
     "data": {
      "image/png": "[encoded data removed]",
      "text/plain": [
       "<Figure size 360x432 with 1 Axes>"
      ]
     },
     "metadata": {},
     "output_type": "display_data"
    }
   ],
   "source": [
    "# Create an aggregated months DataFrame\n",
    "aggregated_months = agg_monthly(df)\n",
    "\n",
    "hist_mean(aggregated_months,'2016-04-27')"
   ]
  },
  {
   "cell_type": "markdown",
   "metadata": {},
   "source": [
    "## C. ITS Regression"
   ]
  },
  {
   "cell_type": "code",
   "execution_count": 84,
   "metadata": {
    "scrolled": true
   },
   "outputs": [
    {
     "data": {
      "image/png": "[encoded data removed]",
      "text/plain": [
       "<Figure size 540x360 with 1 Axes>"
      ]
     },
     "metadata": {},
     "output_type": "display_data"
    }
   ],
   "source": [
    "segmented_reg_1_set(aggregated_months, '2016-04-27', reference_point)"
   ]
  },
  {
   "cell_type": "code",
   "execution_count": 55,
   "metadata": {},
   "outputs": [],
   "source": [
    "# Compute 95% confidence intervals for each monthly estimated average\n",
    "y_error_treatment = bootstrap_CI(temp_treatment, 200)\n",
    "y_error_control = bootstrap_CI(temp_control, 200)"
   ]
  },
  {
   "cell_type": "code",
   "execution_count": 56,
   "metadata": {},
   "outputs": [
    {
     "data": {
      "image/png": "[encoded data removed]",
      "text/plain": [
       "<Figure size 432x288 with 1 Axes>"
      ]
     },
     "metadata": {},
     "output_type": "display_data"
    }
   ],
   "source": [
    "plotting('April', 'Treatment', 'Control', reference_point, temp_treatment, ypred_treatment, y_error_treatment, temp_control, ypred_control, y_error_control)"
   ]
  },
  {
   "cell_type": "markdown",
   "metadata": {},
   "source": [
    "---\n",
    "# GPDR Begginig of enforcement\n",
    "The GDPR regulation was applied starting from the $25^{th}$ of May $2018$ for every country of the European Union (EU) and European Economic Area (EEA). We aim to answer the following questions regarding the event : \n",
    "* Is there an inverse chilling effect (e.g. immediate spike) following the day when the regulation became effective?\n",
    "* Has there been a change in trends in the viewing of critical terms related to the regulation after the event?\n",
    "\n",
    "We will thus answer these questions using the analysis methods from the reference paper and draw conclusions."
   ]
  },
  {
   "cell_type": "markdown",
   "metadata": {},
   "source": [
    "## A. Monthly Aggregation"
   ]
  },
  {
   "cell_type": "code",
   "execution_count": 86,
   "metadata": {},
   "outputs": [],
   "source": [
    "# Reference point is the month of April 2016\n",
    "reference_point = 37"
   ]
  },
  {
   "cell_type": "code",
   "execution_count": 87,
   "metadata": {},
   "outputs": [
    {
     "data": {
      "text/plain": [
       "3    131332.744538\n",
       "4    132899.804584\n",
       "5    134466.864629\n",
       "6    136033.924675\n",
       "7    137600.984721\n",
       "dtype: float64"
      ]
     },
     "execution_count": 87,
     "metadata": {},
     "output_type": "execute_result"
    }
   ],
   "source": [
    "# Compute trends predictions for treatment datasets\n",
    "temp_treatment = monthly_views_formatting(g_treatment, reference_point)\n",
    "temp_treatment.drop(temp_treatment.index[:3], inplace=True)\n",
    "ypred_treatment = fit_model(formula='Pageviews ~ index + C(X) + XT', data=temp_treatment, predictor=temp_treatment, seed=2)\n",
    "\n",
    "# Compute trends predictions for control datasets\n",
    "temp_control = monthly_views_formatting(g_control, reference_point)\n",
    "ypred_control = fit_model(formula='Pageviews ~ index + C(X) + XT', data=temp_control, predictor=temp_control, seed=2)\n",
    "\n",
    "ypred_treatment.head()"
   ]
  },
  {
   "cell_type": "markdown",
   "metadata": {},
   "source": [
    "## B. Mean Computation"
   ]
  },
  {
   "cell_type": "code",
   "execution_count": 88,
   "metadata": {},
   "outputs": [
    {
     "name": "stdout",
     "output_type": "stream",
     "text": [
      "The formatted dataset correctly spans from 2015-04-30 to 2019-05-31.\n",
      "\n"
     ]
    },
    {
     "data": {
      "image/png": "[encoded data removed]",
      "text/plain": [
       "<Figure size 360x432 with 1 Axes>"
      ]
     },
     "metadata": {},
     "output_type": "display_data"
    }
   ],
   "source": [
    "hist_mean(agg_monthly(df),'2018-05-25')"
   ]
  },
  {
   "cell_type": "markdown",
   "metadata": {},
   "source": [
    "## C. ITS Regression"
   ]
  },
  {
   "cell_type": "code",
   "execution_count": 89,
   "metadata": {},
   "outputs": [
    {
     "data": {
      "image/png": "[encoded data removed]",
      "text/plain": [
       "<Figure size 540x360 with 1 Axes>"
      ]
     },
     "metadata": {},
     "output_type": "display_data"
    }
   ],
   "source": [
    "segmented_reg_1_set(aggregated_months, '2018-05-25', reference_point)"
   ]
  },
  {
   "cell_type": "code",
   "execution_count": 90,
   "metadata": {},
   "outputs": [],
   "source": [
    "# Compute 95% confidence intervals for each monthly estimated average\n",
    "y_error_treatment = bootstrap_CI(temp_treatment, 200)\n",
    "y_error_control = bootstrap_CI(temp_control, 200)"
   ]
  },
  {
   "cell_type": "code",
   "execution_count": 91,
   "metadata": {},
   "outputs": [
    {
     "data": {
      "image/png": "[encoded data removed]",
      "text/plain": [
       "<Figure size 432x288 with 1 Axes>"
      ]
     },
     "metadata": {},
     "output_type": "display_data"
    }
   ],
   "source": [
    "plotting('May', 'Treatment', 'Control', reference_point, temp_treatment, ypred_treatment, y_error_treatment, temp_control, ypred_control, y_error_control)"
   ]
  },
  {
   "cell_type": "markdown",
   "metadata": {},
   "source": [
    "# Conclusion"
   ]
  },
  {
   "cell_type": "code",
   "execution_count": null,
   "metadata": {},
   "outputs": [],
   "source": []
  },
  {
   "cell_type": "code",
   "execution_count": null,
   "metadata": {},
   "outputs": [],
   "source": []
  },
  {
   "cell_type": "code",
   "execution_count": null,
   "metadata": {},
   "outputs": [],
   "source": []
  },
  {
   "cell_type": "code",
   "execution_count": null,
   "metadata": {},
   "outputs": [],
   "source": []
  }
 ],
 "metadata": {
  "kernelspec": {
   "display_name": "Python 3",
   "language": "python",
   "name": "python3"
  },
  "language_info": {
   "codemirror_mode": {
    "name": "ipython",
    "version": 3
   },
   "file_extension": ".py",
   "mimetype": "text/x-python",
   "name": "python",
   "nbconvert_exporter": "python",
   "pygments_lexer": "ipython3",
   "version": "3.8.3"
  },
  "toc": {
   "base_numbering": 1,
   "nav_menu": {},
   "number_sections": true,
   "sideBar": true,
   "skip_h1_title": false,
   "title_cell": "Table of Contents",
   "title_sidebar": "Contents",
   "toc_cell": false,
   "toc_position": {},
   "toc_section_display": true,
   "toc_window_display": false
  }
 },
 "nbformat": 4,
 "nbformat_minor": 4
}
